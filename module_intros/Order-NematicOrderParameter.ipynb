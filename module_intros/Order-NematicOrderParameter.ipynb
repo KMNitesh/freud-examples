{
 "cells": [
  {
   "cell_type": "markdown",
   "metadata": {
    "slideshow": {
     "slide_type": "slide"
    }
   },
   "source": [
    "# NematicOrderParameter\n",
    "The `freud.order` module provids the tools to calculate various [order parameters](https://en.wikipedia.org/wiki/Phase_transition#Order_parameters) that can be used to identify phase transitions.\n",
    "This notebook demonstrates the [nematic order parameter](https://en.wikipedia.org/wiki/Liquid_crystal#Order_parameter), which can be used to identify systems with strong orientational ordering but no translational ordering.\n",
    "For this example, we'll start with a set of random positions in a 3D system, each with a fixed, assigned orientation.\n",
    "Then, we will show how deviations from these orientations are exhibited in the order parameter."
   ]
  },
  {
   "cell_type": "code",
   "execution_count": null,
   "metadata": {},
   "outputs": [],
   "source": [
    "import freud\n",
    "import numpy as np\n",
    "from matplotlib import pyplot as plt\n",
    "from mpl_toolkits.mplot3d import Axes3D\n",
    "import util"
   ]
  },
  {
   "cell_type": "markdown",
   "metadata": {},
   "source": [
    "In order to work with orientations in freud, we need to do some math with quaternions.\n",
    "If you are unfamiliar with quaternions, you can read more about [their definition](https://en.wikipedia.org/wiki/Quaternion) and how they can be used to [represent rotations](https://en.wikipedia.org/wiki/Quaternions_and_spatial_rotation).\n",
    "For the purpose of this tutorial, just consider them as 4D vectors, and know that the set of normalized (*i.e.* unit norm) 4D vectors can be used to represent rotations in 3D.\n",
    "In fact, there is a 1-1 mapping between normalize quaternions and 3x3 rotation matrices.\n",
    "Quaternions are more computationally convenient, however, because they only require storing 4 numbers rather than 9, and they can be much more easily chained together.\n",
    "For our purposes, you can largely ignore the contents of the next cell, other than to note that this is how we perform rotations of vectors using quaternions instead of matrices."
   ]
  },
  {
   "cell_type": "code",
   "execution_count": null,
   "metadata": {},
   "outputs": [],
   "source": [
    "# These functions are adapted from the rowan quaternion library.\n",
    "# See rowan.readthedocs.io for more information.\n",
    "def quat_multiply(qi, qj):\n",
    "    \"\"\"Multiply two sets of quaternions.\"\"\"\n",
    "    output = np.empty(np.broadcast(qi, qj).shape)\n",
    "\n",
    "    output[..., 0] = qi[..., 0] * qj[..., 0] - \\\n",
    "        np.sum(qi[..., 1:] * qj[..., 1:], axis=-1)\n",
    "    output[..., 1:] = (qi[..., 0, np.newaxis] * qj[..., 1:] +\n",
    "                       qj[..., 0, np.newaxis] * qi[..., 1:] +\n",
    "                       np.cross(qi[..., 1:], qj[..., 1:]))\n",
    "    return output\n",
    "\n",
    "def quat_rotate(q, v):\n",
    "    \"\"\"Rotate a vector by a quaternion.\"\"\"\n",
    "    v = np.array([0, *v])\n",
    "    \n",
    "    q_conj = q.copy()\n",
    "    q_conj[..., 1:] *= -1\n",
    "    \n",
    "    return quat_multiply(q, quat_multiply(v, q_conj))[..., 1:]"
   ]
  },
  {
   "cell_type": "code",
   "execution_count": null,
   "metadata": {},
   "outputs": [],
   "source": [
    "# Random positions are fine for this. Order is measured\n",
    "# in terms of similarity of orientations, not positions.\n",
    "L = 10\n",
    "positions = np.random.rand(100, 3)*L - L/2\n",
    "box = freud.box.Box.cube(L=L)\n",
    "orientations = np.zeros((100, 4))\n",
    "orientations[:, 0] = 1  # Quaternion (1, 0, 0, 0) is default orientation"
   ]
  },
  {
   "cell_type": "code",
   "execution_count": null,
   "metadata": {},
   "outputs": [],
   "source": [
    "# To show orientations, we use arrows rotated by the quaternions.\n",
    "arrowheads = quat_rotate(orientations, np.array([1, 0, 0]))\n",
    "\n",
    "fig = plt.figure()\n",
    "ax = fig.add_subplot(111, projection='3d')\n",
    "ax.quiver3D(positions[:, 0], positions[:, 1], positions[:, 2],\n",
    "            arrowheads[:, 0], arrowheads[:, 1], arrowheads[:, 2])\n",
    "ax.set_title(\"Orientations\", fontsize=16);"
   ]
  },
  {
   "cell_type": "markdown",
   "metadata": {},
   "source": [
    "The nematic order parameter provides a measure of how much of the system is aligned with respect to some provided reference vector.\n",
    "As a result, we can now compute the order parameter for a few simple cases.\n",
    "Since our original system is oriented along the x-axis, we can immediately test for that, as well as orientation along any of the other coordinate axes."
   ]
  },
  {
   "cell_type": "code",
   "execution_count": null,
   "metadata": {},
   "outputs": [],
   "source": [
    "nop = freud.order.NematicOrderParameter([1, 0, 0])\n",
    "nop.compute(orientations)\n",
    "print(\"The value of the order parameter is {}.\".format(nop.nematic_order_parameter))"
   ]
  },
  {
   "cell_type": "markdown",
   "metadata": {},
   "source": [
    "In general, the nematic order parameter is defined as the eigenvalue corresponding to the largest eigenvector of the nematic tensor, which is also computed by this class and provides an average over the orientations of all particles in the system.\n",
    "As a result, we can also look at the intermediate results of our calculation and see how they are related.\n",
    "To do so, let's consider a more interesting system with random orientations."
   ]
  },
  {
   "cell_type": "code",
   "execution_count": null,
   "metadata": {},
   "outputs": [],
   "source": [
    "# Quaternions can be simply sampled as 4-vectors.\n",
    "# Note that these samples are not uniformly distributed rotations,\n",
    "# but that is not important for our current applications.\n",
    "# However, we must ensure that the quaternions are normalized: \n",
    "# only unit quaternions represent rotations.\n",
    "np.random.seed(0)\n",
    "v = 0.05\n",
    "orientations = np.random.multivariate_normal(mean=[1, 0, 0, 0], cov=v*np.eye(4), size=positions.shape[0])\n",
    "orientations /= np.linalg.norm(orientations, axis=1)[:, np.newaxis]"
   ]
  },
  {
   "cell_type": "code",
   "execution_count": null,
   "metadata": {},
   "outputs": [],
   "source": [
    "# To show orientations, we use arrows rotated by the quaternions.\n",
    "arrowheads = quat_rotate(orientations, np.array([1, 0, 0]))\n",
    "\n",
    "fig = plt.figure()\n",
    "ax = fig.add_subplot(111, projection='3d')\n",
    "ax.quiver3D(positions[:, 0], positions[:, 1], positions[:, 2],\n",
    "            arrowheads[:, 0], arrowheads[:, 1], arrowheads[:, 2])\n",
    "ax.set_title(\"Orientations\", fontsize=16);"
   ]
  },
  {
   "cell_type": "markdown",
   "metadata": {},
   "source": [
    "First, we see that for this nontrivial system the order parameter now depends on the choice of director."
   ]
  },
  {
   "cell_type": "code",
   "execution_count": null,
   "metadata": {},
   "outputs": [],
   "source": [
    "axes = [[1, 0, 0], [0, 1, 0], [0, 0, 1], [1, 1, 0], [1, 0, 1], [0, 1, 1], [1, 1, 1]]\n",
    "for ax in axes:\n",
    "    nop = freud.order.NematicOrderParameter(ax)\n",
    "    nop.compute(orientations)\n",
    "    print(\"For axis {}, the value of the order parameter is {:0.3f}.\".format(ax, nop.nematic_order_parameter))"
   ]
  },
  {
   "cell_type": "markdown",
   "metadata": {},
   "source": [
    "Furthermore, increasing the amount of variance in the orientations depresses the value of the order parameter even further."
   ]
  },
  {
   "cell_type": "code",
   "execution_count": null,
   "metadata": {},
   "outputs": [],
   "source": [
    "v = 0.5\n",
    "orientations = np.random.multivariate_normal(mean=[1, 0, 0, 0], cov=v*np.eye(4), size=positions.shape[0])\n",
    "orientations /= np.linalg.norm(orientations, axis=1)[:, np.newaxis]\n",
    "\n",
    "arrowheads = quat_rotate(orientations, np.array([1, 0, 0]))\n",
    "fig = plt.figure()\n",
    "ax = fig.add_subplot(111, projection='3d')\n",
    "ax.quiver3D(positions[:, 0], positions[:, 1], positions[:, 2],\n",
    "            arrowheads[:, 0], arrowheads[:, 1], arrowheads[:, 2])\n",
    "ax.set_title(\"Orientations\", fontsize=16);\n",
    "\n",
    "axes = [[1, 0, 0], [0, 1, 0], [0, 0, 1], [1, 1, 0], [1, 0, 1], [0, 1, 1], [1, 1, 1]]\n",
    "for ax in axes:\n",
    "    nop = freud.order.NematicOrderParameter(ax)\n",
    "    nop.compute(orientations)\n",
    "    print(\"For axis {}, the value of the order parameter is {:0.3f}.\".format(ax, nop.nematic_order_parameter))\n"
   ]
  },
  {
   "cell_type": "markdown",
   "metadata": {},
   "source": [
    "Finally, we can look at the per-particle quantities and build them up to get the actual value of the order parameter."
   ]
  },
  {
   "cell_type": "code",
   "execution_count": null,
   "metadata": {},
   "outputs": [],
   "source": [
    "# The per-particle values averaged give the nematic tensor\n",
    "print(np.allclose(np.mean(nop.particle_tensor, axis=0), nop.nematic_tensor))\n",
    "print(\"The nematic tensor:\")\n",
    "print(nop.nematic_tensor)\n",
    "\n",
    "eig = np.linalg.eig(nop.nematic_tensor)\n",
    "print(\"The eigenvalues of the nematic tensor:\")\n",
    "print(eig[0])\n",
    "print(\"The eigenvectors of the nematic tensor:\")\n",
    "print(eig[1])\n",
    "\n",
    "# The largest eigenvalue\n",
    "print(\"The largest eigenvalue, {:0.3f}, is equal to the order parameter {:0.3f}.\".format(\n",
    "    np.max(eig[0]), nop.nematic_order_parameter))"
   ]
  }
 ],
 "metadata": {
  "anaconda-cloud": {},
  "kernelspec": {
   "display_name": "Python 3",
   "language": "python",
   "name": "python3"
  },
  "language_info": {
   "codemirror_mode": {
    "name": "ipython",
    "version": 3
   },
   "file_extension": ".py",
   "mimetype": "text/x-python",
   "name": "python",
   "nbconvert_exporter": "python",
   "pygments_lexer": "ipython3",
   "version": "3.7.3"
  }
 },
 "nbformat": 4,
 "nbformat_minor": 1
}
