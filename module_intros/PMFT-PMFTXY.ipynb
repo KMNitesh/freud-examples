{
 "cells": [
  {
   "cell_type": "markdown",
   "metadata": {},
   "source": [
    "# PMFTXY\n",
    "\n",
    "The PMFT returns the potential energy associated with finding a particle pair in a given spatial (positional and orientational) configuration. The PMFT is computed in the same manner as the RDF. The basic algorithm is described below:\n",
    "\n",
    "```\n",
    "for each particle i:\n",
    "    for each particle j:\n",
    "        v_ij = position[j] - position[i]\n",
    "        bin_x, bin_y = convert_to_bin(v_ij)\n",
    "        pcf_array[bin_y][bin_x]++\n",
    "```\n",
    "\n",
    "`freud` uses spatial data structures and parallelism to optimize this algorithm.\n",
    "\n",
    "The data sets used in this example are a system of hard hexagons, simulated in the NVT thermodynamic ensemble in HOOMD-blue, for a dense fluid of hexagons at packing fraction $\\phi = 0.65$ and solids at packing fractions $\\phi = 0.75, 0.85$."
   ]
  },
  {
   "cell_type": "code",
   "execution_count": 1,
   "metadata": {},
   "outputs": [],
   "source": [
    "import freud\n",
    "freud.set_num_threads(4)\n",
    "import numpy as np\n",
    "import matplotlib\n",
    "from matplotlib import pyplot as plt\n",
    "import util\n",
    "from scipy.ndimage.filters import gaussian_filter\n",
    "\n",
    "%matplotlib inline\n",
    "matplotlib.rcParams.update({'font.size': 20,\n",
    "                            'axes.titlesize': 20,\n",
    "                            'axes.labelsize': 20,\n",
    "                            'xtick.labelsize': 16,\n",
    "                            'ytick.labelsize': 16,\n",
    "                            'savefig.pad_inches': 0.025,\n",
    "                            'lines.linewidth': 2})"
   ]
  },
  {
   "cell_type": "code",
   "execution_count": 2,
   "metadata": {},
   "outputs": [],
   "source": [
    "def plot_pmft(data_path, phi):\n",
    "    # Create the pmft object\n",
    "    pmft = freud.pmft.PMFTXY(x_max=3.0, y_max=3.0, bins=300)\n",
    "\n",
    "    # Load the data\n",
    "    box_data = np.load(\"{}/box_data.npy\".format(data_path))\n",
    "    pos_data = np.load(\"{}/pos_data.npy\".format(data_path))\n",
    "    quat_data = np.load(\"{}/quat_data.npy\".format(data_path))\n",
    "    n_frames = pos_data.shape[0]\n",
    "\n",
    "    for i in range(1, n_frames):\n",
    "        # Read box, position data\n",
    "        box = box_data[i].tolist()\n",
    "        points = pos_data[i]\n",
    "        quats = quat_data[i]\n",
    "        angles = 2*np.arctan2(quats[:, 3], quats[:, 0]) % (2 * np.pi)\n",
    "        pmft.compute((box, points), angles, reset=False)\n",
    "\n",
    "    # Get the value of the PMFT histogram bins\n",
    "    pmft_arr = pmft.pmft\n",
    "\n",
    "    # Do some simple post-processing for plotting purposes\n",
    "    pmft_arr[np.isinf(pmft_arr)] = np.nan\n",
    "    dx = (2.0 * 3.0) / pmft.n_bins_X\n",
    "    dy = (2.0 * 3.0) / pmft.n_bins_Y\n",
    "    nan_arr = np.where(np.isnan(pmft_arr))\n",
    "    for i in range(pmft.n_bins_X):\n",
    "        x = -3.0 + dx * i\n",
    "        for j in range(pmft.n_bins_Y):\n",
    "            y = -3.0 + dy * j\n",
    "            if ((x*x + y*y < 1.5) and (np.isnan(pmft_arr[j, i]))):\n",
    "                pmft_arr[j, i] = 10.0\n",
    "    w = int(2.0 * pmft.n_bins_X / (2.0 * 3.0))\n",
    "    center = int(pmft.n_bins_X / 2)\n",
    "    \n",
    "    # Get the center of the histogram bins\n",
    "    pmft_smooth = gaussian_filter(pmft_arr, 1)\n",
    "    pmft_image = np.copy(pmft_smooth)\n",
    "    pmft_image[nan_arr] = np.nan\n",
    "    pmft_smooth = pmft_smooth[center-w:center+w, center-w:center+w]\n",
    "    pmft_image = pmft_image[center-w:center+w, center-w:center+w]\n",
    "    x = pmft.X\n",
    "    y = pmft.Y\n",
    "    reduced_x = x[center-w:center+w]\n",
    "    reduced_y = y[center-w:center+w]\n",
    "\n",
    "    # Plot figures\n",
    "    f = plt.figure(figsize=(12, 5), facecolor='white')\n",
    "    values = [-2, -1, 0, 2]\n",
    "    norm = matplotlib.colors.Normalize(vmin=-2.5, vmax=3.0)\n",
    "    n_values = [norm(i) for i in values]\n",
    "    colors = matplotlib.cm.viridis(n_values)\n",
    "    colors = colors[:, :3]\n",
    "    verts = util.make_polygon(sides=6, radius=0.6204)\n",
    "    lims = (-2, 2)\n",
    "    ax0 = f.add_subplot(1, 2, 1)\n",
    "    ax1 = f.add_subplot(1, 2, 2)\n",
    "    for ax in (ax0, ax1):\n",
    "        ax.contour(reduced_x, reduced_y, pmft_smooth,\n",
    "                   [9, 10], colors='black')\n",
    "        ax.contourf(reduced_x, reduced_y, pmft_smooth,\n",
    "                    [9, 10], hatches='X', colors='none')\n",
    "        ax.plot(verts[:,0], verts[:,1], color='black', marker=',')\n",
    "        ax.fill(verts[:,0], verts[:,1], color='black')\n",
    "        ax.set_aspect('equal')\n",
    "        ax.set_xlim(lims)\n",
    "        ax.set_ylim(lims)\n",
    "        ax.xaxis.set_ticks([i for i in range(lims[0], lims[1]+1)])\n",
    "        ax.yaxis.set_ticks([i for i in range(lims[0], lims[1]+1)])\n",
    "        ax.set_xlabel(r'$x$')\n",
    "        ax.set_ylabel(r'$y$')\n",
    "        \n",
    "    ax0.set_title('PMFT Heat Map, $\\phi = {}$'.format(phi))\n",
    "    im = ax0.imshow(np.flipud(pmft_image),\n",
    "                    extent=[lims[0], lims[1], lims[0], lims[1]],\n",
    "                    interpolation='nearest', cmap='viridis',\n",
    "                    vmin=-2.5, vmax=3.0)\n",
    "    ax1.set_title('PMFT Contour Plot, $\\phi = {}$'.format(phi))\n",
    "    ax1.contour(reduced_x, reduced_y, pmft_smooth,\n",
    "            [-2, -1, 0, 2], colors=colors)\n",
    "    \n",
    "    f.subplots_adjust(right=0.85)\n",
    "    cbar_ax = f.add_axes([0.88, 0.1, 0.02, 0.8])\n",
    "    f.colorbar(im, cax=cbar_ax)\n",
    "    plt.show()"
   ]
  },
  {
   "cell_type": "markdown",
   "metadata": {},
   "source": [
    "## 65% density\n",
    "The plot below shows the PMFT of hexagons at 65% density. The hexagons tend to be close to one another, in the darker regions (the lower values of the potential of mean force and torque).\n",
    "\n",
    "The hatched region near the black hexagon in the center is a region where no data were collected: the hexagons are hard shapes and cannot overlap, so there is an excluded region of space close to the hexagon.\n",
    "\n",
    "The ring around the hexagon where the PMFT rises and then falls corresponds to the minimum of the radial distribution function -- particles tend to not occupy that region, preferring instead to be at close range (in the first neighbor shell) or further away (in the second neighbor shell)."
   ]
  },
  {
   "cell_type": "code",
   "execution_count": 3,
   "metadata": {},
   "outputs": [
    {
     "ename": "ValueError",
     "evalue": "Attempted to access index 90105 in an array of size 90000\n",
     "output_type": "error",
     "traceback": [
      "\u001b[0;31m---------------------------------------------------------------------------\u001b[0m",
      "\u001b[0;31mValueError\u001b[0m                                Traceback (most recent call last)",
      "\u001b[0;32m<ipython-input-3-dac1a04c7b57>\u001b[0m in \u001b[0;36m<module>\u001b[0;34m\u001b[0m\n\u001b[0;32m----> 1\u001b[0;31m \u001b[0mplot_pmft\u001b[0m\u001b[0;34m(\u001b[0m\u001b[0;34m'data/phi065'\u001b[0m\u001b[0;34m,\u001b[0m \u001b[0;36m0.65\u001b[0m\u001b[0;34m)\u001b[0m\u001b[0;34m\u001b[0m\u001b[0;34m\u001b[0m\u001b[0m\n\u001b[0m",
      "\u001b[0;32m<ipython-input-2-4b2c39fb3a86>\u001b[0m in \u001b[0;36mplot_pmft\u001b[0;34m(data_path, phi)\u001b[0m\n\u001b[1;32m     15\u001b[0m         \u001b[0mquats\u001b[0m \u001b[0;34m=\u001b[0m \u001b[0mquat_data\u001b[0m\u001b[0;34m[\u001b[0m\u001b[0mi\u001b[0m\u001b[0;34m]\u001b[0m\u001b[0;34m\u001b[0m\u001b[0;34m\u001b[0m\u001b[0m\n\u001b[1;32m     16\u001b[0m         \u001b[0mangles\u001b[0m \u001b[0;34m=\u001b[0m \u001b[0;36m2\u001b[0m\u001b[0;34m*\u001b[0m\u001b[0mnp\u001b[0m\u001b[0;34m.\u001b[0m\u001b[0marctan2\u001b[0m\u001b[0;34m(\u001b[0m\u001b[0mquats\u001b[0m\u001b[0;34m[\u001b[0m\u001b[0;34m:\u001b[0m\u001b[0;34m,\u001b[0m \u001b[0;36m3\u001b[0m\u001b[0;34m]\u001b[0m\u001b[0;34m,\u001b[0m \u001b[0mquats\u001b[0m\u001b[0;34m[\u001b[0m\u001b[0;34m:\u001b[0m\u001b[0;34m,\u001b[0m \u001b[0;36m0\u001b[0m\u001b[0;34m]\u001b[0m\u001b[0;34m)\u001b[0m \u001b[0;34m%\u001b[0m \u001b[0;34m(\u001b[0m\u001b[0;36m2\u001b[0m \u001b[0;34m*\u001b[0m \u001b[0mnp\u001b[0m\u001b[0;34m.\u001b[0m\u001b[0mpi\u001b[0m\u001b[0;34m)\u001b[0m\u001b[0;34m\u001b[0m\u001b[0;34m\u001b[0m\u001b[0m\n\u001b[0;32m---> 17\u001b[0;31m         \u001b[0mpmft\u001b[0m\u001b[0;34m.\u001b[0m\u001b[0mcompute\u001b[0m\u001b[0;34m(\u001b[0m\u001b[0;34m(\u001b[0m\u001b[0mbox\u001b[0m\u001b[0;34m,\u001b[0m \u001b[0mpoints\u001b[0m\u001b[0;34m)\u001b[0m\u001b[0;34m,\u001b[0m \u001b[0mangles\u001b[0m\u001b[0;34m,\u001b[0m \u001b[0mreset\u001b[0m\u001b[0;34m=\u001b[0m\u001b[0;32mFalse\u001b[0m\u001b[0;34m)\u001b[0m\u001b[0;34m\u001b[0m\u001b[0;34m\u001b[0m\u001b[0m\n\u001b[0m\u001b[1;32m     18\u001b[0m \u001b[0;34m\u001b[0m\u001b[0m\n\u001b[1;32m     19\u001b[0m     \u001b[0;31m# Get the value of the PMFT histogram bins\u001b[0m\u001b[0;34m\u001b[0m\u001b[0;34m\u001b[0m\u001b[0;34m\u001b[0m\u001b[0m\n",
      "\u001b[0;32mfreud/pmft.pyx\u001b[0m in \u001b[0;36mfreud.pmft.PMFTXY.compute\u001b[0;34m()\u001b[0m\n",
      "\u001b[0;31mValueError\u001b[0m: Attempted to access index 90105 in an array of size 90000\n"
     ]
    }
   ],
   "source": [
    "plot_pmft('data/phi065', 0.65)"
   ]
  },
  {
   "cell_type": "markdown",
   "metadata": {},
   "source": [
    "## 75% density\n",
    "As the system density is increased to 75%, the propensity for hexagons to occupy the six sites on the faces of their neighbors increases, as seen by the deeper (darker) wells of the PMFT. Conversely, the shapes strongly dislike occupying the yellow regions, and no particle pairs occupied the white region (so there is no data)."
   ]
  },
  {
   "cell_type": "code",
   "execution_count": null,
   "metadata": {},
   "outputs": [],
   "source": [
    "plot_pmft('data/phi075', 0.75)"
   ]
  },
  {
   "cell_type": "markdown",
   "metadata": {},
   "source": [
    "## 85% density\n",
    "Finally, at 85% density, there is a large region where no neighbors can be found, and hexagons strictly occupy sites near those of the perfect hexagonal lattice, at the first- and second-neighbor shells. The wells are deeper and much more spatially confined that those of the systems at lower densities."
   ]
  },
  {
   "cell_type": "code",
   "execution_count": null,
   "metadata": {},
   "outputs": [],
   "source": [
    "plot_pmft('data/phi085', 0.85)"
   ]
  }
 ],
 "metadata": {
  "kernelspec": {
   "display_name": "Python 3",
   "language": "python",
   "name": "python3"
  },
  "language_info": {
   "codemirror_mode": {
    "name": "ipython",
    "version": 3
   },
   "file_extension": ".py",
   "mimetype": "text/x-python",
   "name": "python",
   "nbconvert_exporter": "python",
   "pygments_lexer": "ipython3",
   "version": "3.7.3"
  }
 },
 "nbformat": 4,
 "nbformat_minor": 2
}
