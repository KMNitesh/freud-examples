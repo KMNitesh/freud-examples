{
 "cells": [
  {
   "cell_type": "markdown",
   "metadata": {},
   "source": [
    "# PeriodicBuffer - Unit Cell RDF\n",
    "The `PeriodicBuffer` class is meant to replicate points beyond a single image while respecting box periodicity. This example demonstrates how we can use this to compute the radial distribution function from a sample crystal's unit cell."
   ]
  },
  {
   "cell_type": "code",
   "execution_count": 1,
   "metadata": {},
   "outputs": [],
   "source": [
    "%matplotlib inline\n",
    "import freud\n",
    "import numpy as np\n",
    "import matplotlib\n",
    "import matplotlib.pyplot as plt\n",
    "from util import box_2d_to_points"
   ]
  },
  {
   "cell_type": "markdown",
   "metadata": {},
   "source": [
    "Here, we create a box to represent the unit cell and put two points inside. We plot the box and points below."
   ]
  },
  {
   "cell_type": "code",
   "execution_count": 2,
   "metadata": {},
   "outputs": [
    {
     "data": {
      "image/png": "[encoded data removed]",
      "text/plain": [
       "<Figure size 432x288 with 1 Axes>"
      ]
     },
     "metadata": {
      "needs_background": "light"
     },
     "output_type": "display_data"
    }
   ],
   "source": [
    "box = freud.box.Box(Lx=2, Ly=2, xy=np.sqrt(1/3), is2D=True)\n",
    "points = np.asarray([[-0.5, -0.5, 0], [0.5, 0.5, 0]])\n",
    "corners = box_2d_to_points(box)\n",
    "ax = plt.gca()\n",
    "box_patch = plt.Polygon(corners[:, :2])\n",
    "patch_collection = matplotlib.collections.PatchCollection([box_patch], edgecolors='black', alpha=0.4)\n",
    "ax.add_collection(patch_collection)\n",
    "plt.scatter(points[:, 0], points[:, 1])\n",
    "plt.show()"
   ]
  },
  {
   "cell_type": "markdown",
   "metadata": {},
   "source": [
    "Next, we create a `PeriodicBuffer` instance and have it compute the \"buffer\" points that lie outside the first periodicity. These positions are stored in the `buffer_positions` attribute. The corresponding `buffer_ids` array gives a mapping from the index of the buffer particle to the index of the particle it was replicated from, in the original array of `points`. Finally, the `buffer_box` attribute returns a larger box, expanded from the original box to contain the replicated points."
   ]
  },
  {
   "cell_type": "code",
   "execution_count": 3,
   "metadata": {},
   "outputs": [
    {
     "name": "stdout",
     "output_type": "stream",
     "text": [
      "[[ 0.65470022  1.5         0.        ]\n",
      " [ 1.80940032  3.5         0.        ]\n",
      " [ 2.96410179  5.5         0.        ]\n",
      " [-3.96410131 -6.5         0.        ]\n",
      " [-2.80940104 -4.49999952  0.        ]\n",
      " [-1.65470016 -2.50000048  0.        ]\n",
      " [ 1.50000024 -0.5         0.        ]\n",
      " [ 2.65470076  1.5         0.        ]\n",
      " [ 3.80940032  3.5         0.        ]\n",
      " [ 4.96410179  5.5         0.        ]] ...\n"
     ]
    }
   ],
   "source": [
    "pbuff = freud.box.PeriodicBuffer()\n",
    "pbuff.compute((box, points), 6, images=True)\n",
    "print(pbuff.buffer_points[:10], '...')"
   ]
  },
  {
   "cell_type": "markdown",
   "metadata": {},
   "source": [
    "Below, we plot the original unit cell and the replicated buffer points and buffer box."
   ]
  },
  {
   "cell_type": "code",
   "execution_count": 4,
   "metadata": {},
   "outputs": [
    {
     "data": {
      "image/png": "[encoded data removed]",
      "text/plain": [
       "<Figure size 432x288 with 1 Axes>"
      ]
     },
     "metadata": {
      "needs_background": "light"
     },
     "output_type": "display_data"
    }
   ],
   "source": [
    "plt.scatter(points[:, 0], points[:, 1])\n",
    "plt.scatter(pbuff.buffer_points[:, 0], pbuff.buffer_points[:, 1])\n",
    "box_patch = plt.Polygon(corners[:, :2])\n",
    "buff_corners = box_2d_to_points(pbuff.buffer_box)\n",
    "buff_box_patch = plt.Polygon(buff_corners[:, :2])\n",
    "patch_collection = matplotlib.collections.PatchCollection(\n",
    "    [box_patch, buff_box_patch], facecolors=['blue', 'orange'],\n",
    "    edgecolors='black', alpha=0.2)\n",
    "plt.gca().add_collection(patch_collection)\n",
    "plt.show()"
   ]
  },
  {
   "cell_type": "markdown",
   "metadata": {},
   "source": [
    "Finally, we can plot the radial distribution function (RDF) of this replicated system, using a value of `rmax` that is larger than the size of the original box. This allows us to see the interaction of the original points in `ref_points` with their replicated neighbors from the buffer in `points`."
   ]
  },
  {
   "cell_type": "code",
   "execution_count": 6,
   "metadata": {},
   "outputs": [
    {
     "ename": "AttributeError",
     "evalue": "'freud.density.RDF' object has no attribute 'R'",
     "output_type": "error",
     "traceback": [
      "\u001b[0;31m---------------------------------------------------------------------------\u001b[0m",
      "\u001b[0;31mAttributeError\u001b[0m                            Traceback (most recent call last)",
      "\u001b[0;32m<ipython-input-6-6ecc48b64eb9>\u001b[0m in \u001b[0;36m<module>\u001b[0;34m\u001b[0m\n\u001b[1;32m      1\u001b[0m \u001b[0mrdf\u001b[0m \u001b[0;34m=\u001b[0m \u001b[0mfreud\u001b[0m\u001b[0;34m.\u001b[0m\u001b[0mdensity\u001b[0m\u001b[0;34m.\u001b[0m\u001b[0mRDF\u001b[0m\u001b[0;34m(\u001b[0m\u001b[0mbins\u001b[0m\u001b[0;34m=\u001b[0m\u001b[0;36m250\u001b[0m\u001b[0;34m,\u001b[0m \u001b[0mr_max\u001b[0m\u001b[0;34m=\u001b[0m\u001b[0;36m5\u001b[0m\u001b[0;34m)\u001b[0m\u001b[0;34m\u001b[0m\u001b[0;34m\u001b[0m\u001b[0m\n\u001b[1;32m      2\u001b[0m \u001b[0mrdf\u001b[0m\u001b[0;34m.\u001b[0m\u001b[0mcompute\u001b[0m\u001b[0;34m(\u001b[0m\u001b[0;34m(\u001b[0m\u001b[0mpbuff\u001b[0m\u001b[0;34m.\u001b[0m\u001b[0mbuffer_box\u001b[0m\u001b[0;34m,\u001b[0m \u001b[0mpbuff\u001b[0m\u001b[0;34m.\u001b[0m\u001b[0mbuffer_points\u001b[0m\u001b[0;34m)\u001b[0m\u001b[0;34m,\u001b[0m \u001b[0mpoints\u001b[0m\u001b[0;34m)\u001b[0m\u001b[0;34m\u001b[0m\u001b[0;34m\u001b[0m\u001b[0m\n\u001b[0;32m----> 3\u001b[0;31m \u001b[0mrdf\u001b[0m\u001b[0;34m.\u001b[0m\u001b[0mplot\u001b[0m\u001b[0;34m(\u001b[0m\u001b[0;34m)\u001b[0m\u001b[0;34m\u001b[0m\u001b[0;34m\u001b[0m\u001b[0m\n\u001b[0m",
      "\u001b[0;32mfreud/density.pyx\u001b[0m in \u001b[0;36mfreud.density.RDF.plot\u001b[0;34m()\u001b[0m\n",
      "\u001b[0;32mfreud/util.pyx\u001b[0m in \u001b[0;36mfreud.util.Compute.__getattribute__\u001b[0;34m()\u001b[0m\n",
      "\u001b[0;31mAttributeError\u001b[0m: 'freud.density.RDF' object has no attribute 'R'"
     ]
    }
   ],
   "source": [
    "rdf = freud.density.RDF(bins=250, r_max=5)\n",
    "rdf.compute((pbuff.buffer_box, pbuff.buffer_points), points)\n",
    "rdf.plot()"
   ]
  },
  {
   "cell_type": "code",
   "execution_count": null,
   "metadata": {},
   "outputs": [],
   "source": []
  }
 ],
 "metadata": {
  "kernelspec": {
   "display_name": "Python 3",
   "language": "python",
   "name": "python3"
  },
  "language_info": {
   "codemirror_mode": {
    "name": "ipython",
    "version": 3
   },
   "file_extension": ".py",
   "mimetype": "text/x-python",
   "name": "python",
   "nbconvert_exporter": "python",
   "pygments_lexer": "ipython3",
   "version": "3.7.3"
  }
 },
 "nbformat": 4,
 "nbformat_minor": 2
}
