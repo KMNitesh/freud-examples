{
 "cells": [
  {
   "cell_type": "markdown",
   "metadata": {},
   "source": [
    "# LinkCell\n",
    "\n",
    "Many of the most powerful analyses of particle simulations involve some characterization of the local environments of particles.\n",
    "Whether the analyses involve finding clusters, identifying interfaces, computing order parameters, or something else entirely, they always require finding particles in proximity to others so that properties of the local environment can be computed.\n",
    "The `freud.locality.NeighborList` and `freud.locality.LinkCell` classes are the fundamental building blocks for this type of calculation.\n",
    "The `NeighborList` class is essentially a container for particle pairs that are determined to be adjacent to one another.\n",
    "The `LinkCell` class implements the standard linked-list cell algorithm, in which a [cell list](https://en.wikipedia.org/wiki/Cell_lists) is computed using [linked lists](https://en.wikipedia.org/wiki/Linked_list) to store the particles in each cell.\n",
    "In this notebook, we provide a brief demonstration of how this data structure works and how it is used throughout freud."
   ]
  },
  {
   "cell_type": "markdown",
   "metadata": {},
   "source": [
    "We begin by demonstrating how a cell list works, which is essentially by dividing space into fixed width cells."
   ]
  },
  {
   "cell_type": "code",
   "execution_count": 1,
   "metadata": {},
   "outputs": [
    {
     "name": "stdout",
     "output_type": "stream",
     "text": [
      "The following particles are in cell 0: 0, 1\n",
      "The following particles are in cell 1: 2\n",
      "The following particles are in cell 2: 3, 4, 5\n",
      "The following particles are in cell 3: \n"
     ]
    }
   ],
   "source": [
    "from __future__ import division\n",
    "import freud\n",
    "import numpy as np\n",
    "from matplotlib import pyplot as plt\n",
    "import timeit\n",
    "\n",
    "# place particles 0 and 1 in cell 0\n",
    "# place particle 2 in cell 1\n",
    "# place particles 3,4,5 in cell 3\n",
    "# and no particles in cells 4,5,6,7\n",
    "particles = np.array([[-0.5, -0.5, 0],\n",
    "                   [-0.6, -0.6, 0],\n",
    "                   [0.5, -0.5, 0],\n",
    "                   [-0.5, 0.5, 0],\n",
    "                   [-0.6, 0.6, 0],\n",
    "                   [-0.7, 0.7, 0]], dtype='float32')\n",
    "\n",
    "\n",
    "L = 2  # The box size\n",
    "r_max = 1  # The cell width, and the nearest neighbor distance\n",
    "box = freud.box.Box.square(L)\n",
    "lc = freud.locality.LinkCell(box, r_max)\n",
    "lc.compute(box, particles)\n",
    "\n",
    "for c in range(0, lc.num_cells):\n",
    "    print(\"The following particles are in cell {}: {}\".format(c, ', '.join([str(x) for x in lc.itercell(c)])))"
   ]
  },
  {
   "cell_type": "code",
   "execution_count": 2,
   "metadata": {},
   "outputs": [
    {
     "data": {
      "image/png": "[encoded data removed]",
      "text/plain": [
       "<Figure size 648x432 with 1 Axes>"
      ]
     },
     "metadata": {},
     "output_type": "display_data"
    }
   ],
   "source": [
    "from matplotlib import patches\n",
    "from matplotlib import cm\n",
    "cmap = cm.get_cmap('plasma')\n",
    "colors = [cmap(i/lc.num_cells) for i in range(lc.num_cells)]\n",
    "\n",
    "fig, ax = plt.subplots(figsize=(9, 6))\n",
    "ax.scatter(particles[:, 0], particles[:, 1])\n",
    "ax.set_xlim([-1, 1])\n",
    "ax.set_ylim([-1, 1])\n",
    "corners = [(-1, -1), (0, -1), (-1, 0), (0, 0)]\n",
    "handles = []\n",
    "labels = []\n",
    "for i, corner in enumerate(corners):\n",
    "    p = patches.Rectangle(corner, 1, 1, color=colors[i], alpha=0.3)\n",
    "    ax.add_patch(p)\n",
    "    handles.append(p)\n",
    "    labels.append(\"Cell {}\".format(i))\n",
    "ax.tick_params(axis='both', which='both', labelsize=14)\n",
    "fig.legend(handles, labels, fontsize=16)\n",
    "fig.subplots_adjust(right=0.8)\n",
    "for i, p in enumerate(particles):\n",
    "    ax.text(p[0]+0.05, p[1]-0.03, \"Particle {}\".format(i), fontsize=14)"
   ]
  },
  {
   "cell_type": "markdown",
   "metadata": {},
   "source": [
    "The principle behind a cell list is that depending on how close particles have to be to be considered neighbors, we can construct a cell list of an appropriate width such that a given particle's neighbors can always be found by only looking in the neighboring cells, saving us the work of checking all the other particles in the system.\n",
    "We can now extract the NeighborList object computed using this cell list for finding particle neighbors."
   ]
  },
  {
   "cell_type": "code",
   "execution_count": 3,
   "metadata": {},
   "outputs": [
    {
     "name": "stdout",
     "output_type": "stream",
     "text": [
      "The particles within a distance 1 of particle 0 are: 1, 4, 5\n",
      "The particles within a distance 1 of particle 1 are: 0, 2, 3, 4, 5\n",
      "The particles within a distance 1 of particle 2 are: 1\n",
      "The particles within a distance 1 of particle 3 are: 1, 4, 5\n",
      "The particles within a distance 1 of particle 4 are: 0, 1, 3, 5\n",
      "The particles within a distance 1 of particle 5 are: 0, 1, 3, 4\n"
     ]
    }
   ],
   "source": [
    "nlist = lc.nlist\n",
    "for i in set(nlist.index_i):\n",
    "    js = nlist.index_j[nlist.index_i == i]\n",
    "    print(\"The particles within a distance 1 of particle {} are: {}\".format(\n",
    "        i, ', '.join([str(j) for j in js])))"
   ]
  },
  {
   "cell_type": "markdown",
   "metadata": {},
   "source": [
    "Finally, we can easily check this computation manually by just computing particle distances.\n",
    "Note that we need to be careful to make sure that we properly respect the box periodicity, which means that interparticle distances should be calculated according to the [minimum image convention](https://en.wikipedia.org/wiki/Periodic_boundary_conditions).\n",
    "In essence, this means that since the box is treated as being infinitely replicated in all directions, we have to ensure that each particle is only interacting with the closest copy of another particle.\n",
    "We can easily enforce this here by making sure that particle distances are never large than half the box length in any given dimension."
   ]
  },
  {
   "cell_type": "code",
   "execution_count": 4,
   "metadata": {},
   "outputs": [],
   "source": [
    "def compute_distances(box, positions):\n",
    "    \"\"\"Compute pairwise particle distances, taking into account PBCs.\n",
    "    \n",
    "    Args:\n",
    "        box (:class:`freud.box.Box`): The simulation box the particles live in.\n",
    "        positions (:class:`np.ndarray`): The particle positions.\n",
    "    \"\"\"\n",
    "    # First we shift all the particles so that the coordinates lie from\n",
    "    # [0, L] rather than [-L/2, L/2].\n",
    "    positions[:, 0] = np.mod(positions[:, 0]+box.Lx/2, box.Lx)\n",
    "    positions[:, 1] = np.mod(positions[:, 1]+box.Ly/2, box.Ly)\n",
    "    positions[:, 0] = np.mod(positions[:, 0]+box.Lx/2, box.Lx)\n",
    "    positions[:, 1] = np.mod(positions[:, 1]+box.Ly/2, box.Ly)\n",
    "\n",
    "    # To apply minimum image convention, we check if the distance is\n",
    "    # greater than half the box length in either direction, and if it\n",
    "    # is, we replace it with L-distance instead. We use broadcasting\n",
    "    # to get all pairwise positions, then modify the pos2 array where\n",
    "    # the distance is found to be too large for a specific pair.\n",
    "    pos1, pos2 = np.broadcast_arrays(positions[np.newaxis, :, :], positions[:, np.newaxis, :])\n",
    "    vectors = pos1 - pos2\n",
    "    pos2[:, :, 0] = np.where(np.abs(vectors[:, :, 0]) > box.Lx/2,\n",
    "                                box.Lx - np.abs(pos2[:, :, 0]),\n",
    "                                pos2[:, :, 0])\n",
    "    pos2[:, :, 1] = np.where(np.abs(vectors[:, :, 1]) > box.Ly/2,\n",
    "                                box.Ly - np.abs(pos2[:, :, 1]),\n",
    "                                pos2[:, :, 1])\n",
    "\n",
    "    distances = np.linalg.norm(pos1 - pos2, axis=-1)\n",
    "    return distances"
   ]
  },
  {
   "cell_type": "code",
   "execution_count": 5,
   "metadata": {},
   "outputs": [
    {
     "name": "stdout",
     "output_type": "stream",
     "text": [
      "The particles within a distance 1 of particle 0 are: 1, 4, 5\n",
      "The particles within a distance 1 of particle 1 are: 0, 2, 3, 4, 5\n",
      "The particles within a distance 1 of particle 2 are: 1\n",
      "The particles within a distance 1 of particle 3 are: 1, 4, 5\n",
      "The particles within a distance 1 of particle 4 are: 0, 1, 3, 5\n",
      "The particles within a distance 1 of particle 5 are: 0, 1, 3, 4\n"
     ]
    }
   ],
   "source": [
    "pairwise_distances = compute_distances(box, particles)\n",
    "for i in range(pairwise_distances.shape[0]):\n",
    "    js = np.where(pairwise_distances[i, :] < r_max)\n",
    "    print(\"The particles within a distance 1 of particle {} are: {}\".format(\n",
    "        i, ', '.join([str(j) for j in js[0] if not j==i])))"
   ]
  },
  {
   "cell_type": "markdown",
   "metadata": {},
   "source": [
    "For larger systems, however, such pairwise calculations would quickly become prohibitively expensive.\n",
    "The primary benefit of the LinkCell object is that it can dramatically improve this cost."
   ]
  },
  {
   "cell_type": "code",
   "execution_count": 6,
   "metadata": {},
   "outputs": [
    {
     "name": "stdout",
     "output_type": "stream",
     "text": [
      "Running for log_N = 5\n",
      "Running for log_N = 6\n",
      "Running for log_N = 7\n",
      "Running for log_N = 8\n",
      "Running for log_N = 9\n",
      "Running for log_N = 10\n",
      "Running for log_N = 11\n"
     ]
    }
   ],
   "source": [
    "log_Ns = np.arange(5, 12)\n",
    "lc_times = []\n",
    "naive_times = []\n",
    "for log_N in log_Ns:\n",
    "    print(\"Running for log_N = {}\".format(log_N))\n",
    "    particles = np.random.rand(int(2**log_N), 3)*L-L/2\n",
    "    particles[:, 0] = 0\n",
    "    lc_times.append(timeit.timeit(\"lc.compute(box, particles)\", number=10, globals=globals()))\n",
    "    naive_times.append(timeit.timeit(\"compute_distances(box, particles)\", number=10, globals=globals()))"
   ]
  },
  {
   "cell_type": "code",
   "execution_count": 7,
   "metadata": {},
   "outputs": [
    {
     "data": {
      "image/png": "[encoded data removed]",
      "text/plain": [
       "<Figure size 432x288 with 1 Axes>"
      ]
     },
     "metadata": {},
     "output_type": "display_data"
    }
   ],
   "source": [
    "fig, ax = plt.subplots()\n",
    "ax.plot(2**log_Ns, lc_times, label=\"LinkCell\")\n",
    "ax.plot(2**log_Ns, naive_times, label=\"Naive Calculation\")\n",
    "ax.legend(fontsize=14)\n",
    "ax.tick_params(axis='both', which='both', labelsize=14)\n",
    "ax.set_xlabel(\"Number of particles\", fontsize=14)\n",
    "ax.set_ylabel(\"Time to compute (s)\", fontsize=14);"
   ]
  }
 ],
 "metadata": {
  "kernelspec": {
   "display_name": "Python 3",
   "language": "python",
   "name": "python3"
  },
  "language_info": {
   "codemirror_mode": {
    "name": "ipython",
    "version": 3
   },
   "file_extension": ".py",
   "mimetype": "text/x-python",
   "name": "python",
   "nbconvert_exporter": "python",
   "pygments_lexer": "ipython3",
   "version": "3.7.3"
  },
  "toc": {
   "base_numbering": 1,
   "nav_menu": {},
   "number_sections": true,
   "sideBar": true,
   "skip_h1_title": false,
   "title_cell": "Table of Contents",
   "title_sidebar": "Contents",
   "toc_cell": false,
   "toc_position": {},
   "toc_section_display": true,
   "toc_window_display": false
  }
 },
 "nbformat": 4,
 "nbformat_minor": 2
}
