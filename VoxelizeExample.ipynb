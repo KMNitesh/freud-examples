{
 "cells": [
  {
   "cell_type": "markdown",
   "metadata": {},
   "source": [
    "## Voxelize (Or 3D bin) Example\n",
    "\n",
    "This notebook shows how to use freud's nearest neighbor module to create a voxelized version of your system.\n",
    "\n",
    "In brief, we are going to create a set of points that define the centers of our voxels, then assign all particles to one of these voxels. Then we sum up some property of the partices amongst all particles in a bin.\n",
    "\n",
    "At the end we want to have a sampling of some particle property in our system on a regular grid (as a numpy array) "
   ]
  },
  {
   "cell_type": "code",
   "execution_count": 15,
   "metadata": {
    "collapsed": false
   },
   "outputs": [],
   "source": [
    "import freud\n",
    "import numpy as np\n",
    "import matplotlib.pyplot as plt\n",
    "import re\n",
    "from scipy.sparse import csr_matrix, csc_matrix\n",
    "%matplotlib inline\n",
    "from ipywidgets import FloatProgress\n",
    "from IPython.display import display"
   ]
  },
  {
   "cell_type": "markdown",
   "metadata": {},
   "source": [
    "Here I'm using data from some text files that were output from the visualization software OVITO (https://ovito.org/)\n",
    "\n",
    "The files have a header with box information, and then a list of particle info. These files have 10 fields per particle: (ID#, position(x,y,z), strains(xx,yy,zz,yz,xz,xy)).\n",
    "\n",
    "The goal is to turn this into an (Nx,Ny,Nz,3,3) numpy array, where Nx/y/z are the number of bins in x/y/z, and each of those bins has an averaged 3x3 strain array."
   ]
  },
  {
   "cell_type": "markdown",
   "metadata": {},
   "source": [
    "First we read in the box info from our text files and construct an average box. We need this so we can make our bin centers"
   ]
  },
  {
   "cell_type": "code",
   "execution_count": 16,
   "metadata": {
    "collapsed": true
   },
   "outputs": [],
   "source": [
    "framefiles = ['ex_data/strain_data/frame{f}'.format(f=f) for f in [100,110,120, 130]]\n",
    "\n",
    "# read all the boxes, so we can make the grid points for voxelizing\n",
    "boxes = []\n",
    "for f in framefiles:\n",
    "    ff = open(f, 'r')\n",
    "    _ = ff.readline()\n",
    "    header = ff.readline()\n",
    "\n",
    "    match = re.match('^Lattice=\".*\"', header)\n",
    "    boxstring = match.group(0)\n",
    "    boxes.append(np.array(str.split(boxstring[9:-1]), dtype=np.float).reshape((3,3)).T)\n",
    "    ff.close()\n",
    "    \n",
    "# find the average box\n",
    "ave_box = np.array(boxes).mean(axis=0)"
   ]
  },
  {
   "cell_type": "markdown",
   "metadata": {},
   "source": [
    "Now we make the bin centers using np.meshgrid(), but append and combine the X,Y, and Z coordinates into an array of shape (Nx\\*Ny\\*Nz, 3) to pass to freud"
   ]
  },
  {
   "cell_type": "code",
   "execution_count": 17,
   "metadata": {
    "collapsed": true
   },
   "outputs": [],
   "source": [
    "res = (60, 10, 45) # The number of bins (in x,y,z)\n",
    "xx = np.linspace(-ave_box[0,0]/2,ave_box[0,0]/2,num=res[0])\n",
    "yy = np.linspace(-ave_box[1,1]/2,ave_box[1,1]/2,num=res[1])\n",
    "zz = np.linspace(-ave_box[2,2]/2,ave_box[2,2]/2,num=res[2])\n",
    "XX, YY, ZZ = np.meshgrid(xx,yy,zz)\n",
    "\n",
    "XYZ = np.append(np.append(XX.flatten().reshape((-1,1)), \n",
    "                          YY.flatten().reshape((-1,1)), axis=1), \n",
    "                ZZ.flatten().reshape((-1,1)), axis=1).astype(np.float32)"
   ]
  },
  {
   "cell_type": "markdown",
   "metadata": {},
   "source": [
    "Now we iterate over our files and compute the first nearest neighbor (among the bin centers) of the particles, so we know which bin to average them in.\n",
    "\n",
    "It is important to use scipy's csr_matrix for this process when the number of particles is large. These files contain >80,000 particles, and without the csr matrix the dot product to determine grid totals would be extremely slow"
   ]
  },
  {
   "cell_type": "code",
   "execution_count": 18,
   "metadata": {
    "collapsed": false
   },
   "outputs": [
    {
     "name": "stderr",
     "output_type": "stream",
     "text": [
      "converting supplied array to contiguous\n",
      "converting supplied array to contiguous\n",
      "converting supplied array to contiguous\n",
      "converting supplied array to contiguous\n"
     ]
    }
   ],
   "source": [
    "master_strains = np.zeros((XYZ.shape[0], 6)) #matrix to sum into\n",
    "\n",
    "br = FloatProgress(min=0, max=len(framefiles), description=\"Reading {n} files\".format(n=len(framefiles)))\n",
    "display(br)\n",
    "\n",
    "for i in range(len(framefiles)):\n",
    "    data = np.loadtxt(framefiles[i], skiprows=2).astype(np.float32)\n",
    "    \n",
    "    box = freud.box.Box(Lx=boxes[i][0,0],\n",
    "                        Ly=boxes[i][1,1],\n",
    "                        Lz=boxes[i][2,2],\n",
    "                        yz=boxes[i][1,2],\n",
    "                        xz=boxes[i][0,2],\n",
    "                        xy=boxes[i][0,1])\n",
    "    \n",
    "    nn = freud.locality.NearestNeighbors(rmax=np.amax([ave_box[0,0]/res[0],ave_box[1,1]/res[1],ave_box[2,2]/res[2]]),\n",
    "                                        n_neigh=1)\n",
    "    \n",
    "    nn.compute(box=box, ref_points=data[:,1:4], points=XYZ)\n",
    "    n_list = nn.getNeighborList()\n",
    "    \n",
    "    sprse = csr_matrix((np.ones(n_list.shape[0])\n",
    "                        ,(n_list.flatten(), np.arange(n_list.shape[0]))),\n",
    "                       shape=(XYZ.shape[0], n_list.shape[0]))\n",
    "    \n",
    "    # strain data\n",
    "    sdata = data[:,4:]\n",
    "    binned = np.zeros((XYZ.shape[0],6))\n",
    "    # number of particles in each bin\n",
    "    grid_totals = sprse.dot(np.ones(n_list.shape[0]))\n",
    "    grid_totals[grid_totals==0] = 1 # get rid of division errors\n",
    "    \n",
    "    for j in range(6):\n",
    "        binned[:,j] = sprse.dot(sdata[:,j])/grid_totals\n",
    "        \n",
    "    master_strains = master_strains + binned\n",
    "    \n",
    "    br.value = i + 1\n",
    "\n",
    "master_strains = master_strains/len(framefiles) # divide by number of frames"
   ]
  },
  {
   "cell_type": "markdown",
   "metadata": {},
   "source": [
    "Now we pack up the resulting array into the shape we want it to be: (Nx,Ny,Nz,3,3)"
   ]
  },
  {
   "cell_type": "code",
   "execution_count": 19,
   "metadata": {
    "collapsed": true
   },
   "outputs": [],
   "source": [
    "final_matrix = np.zeros((res[1],res[0],res[2],3,3))\n",
    "\n",
    "# this mapping turns 6 strain values into a symmetric (3,3) matrix\n",
    "voigt_map = {0:(0,0), 1:(1,1), 2:(2,2), 3:(1,2), 4:(0,2), 5:(0,1)}\n",
    "\n",
    "for i in range(6):\n",
    "    v = voigt_map[i]\n",
    "    final_matrix[:,:,:,v[0],v[1]] = master_strains[:,i].reshape(res[1],res[0],res[2])\n",
    "    if v[0]!=v[1]:\n",
    "        final_matrix[:,:,:,v[1],v[0]] = master_strains[:,i].reshape(res[1],res[0],res[2])"
   ]
  },
  {
   "cell_type": "markdown",
   "metadata": {},
   "source": [
    "Since we are only using four frames, the distribution is not very well sampled. But we can get a clue that a distinct distribution of strain is emerging if we average along the first axis of the matrix (this particular system should not vary in that direction)"
   ]
  },
  {
   "cell_type": "code",
   "execution_count": 20,
   "metadata": {
    "collapsed": false
   },
   "outputs": [
    {
     "data": {
      "image/png": "[encoded data removed]",
      "text/plain": [
       "<matplotlib.figure.Figure at 0x119bd4748>"
      ]
     },
     "metadata": {},
     "output_type": "display_data"
    }
   ],
   "source": [
    "plt.figure(figsize=(10,10))\n",
    "plt.imshow(final_matrix[:,:,:,0,0].mean(axis=0), \n",
    "           origin='lower', cmap=plt.cm.bwr,\n",
    "          vmin=-0.04, vmax=0.04, interpolation='none')\n",
    "plt.colorbar()\n",
    "plt.show()"
   ]
  },
  {
   "cell_type": "code",
   "execution_count": null,
   "metadata": {
    "collapsed": true
   },
   "outputs": [],
   "source": []
  }
 ],
 "metadata": {
  "kernelspec": {
   "display_name": "Python 3",
   "language": "python",
   "name": "python3"
  },
  "language_info": {
   "codemirror_mode": {
    "name": "ipython",
    "version": 3
   },
   "file_extension": ".py",
   "mimetype": "text/x-python",
   "name": "python",
   "nbconvert_exporter": "python",
   "pygments_lexer": "ipython3",
   "version": "3.6.0"
  },
  "widgets": {
   "state": {
    "4eda918512c141a5a455297bb75bf907": {
     "views": [
      {
       "cell_index": 8
      }
     ]
    }
   },
   "version": "1.2.0"
  }
 },
 "nbformat": 4,
 "nbformat_minor": 2
}
