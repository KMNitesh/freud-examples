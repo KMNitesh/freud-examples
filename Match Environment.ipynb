{
 "cells": [
  {
   "cell_type": "code",
   "execution_count": 330,
   "metadata": {
    "collapsed": true
   },
   "outputs": [],
   "source": [
    "from freud import box, environment\n",
    "%matplotlib notebook\n",
    "from matplotlib import pyplot\n",
    "import hoomd\n",
    "import numpy as np\n",
    "from ipywidgets import interact, interactive, fixed, interact_manual\n",
    "import ipywidgets as widgets\n",
    "from IPython.display import display"
   ]
  },
  {
   "cell_type": "code",
   "execution_count": 302,
   "metadata": {
    "collapsed": true
   },
   "outputs": [],
   "source": [
    "def thermalize(points, max_dist):\n",
    "    random_vecs=np.random.rand(len(points))\n",
    "    return np.array([np.add(np.multiply(np.random.uniform(-max_dist,max_dist),[r,(1.0-r**2.0)**0.5,0]),p) for r,p in zip(random_vecs,points)])"
   ]
  },
  {
   "cell_type": "code",
   "execution_count": 265,
   "metadata": {
    "collapsed": true
   },
   "outputs": [],
   "source": [
    "def viz_struct(ax,my_ref_points):\n",
    "    ax.scatter(my_ref_points[:,0],my_ref_points[:,1], color='k')\n",
    "    ax.set_aspect('equal')\n",
    "    ax.set_title('Initial Structure')\n",
    "    ax.axis('off')"
   ]
  },
  {
   "cell_type": "code",
   "execution_count": 270,
   "metadata": {
    "collapsed": true
   },
   "outputs": [],
   "source": [
    "def viz_environment(ax,my_env, my_ref_points):\n",
    "    for i in set(my_env.getClusters()):\n",
    "        ax.scatter(my_ref_points[my_env.getClusters()==i][:,0],my_ref_points[my_env.getClusters()==i][:,1])\n",
    "    ax.set_aspect('equal')\n",
    "    ax.set_title('With Environments')\n",
    "    ax.axis('off')"
   ]
  },
  {
   "cell_type": "code",
   "execution_count": 271,
   "metadata": {
    "collapsed": true
   },
   "outputs": [],
   "source": [
    "def run_struct(ref_points, therm, threshold, m_e):\n",
    "    fig, ax= pyplot.subplots(1,2, figsize=(8,4))\n",
    "    viz_struct(ax[0],ref_points)\n",
    "    print()\n",
    "    m_e.cluster(points=ref_points, threshold=threshold)\n",
    "    viz_environment(ax[1],m_e, ref_points)\n",
    "    fig.canvas.draw()"
   ]
  },
  {
   "cell_type": "code",
   "execution_count": 358,
   "metadata": {},
   "outputs": [],
   "source": [
    "def run_sc(therm=0.2, threshold=0.5):\n",
    "    a=1.0\n",
    "    hoomd.context.initialize('');\n",
    "    uc = hoomd.lattice.unitcell(N=1,\n",
    "                                a1=[1, 0, 0],\n",
    "                                a2=[0, 1, 0],\n",
    "                                a3=[0, 0, 1],\n",
    "                                dimensions=2,\n",
    "                                position=[[0,0,0]],\n",
    "                                type_name=['A']);\n",
    "    snap = uc.get_snapshot();\n",
    "    snap.replicate(10,10,1);\n",
    "    ref_points=snap.particles.position\n",
    "    bbox = box.Box.from_box(snap.box)\n",
    "    ref_points=thermalize(ref_points, therm)\n",
    "    bbox.wrap(ref_points)\n",
    "    me=environment.MatchEnv(bbox, a*0.5, 8)\n",
    "    run_struct(ref_points, therm, threshold,me)"
   ]
  },
  {
   "cell_type": "code",
   "execution_count": 364,
   "metadata": {
    "collapsed": true
   },
   "outputs": [],
   "source": [
    "def run_scs(therm=0.2, threshold=0.5):\n",
    "    a=1.0\n",
    "    hoomd.context.initialize('');\n",
    "    uc = hoomd.lattice.unitcell(N=3,\n",
    "                                a1=[1, 0, 0],\n",
    "                                a2=[0, 1, 0],\n",
    "                                a3=[0, 0, 1],\n",
    "                                dimensions=2,\n",
    "                                position=[[0,0,0],[0,0.5,0],[0.5,0.0,0]],\n",
    "                                type_name=['A','A','A']);\n",
    "    snap = uc.get_snapshot();\n",
    "    snap.replicate(10,10,1);\n",
    "    ref_points=snap.particles.position\n",
    "    bbox = box.Box.from_box(snap.box)\n",
    "    \n",
    "    ref_points=thermalize(ref_points, therm)\n",
    "    bbox.wrap(ref_points)\n",
    "    me=environment.MatchEnv(bbox, a*0.5, 8)\n",
    "    run_struct(ref_points, therm, threshold,me)"
   ]
  },
  {
   "cell_type": "code",
   "execution_count": 365,
   "metadata": {},
   "outputs": [
    {
     "data": {
      "application/vnd.jupyter.widget-view+json": {
       "model_id": "2407fb0371374e79920c6017a4bf8c15"
      }
     },
     "metadata": {},
     "output_type": "display_data"
    }
   ],
   "source": [
    "interact(run_scs, therm=(0.0,1.0,0.05), threshold=(0.,2.0,0.05));"
   ]
  },
  {
   "cell_type": "code",
   "execution_count": 367,
   "metadata": {
    "collapsed": true
   },
   "outputs": [],
   "source": [
    "def run_tri(therm=0.2, threshold=0.5):\n",
    "    a=1.0\n",
    "    hoomd.context.initialize('');\n",
    "    uc = hoomd.lattice.unitcell(N=1,\n",
    "                                a1=[1, 0, 0],\n",
    "                                a2=[np.cos(np.pi/6.), np.sin(np.pi/6.), 0],\n",
    "                                a3=[0, 0, 1],\n",
    "                                dimensions=2,\n",
    "                                position=[[0,0,0]],\n",
    "                                type_name=['A']);\n",
    "    snap = uc.get_snapshot();\n",
    "    snap.replicate(10,10,1);\n",
    "    ref_points=snap.particles.position\n",
    "    bbox = box.Box.from_box(snap.box)\n",
    "    \n",
    "    ref_points=thermalize(ref_points, therm)\n",
    "    bbox.wrap(ref_points)\n",
    "    me=environment.MatchEnv(bbox, a*0.5, 8)\n",
    "    run_struct(ref_points, therm, threshold,me)"
   ]
  },
  {
   "cell_type": "code",
   "execution_count": 369,
   "metadata": {},
   "outputs": [
    {
     "data": {
      "application/vnd.jupyter.widget-view+json": {
       "model_id": "dece7605d9a8400a90411c29d767ce3e"
      }
     },
     "metadata": {},
     "output_type": "display_data"
    }
   ],
   "source": [
    "interact(run_tri, therm=(0.0,1.0,0.05), threshold=(0.,2.0,0.05));"
   ]
  },
  {
   "cell_type": "code",
   "execution_count": null,
   "metadata": {
    "collapsed": true
   },
   "outputs": [],
   "source": []
  }
 ],
 "metadata": {
  "kernelspec": {
   "display_name": "Python 3",
   "language": "python",
   "name": "python3"
  },
  "language_info": {
   "codemirror_mode": {
    "name": "ipython",
    "version": 3
   },
   "file_extension": ".py",
   "mimetype": "text/x-python",
   "name": "python",
   "nbconvert_exporter": "python",
   "pygments_lexer": "ipython3",
   "version": "3.6.5"
  }
 },
 "nbformat": 4,
 "nbformat_minor": 2
}
