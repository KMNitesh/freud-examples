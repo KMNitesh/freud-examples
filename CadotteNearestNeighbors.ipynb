{
 "cells": [
  {
   "cell_type": "code",
   "execution_count": 1,
   "metadata": {
    "collapsed": true
   },
   "outputs": [],
   "source": [
    "import numpy as np\n",
    "import freud\n",
    "import matplotlib.pyplot as plt"
   ]
  },
  {
   "cell_type": "code",
   "execution_count": null,
   "metadata": {
    "collapsed": true
   },
   "outputs": [],
   "source": [
    "# general algorithm\n",
    "\n",
    "# load data\n",
    "\n",
    "# create freud nearest neighbor object\n",
    "# set number of neighbors\n",
    "n_neigh = 10\n",
    "# create freud nearest neighbors object\n",
    "nn = freud.locality.NearestNeighbors(rmax=1.5,n_neigh=n_neigh,strict_cut=True)\n",
    "# iterate through frames, or look at one specific frame\n",
    "for f in frames:\n",
    "    # compute number of neighbors\n",
    "    nn.compute(box, pos, pos)\n",
    "    # get the neighborlist\n",
    "    n_list = nn.getNeighborList()\n",
    "    # get the number of particles\n",
    "    np = n_list.getNRef()\n",
    "    # now for array manipulation magic\n",
    "    # create an integer array of the same shape as the neighbor list array\n",
    "    int_arr = np.ones(shape=n_list.shape, dtype=bool)\n",
    "    # \"search\" for non-indexed particles (missing neighbors)\n",
    "    int_arr[n_list > (np-1)] = 0\n",
    "    # sum along particle index axis to determine the number of neighbors per particle\n",
    "    n_neighbors = np.sum(int_arr, axis=1)\n",
    "    # find the complement (if desired) to find number of missing neighbors per particle\n",
    "    n_deficits = n_neigh - n_neighbors\n",
    "    # black magic for quick position to rsq computation\n",
    "    # given an array Np x 3 (x,y,z), find the distance each particle is from the origin\n",
    "    rsq = np.einsum(\"ij,ij->i\", pos, pos)\n",
    "    # some kind of plotting thing here\n",
    "    plt.plot(rsq, n_neighbors)"
   ]
  }
 ],
 "metadata": {
  "kernelspec": {
   "display_name": "Python 3",
   "language": "python",
   "name": "python3"
  },
  "language_info": {
   "codemirror_mode": {
    "name": "ipython",
    "version": 3
   },
   "file_extension": ".py",
   "mimetype": "text/x-python",
   "name": "python",
   "nbconvert_exporter": "python",
   "pygments_lexer": "ipython3",
   "version": "3.5.1"
  }
 },
 "nbformat": 4,
 "nbformat_minor": 0
}
