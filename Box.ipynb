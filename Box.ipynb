{
 "cells": [
  {
   "cell_type": "markdown",
   "metadata": {},
   "source": [
    "# Simulation Boxes\n",
    "\n",
    "The goal of `freud` is to perform generic analyses of particle simulations.\n",
    "Such simulations are always conducted within some region representing physical space; in `freud`, these regions are known as *simulation boxes*, or simply *boxes*.\n",
    "An important characteristic of many simulations is that the simulation box is periodic, *i.e.* particles can travel and interact across system boundaries (for more information, see [the Wikipedia page](https://en.wikipedia.org/wiki/Periodic_boundary_conditions)).\n",
    "Simulations frequently use periodic boundary conditions to effectively simulate infinite systems without actually having to include an infinite number of particles.\n",
    "In such systems, a box in N dimensions can be represented by N linearly independent vectors.\n",
    "\n",
    "The `Box` class provides the standard API for such simulation boxes throughout `freud`.\n",
    "The class represents some 2- or 3-dimensional region of space, and it provides utility functions for interacting with this space, including the ability to wrap vectors outside this box into the box according to periodic boundary conditions.\n",
    "A 3d (2d) simulation box is fully defined by 3 (2) linearly independent vectors, which are represented within the Box class according to 3 (2) characteristic lengths as well as 3 (1) tilt factor indicating how these vectors are angled with respect to one another.\n",
    "In this notebook, we demonstrate the basic features of the `Box` class, particularly the facility for wrapping particles back into the box under periodic boundary conditions.\n",
    "For the interested reader, complete documentation of the Box class is available on the [official `freud` documentation page](https://freud.readthedocs.io/en/latest/box.html)."
   ]
  },
  {
   "cell_type": "markdown",
   "metadata": {},
   "source": [
    "# Box basics"
   ]
  },
  {
   "cell_type": "markdown",
   "metadata": {},
   "source": [
    "## Box Creation\n",
    "\n",
    "There are many ways to construct a box.\n",
    "We demonstrate all of these below, with some discussion of when they might be useful.\n",
    "\n",
    "### Default (full) API\n",
    "\n",
    "Boxes may be constructed explicitly using all arguments.\n",
    "Such construction is useful when performing *ad hoc* analyses involving custom boxes.\n",
    "In general, boxes are assumed to be 3D and [orthorhombic](https://en.wikipedia.org/wiki/Orthorhombic_crystal_system) unless otherwise specified."
   ]
  },
  {
   "cell_type": "code",
   "execution_count": 3,
   "metadata": {},
   "outputs": [],
   "source": [
    "from freud import box\n",
    "\n",
    "# All of the below examples are valid boxes.\n",
    "box = box.Box(Lx=5, Ly=6, Lz=7, xy=0.5, xz=0.6, yz=0.7, is2D=False)\n",
    "box = box.Box(1, 3, 2, 0.3, 0.9)\n",
    "box = box.Box(5, 6, 7)\n",
    "box = box.Box(5, 6, is2D=True)\n",
    "box = box.Box(5, 6, xy=0.5, is2D=True)"
   ]
  },
  {
   "cell_type": "markdown",
   "metadata": {},
   "source": [
    "### Factory Functions\n",
    "\n",
    "In order to simplify the creation of `freud.box.Box` objects from other representations of boxes, we provide a number of factory functions for conversion from these representations."
   ]
  },
  {
   "cell_type": "code",
   "execution_count": 4,
   "metadata": {},
   "outputs": [],
   "source": [
    "#box_data = some_object.box\n",
    "#box_from_box = box.Box.from_box(box_data)\n",
    "#box_matrix = to_matrix(some_object.box)\n",
    "#box_from_matrix = box.Box.from_matrix(box_matrix)"
   ]
  },
  {
   "cell_type": "markdown",
   "metadata": {},
   "source": [
    "### Convenience APIs\n",
    "\n",
    "Many simulation boxes have some degree of symmetry, so we have provided the following convenience constructors for common box geometries."
   ]
  },
  {
   "cell_type": "code",
   "execution_count": 3,
   "metadata": {},
   "outputs": [
    {
     "name": "stdout",
     "output_type": "stream",
     "text": [
      "5.0 5.0 5.0 0.0 0.0 0.0 False\n"
     ]
    }
   ],
   "source": [
    "#If your box is a cube, you may use the following:\n",
    "cube_box = box.Box.cube(L=5)\n",
    "print(cube_box.Lx, cube_box.Lz, cube_box.Ly, cube_box.xy, cube_box.xz, cube_box.yz, cube_box.is2D())"
   ]
  },
  {
   "cell_type": "code",
   "execution_count": null,
   "metadata": {},
   "outputs": [],
   "source": [
    "#If your box is a square, you may use the following:\n",
    "square_box = box.Box.square(L=5)\n",
    "print(square_box.Lx, square_box.Lz, square_box.Ly, square_box.xy, square_box.xz, square_box.yz, square_box.is2D())"
   ]
  },
  {
   "cell_type": "markdown",
   "metadata": {},
   "source": [
    "### From existing box\n",
    "\n",
    "Some data readers may provide box objects which can be directly passed in:"
   ]
  },
  {
   "cell_type": "markdown",
   "metadata": {},
   "source": [
    "# Export\n",
    "\n",
    "If you want to export or display the box, you can use the following:\n",
    "\n",
    "## `to_matrix()`"
   ]
  },
  {
   "cell_type": "code",
   "execution_count": 6,
   "metadata": {},
   "outputs": [
    {
     "data": {
      "text/plain": [
       "[[5.0, 0.0, 0.0], [0, 5.0, 0.0], [0, 0, 0.0]]"
      ]
     },
     "execution_count": 6,
     "metadata": {},
     "output_type": "execute_result"
    }
   ],
   "source": [
    "square_box = box.Box.square(L=5)\n",
    "square_box.to_matrix()"
   ]
  },
  {
   "cell_type": "markdown",
   "metadata": {},
   "source": [
    "## `to_tuple()`\n",
    "\n",
    "You may also export as a named tuple (which can be used to initialize another `freud` box):"
   ]
  },
  {
   "cell_type": "code",
   "execution_count": 7,
   "metadata": {},
   "outputs": [
    {
     "data": {
      "text/plain": [
       "BoxTuple(Lx=5.0, Ly=5.0, Lz=0.0, xy=0.0, xz=0.0, yz=0.0)"
      ]
     },
     "execution_count": 7,
     "metadata": {},
     "output_type": "execute_result"
    }
   ],
   "source": [
    "square_box.to_tuple()"
   ]
  }
 ],
 "metadata": {
  "kernelspec": {
   "display_name": "Python 3",
   "language": "python",
   "name": "python3"
  },
  "language_info": {
   "codemirror_mode": {
    "name": "ipython",
    "version": 3
   },
   "file_extension": ".py",
   "mimetype": "text/x-python",
   "name": "python",
   "nbconvert_exporter": "python",
   "pygments_lexer": "ipython3",
   "version": "3.7.0"
  },
  "toc": {
   "base_numbering": 1,
   "nav_menu": {},
   "number_sections": true,
   "sideBar": true,
   "skip_h1_title": false,
   "title_cell": "Table of Contents",
   "title_sidebar": "Contents",
   "toc_cell": false,
   "toc_position": {},
   "toc_section_display": true,
   "toc_window_display": false
  }
 },
 "nbformat": 4,
 "nbformat_minor": 2
}
