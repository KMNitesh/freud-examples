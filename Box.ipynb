{
 "cells": [
  {
   "cell_type": "markdown",
   "metadata": {},
   "source": [
    "# Simulation Boxes\n",
    "\n",
    "The goal of `freud` is to perform generic analyses of particle simulations.\n",
    "Such simulations are always conducted within some region representing physical space; in `freud`, these regions are known as *simulation boxes*, or simply *boxes*.\n",
    "An important characteristic of many simulations is that the simulation box is periodic, *i.e.* particles can travel and interact across system boundaries (for more information, see [the Wikipedia page](https://en.wikipedia.org/wiki/Periodic_boundary_conditions)).\n",
    "Simulations frequently use periodic boundary conditions to effectively simulate infinite systems without actually having to include an infinite number of particles.\n",
    "In such systems, a box in N dimensions can be represented by N linearly independent vectors.\n",
    "\n",
    "The `Box` class provides the standard API for such simulation boxes throughout `freud`.\n",
    "The class represents some 2- or 3-dimensional region of space, and it provides utility functions for interacting with this space, including the ability to wrap vectors outside this box into the box according to periodic boundary conditions.\n",
    "Boxes are represented according to the [HOOMD-blue convention](https://hoomd-blue.readthedocs.io/en/stable/box.html) for boxes.\n",
    "According to this convention, a 3d (2d) simulation box is fully defined by 3 (2) linearly independent vectors, which are represented by 3 (2) characteristic lengths and 3 (1) tilt factors indicating how these vectors are angled with respect to one another.\n",
    "With this convention, a generic box is represented by the following $3\\times3$ matrix:\n",
    "\n",
    "$\n",
    "\\begin{equation}\n",
    "    \\begin{aligned}\n",
    "        \\left(\n",
    "            \\begin{array}{ccc}\n",
    "            L_x & xy \\times L_x & xz \\times L_z\\\\\n",
    "            0   & L_y           & yz \\times L_z\\\\\n",
    "            0   & 0             & L_z\\\\\n",
    "            \\end{array}\n",
    "        \\right)\n",
    "    \\end{aligned}\n",
    "\\end{equation}\n",
    "$\n",
    "\n",
    "where $xy$, $xz$, and $yz$ are the tilt factors.\n",
    "Note that this convention imposes the requirement that the box vectors form a right-handed coordinate system, which manifests itself in the form of an upper (rather than lower) triangular box matrix.\n",
    "\n",
    "In this notebook, we demonstrate the basic features of the `Box` class, particularly the facility for wrapping particles back into the box under periodic boundary conditions.\n",
    "For the interested reader, complete documentation of the Box class is available on the [official `freud` documentation page](https://freud.readthedocs.io/en/latest/box.html)."
   ]
  },
  {
   "cell_type": "markdown",
   "metadata": {},
   "source": [
    "# Box Creation\n",
    "\n",
    "There are many ways to construct a box.\n",
    "We demonstrate all of these below, with some discussion of when they might be useful."
   ]
  },
  {
   "cell_type": "markdown",
   "metadata": {},
   "source": [
    "## Default (full) API\n",
    "\n",
    "Boxes may be constructed explicitly using all arguments.\n",
    "Such construction is useful when performing *ad hoc* analyses involving custom boxes.\n",
    "In general, boxes are assumed to be 3D and [orthorhombic](https://en.wikipedia.org/wiki/Orthorhombic_crystal_system) unless otherwise specified."
   ]
  },
  {
   "cell_type": "code",
   "execution_count": 1,
   "metadata": {},
   "outputs": [],
   "source": [
    "import freud.box\n",
    "print(freud.box.__file__)\n",
    "\n",
    "# All of the below examples are valid boxes.\n",
    "box = freud.box.Box(Lx=5, Ly=6, Lz=7, xy=0.5, xz=0.6, yz=0.7, is2D=False)\n",
    "box = freud.box.Box(1, 3, 2, 0.3, 0.9)\n",
    "box = freud.box.Box(5, 6, 7)\n",
    "box = freud.box.Box(5, 6, is2D=True)\n",
    "box = freud.box.Box(5, 6, xy=0.5, is2D=True)"
   ]
  },
  {
   "cell_type": "markdown",
   "metadata": {},
   "source": [
    "## From a box object\n",
    "\n",
    "The simplest case is simply constructing one freud box from another.\n",
    "\n",
    "**Note that all forms of creating boxes aside from the explicit method above use methods defined within the Box class rather than attempting to overload the constructor itself.**"
   ]
  },
  {
   "cell_type": "code",
   "execution_count": 29,
   "metadata": {},
   "outputs": [
    {
     "name": "stdout",
     "output_type": "stream",
     "text": [
      "The original box: \n",
      "\tBox(Lx=1.0, Ly=2.0, Lz=3.0, xy=0.0, xz=0.0, yz=0.0, dimensions=3)\n",
      "The copied box: \n",
      "\tBox(Lx=1.0, Ly=2.0, Lz=3.0, xy=0.0, xz=0.0, yz=0.0, dimensions=3)\n",
      "\n",
      "The original box is modified: \n",
      "\tBox(Lx=5.0, Ly=2.0, Lz=3.0, xy=0.0, xz=0.0, yz=0.0, dimensions=3)\n",
      "The copied box is not: \n",
      "\tBox(Lx=1.0, Ly=2.0, Lz=3.0, xy=0.0, xz=0.0, yz=0.0, dimensions=3)\n",
      "\n",
      "The new copy: \n",
      "\tBox(Lx=1.0, Ly=2.0, Lz=3.0, xy=0.0, xz=0.0, yz=0.0, dimensions=3)\n",
      "The new copy after the original is modified: \n",
      "\tBox(Lx=2.0, Ly=2.0, Lz=3.0, xy=0.0, xz=0.0, yz=0.0, dimensions=3)\n",
      "The modified original box: \n",
      "\tBox(Lx=2.0, Ly=2.0, Lz=3.0, xy=0.0, xz=0.0, yz=0.0, dimensions=3)\n"
     ]
    }
   ],
   "source": [
    "box = freud.box.Box(1, 2, 3)\n",
    "box2 = freud.box.Box.from_box(box)\n",
    "print(\"The original box: \\n\\t{}\".format(box))\n",
    "print(\"The copied box: \\n\\t{}\\n\".format(box2))\n",
    "\n",
    "# Boxes are always copied by value, not by reference\n",
    "box.Lx = 5\n",
    "print(\"The original box is modified: \\n\\t{}\".format(box))\n",
    "print(\"The copied box is not: \\n\\t{}\\n\".format(box2))\n",
    "\n",
    "# Note, however, that box assignment creates a new object that\n",
    "# still points to the original box object, so modifications to\n",
    "# one are visible on the other.\n",
    "box3 = box2\n",
    "print(\"The new copy: \\n\\t{}\".format(box3))\n",
    "box2.Lx = 2\n",
    "print(\"The new copy after the original is modified: \\n\\t{}\".format(box3))\n",
    "print(\"The modified original box: \\n\\t{}\".format(box2))"
   ]
  },
  {
   "cell_type": "markdown",
   "metadata": {},
   "source": [
    "## From a matrix\n",
    "\n",
    "A box can be constructed directly from the box matrix representation described above using the `Box.from_matrix` method."
   ]
  },
  {
   "cell_type": "code",
   "execution_count": 31,
   "metadata": {},
   "outputs": [
    {
     "name": "stdout",
     "output_type": "stream",
     "text": [
      "This is a 3d box from a matrix: \n",
      "\tBox(Lx=1.0, Ly=1.0, Lz=0.5, xy=1.0, xz=0.0, yz=1.0, dimensions=3)\n",
      "\n",
      "This is a 2d box from a matrix: \n",
      "\tBox(Lx=1.0, Ly=1.0, Lz=0.0, xy=0.0, xz=0.0, yz=0.0, dimensions=2)\n",
      "\n",
      "The box matrix was automatically detected: \n",
      "\tBox(Lx=1.0, Ly=1.0, Lz=0.5, xy=1.0, xz=0.0, yz=1.0, dimensions=3)\n",
      "\n",
      "Using a 3x3 numpy array: \n",
      "\tBox(Lx=1.0, Ly=1.0, Lz=0.5, xy=1.0, xz=0.0, yz=1.0, dimensions=3)\n",
      "\n"
     ]
    }
   ],
   "source": [
    "# Matrix representation. Note that the box must be right-handed!\n",
    "# This translates to requiring that the matrix be upper triangular.\n",
    "box = freud.box.Box.from_matrix([[1, 1, 0], [0, 1, 0.5], [0, 0, 0.5]])\n",
    "print(\"This is a 3d box from a matrix: \\n\\t{}\\n\".format(box))\n",
    "\n",
    "# 2d box\n",
    "box = freud.box.Box.from_matrix([[1, 0, 0], [0, 1, 0], [0, 0, 0]])\n",
    "print(\"This is a 2d box from a matrix: \\n\\t{}\\n\".format(box))\n",
    "\n",
    "# Automatic matrix detection using from_box\n",
    "box = freud.box.Box.from_box([[1, 1, 0], [0, 1, 0.5], [0, 0, 0.5]])\n",
    "print(\"The box matrix was automatically detected: \\n\\t{}\\n\".format(box))\n",
    "\n",
    "# Boxes can be numpy arrays as well\n",
    "box = freud.box.Box.from_box(np.array([[1, 1, 0], [0, 1, 0.5], [0, 0, 0.5]]))\n",
    "print(\"Using a 3x3 numpy array: \\n\\t{}\".format(box))"
   ]
  },
  {
   "cell_type": "markdown",
   "metadata": {},
   "source": [
    "## From a namedtuple or dict\n",
    "\n",
    "A box can be also be constructed from a namedtuple with the appropriate entries.\n",
    "Any other object that provides a similar API for attribute-based of $L_x$, $L_y$, $L_z$, $xy$, $xz$, and $yz$ (or some subset) will work equally well.\n",
    "This method is suitable for passing in box objects constructed by some other program, for example."
   ]
  },
  {
   "cell_type": "code",
   "execution_count": 35,
   "metadata": {},
   "outputs": [
    {
     "name": "stdout",
     "output_type": "stream",
     "text": [
      "Box from named tuple: \n",
      "\tBox(Lx=5.0, Ly=3.0, Lz=2.0, xy=0.0, xz=0.0, yz=0.0, dimensions=3)\n",
      "\n",
      "2d Box from named tuple: \n",
      "\tBox(Lx=5.0, Ly=3.0, Lz=0.0, xy=0.0, xz=0.0, yz=0.0, dimensions=2)\n"
     ]
    }
   ],
   "source": [
    "from collections import namedtuple\n",
    "MyBox = namedtuple('mybox', ['Lx', 'Ly', 'Lz', 'xy', 'xz', 'yz', 'dimensions'], defaults=[0, 0, 0 ,0, 0, 0, 3])\n",
    "\n",
    "box = freud.box.Box.from_box(MyBox(Lx=5, Ly=3, Lz=2))\n",
    "print(\"Box from named tuple: \\n\\t{}\\n\".format(box))\n",
    "\n",
    "box = freud.box.Box.from_box(MyBox(Lx=5, Ly=3, dimensions=2))\n",
    "print(\"2d Box from named tuple: \\n\\t{}\".format(box))"
   ]
  },
  {
   "cell_type": "markdown",
   "metadata": {},
   "source": [
    "Similarly, construction is also possible using any object that supports key-value indexing, such as a dict."
   ]
  },
  {
   "cell_type": "code",
   "execution_count": 34,
   "metadata": {},
   "outputs": [
    {
     "name": "stdout",
     "output_type": "stream",
     "text": [
      "Box from dict: \n",
      "\t{'Lx': 5, 'Ly': 3, 'Lz': 2}\n"
     ]
    }
   ],
   "source": [
    "box = dict(Lx=5, Ly=3, Lz=2)\n",
    "print(\"Box from dict: \\n\\t{}\".format(box))"
   ]
  },
  {
   "cell_type": "markdown",
   "metadata": {},
   "source": [
    "## From a list\n",
    "\n",
    "Finally, boxes can be constructed from any simple iterable that provides the elements in the correct order."
   ]
  },
  {
   "cell_type": "code",
   "execution_count": 47,
   "metadata": {},
   "outputs": [
    {
     "name": "stdout",
     "output_type": "stream",
     "text": [
      "Box from tuple: \n",
      "\tBox(Lx=5.0, Ly=6.0, Lz=7.0, xy=0.5, xz=0.0, yz=0.5, dimensions=3)\n",
      "\n",
      "2D Box from list: \n",
      "\tBox(Lx=5.0, Ly=6.0, Lz=0.0, xy=0.0, xz=0.0, yz=0.0, dimensions=2)\n"
     ]
    }
   ],
   "source": [
    "box = freud.box.Box.from_box((5, 6, 7, 0.5, 0, 0.5))\n",
    "print(\"Box from tuple: \\n\\t{}\\n\".format(box))\n",
    "\n",
    "box = freud.box.Box.from_box([5, 6])\n",
    "print(\"2D Box from list: \\n\\t{}\".format(box))"
   ]
  },
  {
   "cell_type": "markdown",
   "metadata": {},
   "source": [
    "## Convenience APIs\n",
    "\n",
    "We also provide convenience constructors for common geometries, namely square (2d) and cubic (3d) boxes."
   ]
  },
  {
   "cell_type": "code",
   "execution_count": 52,
   "metadata": {},
   "outputs": [
    {
     "name": "stdout",
     "output_type": "stream",
     "text": [
      "Cubic Box: \n",
      "\tBox(Lx=5.0, Ly=5.0, Lz=5.0, xy=0.0, xz=0.0, yz=0.0, dimensions=3)\n",
      "\n",
      "Square Box: \n",
      "\tBox(Lx=5.0, Ly=5.0, Lz=0.0, xy=0.0, xz=0.0, yz=0.0, dimensions=2)\n"
     ]
    }
   ],
   "source": [
    "cube_box = freud.box.Box.cube(L=5)\n",
    "print(\"Cubic Box: \\n\\t{}\\n\".format(cube_box))\n",
    "\n",
    "square_box = freud.box.Box.square(L=5)\n",
    "print(\"Square Box: \\n\\t{}\".format(square_box))"
   ]
  },
  {
   "cell_type": "markdown",
   "metadata": {},
   "source": [
    "# Export\n",
    "\n",
    "If you want to export or display the box, you can export box objects into their matrix or namedtuple representations, which provide completely specified descriptions of the box.\n",
    "Note that the namedtuple type used by freud boxes, the BoxTuple, is simply an internal representation."
   ]
  },
  {
   "cell_type": "code",
   "execution_count": 53,
   "metadata": {},
   "outputs": [
    {
     "data": {
      "text/plain": [
       "[[5.0, 0.0, 0.0], [0, 5.0, 0.0], [0, 0, 5.0]]"
      ]
     },
     "execution_count": 53,
     "metadata": {},
     "output_type": "execute_result"
    }
   ],
   "source": [
    "cube_box = freud.box.Box.cube(L=5)\n",
    "cube_box.to_matrix()"
   ]
  },
  {
   "cell_type": "code",
   "execution_count": 54,
   "metadata": {},
   "outputs": [
    {
     "data": {
      "text/plain": [
       "BoxTuple(Lx=5.0, Ly=5.0, Lz=5.0, xy=0.0, xz=0.0, yz=0.0)"
      ]
     },
     "execution_count": 54,
     "metadata": {},
     "output_type": "execute_result"
    }
   ],
   "source": [
    "cube_box.to_tuple()"
   ]
  },
  {
   "cell_type": "markdown",
   "metadata": {},
   "source": [
    "# Using boxes\n",
    "\n",
    "Given a freud box object, you can query it for all its attributes."
   ]
  },
  {
   "cell_type": "code",
   "execution_count": 58,
   "metadata": {},
   "outputs": [
    {
     "name": "stdout",
     "output_type": "stream",
     "text": [
      "L_x = 10.0, L_y = 10.0, L_z = 10.0, xy = 0.0, xz = 0.0, yz = 0.0\n",
      "\n",
      "The length vector: (10.0, 10.0, 10.0)\n",
      "The inverse length vector: (0.10000000149011612, 0.10000000149011612, 0.10000000149011612)\n"
     ]
    },
    {
     "data": {
      "text/plain": [
       "array([0.5, 0. , 0. ], dtype=float32)"
      ]
     },
     "execution_count": 58,
     "metadata": {},
     "output_type": "execute_result"
    }
   ],
   "source": [
    "box = freud.box.Box.from_matrix([[10, 0, 0], [0, 10, 0], [0, 0, 10]])\n",
    "print(\"L_x = {}, L_y = {}, L_z = {}, xy = {}, xz = {}, yz = {}\\n\".format(\n",
    "    box.Lx, box.Ly, box.Lz, box.xy, box.xz, box.yz))\n",
    "\n",
    "print(\"The length vector: {}\".format(box.getL()))\n",
    "print(\"The inverse length vector: {}\".format(box.getLinv()))\n"
   ]
  },
  {
   "cell_type": "markdown",
   "metadata": {},
   "source": [
    "Boxes also support converting to and from fractional coordinates.\n",
    "\n",
    "**Note that the origin is defined at the center of the box, so the fractional coordinate range $[0, 1]$ maps onto $[-L/2, L/2]$, not $[0, L]$.**"
   ]
  },
  {
   "cell_type": "code",
   "execution_count": 63,
   "metadata": {},
   "outputs": [
    {
     "name": "stdout",
     "output_type": "stream",
     "text": [
      "[-5.0, -5.0, -5.0]\n",
      "[0.0, 0.0, 0.0]\n",
      "[3.0, -2.0, 5.0]\n",
      "\n",
      "[0.0, 0.0, 0.0]\n",
      "[0.5, 0.5, 0.5]\n",
      "[0.800000011920929, 0.30000001192092896, 1.0]\n"
     ]
    }
   ],
   "source": [
    "# Conversion to coordinate representation from fractions.\n",
    "print(box.makeCoordinates([0, 0, 0]))\n",
    "print(box.makeCoordinates([0.5, 0.5, 0.5]))\n",
    "print(box.makeCoordinates([0.8, 0.3, 1]))\n",
    "print()\n",
    "\n",
    "# Conversion to and from coordinate representation, resulting\n",
    "# in the input fractions.\n",
    "print(box.makeFraction(box.makeCoordinates([0, 0, 0])))\n",
    "print(box.makeFraction(box.makeCoordinates([0.5, 0.5, 0.5])))\n",
    "print(box.makeFraction(box.makeCoordinates([0.8, 0.3, 1])))"
   ]
  }
 ],
 "metadata": {
  "kernelspec": {
   "display_name": "Python 3",
   "language": "python",
   "name": "python3"
  },
  "language_info": {
   "codemirror_mode": {
    "name": "ipython",
    "version": 3
   },
   "file_extension": ".py",
   "mimetype": "text/x-python",
   "name": "python",
   "nbconvert_exporter": "python",
   "pygments_lexer": "ipython3",
   "version": "3.7.0"
  },
  "toc": {
   "base_numbering": 1,
   "nav_menu": {},
   "number_sections": true,
   "sideBar": true,
   "skip_h1_title": false,
   "title_cell": "Table of Contents",
   "title_sidebar": "Contents",
   "toc_cell": false,
   "toc_position": {},
   "toc_section_display": true,
   "toc_window_display": false
  }
 },
 "nbformat": 4,
 "nbformat_minor": 2
}
