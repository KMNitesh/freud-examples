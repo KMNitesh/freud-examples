{
 "cells": [
  {
   "cell_type": "markdown",
   "metadata": {},
   "source": [
    "# freud Example Notebooks\n",
    "\n",
    "Welcome to `freud` example Jupyter notebooks. Here you will find example notebooks which demonstrate how to use `freud`.\n",
    "\n",
    "For help installing or compiling freud, see the [freud repository](https://bitbucket.org/glotzer/freud). Documentation is [available online](https://freud.readthedocs.io/).\n",
    "\n",
    "These notebooks may be launched [interactively on Binder](https://mybinder.org/v2/gh/glotzerlab/freud-examples/master?filepath=index.ipynb)\n",
    "or downloaded and run on your own system.\n",
    "\n",
    "Run locally:\n",
    "```bash\n",
    "git clone https://bitbucket.org/glotzer/freud-examples.git\n",
    "cd freud-examples\n",
    "jupyter notebook # or \"jupyter lab\"\n",
    "```\n",
    "\n",
    "See [Notebook Basics](http://nbviewer.jupyter.org/github/jupyter/notebook/blob/master/docs/source/examples/Notebook/Notebook%20Basics.ipynb) and [Running Code](http://nbviewer.jupyter.org/github/jupyter/notebook/blob/master/docs/source/examples/Notebook/Running%20Code.ipynb) for tutorials on using Jupyter itself.\n",
    "\n",
    "## Using Bokeh\n",
    "\n",
    "Some example notebooks require [bokeh](https://bokeh.pydata.org/en/latest/).\n",
    "If the bokeh package is installed, Jupyter Notebook should be supported automatically, though JupyterLab requires a second step for installation:\n",
    "\n",
    "```bash\n",
    "jupyter labextension install jupyterlab_bokeh\n",
    "```"
   ]
  },
  {
   "cell_type": "markdown",
   "metadata": {},
   "source": [
    "## Getting Started\n",
    "\n",
    "- [Introduction](Introduction.ipynb)\n",
    "- [Importing freud](ImportingFreud.ipynb)\n",
    "- [Box](Box.ipynb)\n",
    "- [Nearest Neighbors](NearestNeighbors.ipynb) (*Note: this notebook might take a while to load, especially if you are running on mybinder.org*)\n",
    "\n",
    "## Module Examples\n",
    "\n",
    "These notebooks go into greater detail, showing the full functionality of each module in `freud`.\n",
    "\n",
    "- Bond\n",
    "- [Cluster](Cluster.ipynb)\n",
    "- Density\n",
    "  - [FloatCF: Grain Size Determination](Density-FloatCF-GrainSize.ipynb)\n",
    "  - [ComplexCF: Long Range Orientational Order](Density-ComplexCF-Orientation.ipynb)\n",
    "  - [RDF: Computing Unit Cell RDFs](Density-RDF-UnitCell.ipynb)\n",
    "- Environment\n",
    "  - [BondOrder: Computing Bond Order Diagrams](Environment-BondOrder.ipynb)\n",
    "  - [MatchEnv: Clustering Local Particle Environments](Environment-MatchEnv.ipynb)\n",
    "- Locality\n",
    "- Order\n",
    "- PMFT\n",
    "- [Voronoi](Voronoi.ipynb)\n",
    "\n",
    "## Advanced Topics\n",
    "\n",
    "- [Creating a NumPy array from pointers](CopyVsPointers.ipynb)"
   ]
  },
  {
   "cell_type": "markdown",
   "metadata": {},
   "source": [
    "# Seminars and Demonstrations\n",
    "\n",
    "- [AFRL 2017 Demonstration](AFRL2017-Demo.ipynb)\n",
    "- [APS March Meeting 2017 Demonstration](APS2017-Demo.ipynb)\n",
    "- AIChE Fall Meeting 2016 Demos: *Datasets used in these examples are a system of hard hexagons,\n",
    "  simulated in the NVT thermodynamic ensemble in HOOMD-blue, for a dense fluid (phi065) and a solid (phi075).*\n",
    "  - [RDF](AIChE2016-RDF.ipynb)\n",
    "  - [PMFT](AIChE2016-PMFT.ipynb)\n",
    "  - [Hexatic](AIChE2016-Hexatic.ipynb)"
   ]
  }
 ],
 "metadata": {
  "kernelspec": {
   "display_name": "Python 3",
   "language": "python",
   "name": "python3"
  },
  "language_info": {
   "codemirror_mode": {
    "name": "ipython",
    "version": 3
   },
   "file_extension": ".py",
   "mimetype": "text/x-python",
   "name": "python",
   "nbconvert_exporter": "python",
   "pygments_lexer": "ipython3",
   "version": "3.6.6"
  }
 },
 "nbformat": 4,
 "nbformat_minor": 2
}
