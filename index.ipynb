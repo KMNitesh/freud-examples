{
 "cells": [
  {
   "cell_type": "markdown",
   "metadata": {},
   "source": [
    "# freud - Example Notebooks\n",
    "\n",
    "The `freud` library enables advanced analysis of particle simulations, particularly those utilizing periodic boundary conditions.\n",
    "This collection of Jupyter notebooks provides examples of how the different modules of `freud` can be used for different types of analysis.\n",
    "These notebooks may be launched [interactively on Binder](https://mybinder.org/v2/gh/glotzerlab/freud-examples/master?filepath=index.ipynb) or downloaded and run on your own system.\n",
    "\n",
    "Run locally:\n",
    "```bash\n",
    "git clone https://github.com/glotzerlab/freud-examples.git\n",
    "cd freud-examples\n",
    "jupyter notebook # or \"jupyter lab\"\n",
    "```\n",
    "\n",
    "See [Notebook Basics](http://nbviewer.jupyter.org/github/jupyter/notebook/blob/master/docs/source/examples/Notebook/Notebook%20Basics.ipynb) and [Running Code](http://nbviewer.jupyter.org/github/jupyter/notebook/blob/master/docs/source/examples/Notebook/Running%20Code.ipynb) for tutorials on using Jupyter itself."
   ]
  },
  {
   "cell_type": "markdown",
   "metadata": {},
   "source": [
    "## Getting Started\n",
    "\n",
    "The recommended method for installing `freud` is using conda-forge (`conda install -c conda-forge freud`), but for developers or non-conda users `freud` can also be installed from source by cloning [the Git repository](https://github.com/glotzerlab/freud).\n",
    "Note that `freud` itself requires [`numpy`](http://www.numpy.org/) and [Intel TBB](https://www.threadingbuildingblocks.org/) for installation.\n",
    "These can be easily installed through package managers, like conda, and if you install `freud` through conda they will be automatically installed for you.\n",
    "\n",
    "Some of these notebooks also have a number of additional dependencies.\n",
    "In particular, all of these notebooks involve making plots with either [Matplotlib](https://matplotlib.org/) or [Bokeh](https://bokeh.pydata.org/en/latest/), so you will also need to install those to run these notebooks locally.\n",
    "Note that because Bokeh uses Javascript, if you are running these notebooks using JupyterLab you will need to execute an additional command for installation:\n",
    "\n",
    "```bash\n",
    "jupyter labextension install jupyterlab_bokeh\n",
    "```\n",
    "\n",
    "If you have any issues with installing or seek more information about `freud`, please refer to the [`freud` documentation](freud.readthedocs.io/)."
   ]
  },
  {
   "cell_type": "markdown",
   "metadata": {},
   "source": [
    "<div class=\"alert alert-danger\">\n",
    "    Most objects in `freud` store objects in C++ arrays and return NumPy arrays pointing to these underlying C++ arrays. As a result, the data in most `freud` objects is stored by reference, so a second compute call will cause the original data to be overwritten, even if you save it. For example, the following code will always print `True`:<br></br><code>box = freud.box.Box.cube(1)\n",
    "points1 = np.random.rand(10, 3)\n",
    "points2 = np.random.rand(10, 3)\n",
    "rdf = freud.density.RDF(3, 0.1)\n",
    "RDF = rdf.compute(box, points1).RDF\n",
    "print(np.allclose(rdf.compute(box, points2).RDF, RDF))\n",
    "</code><br></br>\n",
    "To avoid this, save objects by copy: <code>RDF = rdf.compute(box, points1).RDF.copy() </code>\n",
    "</div>"
   ]
  },
  {
   "cell_type": "markdown",
   "metadata": {},
   "source": [
    "## Key concepts\n",
    "\n",
    "There are a few critical concepts, algorithms, and data structures that are central to all of `freud`.\n",
    "In order to familiarize yourself with these before delving too deep into the workings of specific `freud` modules, we recommend looking through certain notebooks first.\n",
    "**In this cell and the next one, each `freud` module is linked to the documentation for more information, while the links in the list point to Jupyter notebooks demonstrating the classes in those modules.**\n",
    "\n",
    "- [`freud.box`](https://freud.readthedocs.io/en/stable/box.html): The box module defines the Box object used throughout `freud` to represent periodic simulation boxes. Since all analysis methods involve some representation of particles in a box of some sort, it is useful to understand boxes and periodicity before attempting to use the rest of `freud`.\n",
    "  - [Box](module_intros/Box-Box.ipynb)\n",
    "  - [ParticleBuffer](module_intros/Box-ParticleBuffer.ipynb)\n",
    "- [`freud.locality`](https://freud.readthedocs.io/en/stable/locality.html): The locality module enables neighbor list calculations, which provide information on which particles are near to other particles in a system. These nearest-neighbor-types are a common first step in more involved analyses of simulations.\n",
    "  - [LinkCell](module_intros/Locality-LinkCell.ipynb): The cell list acceleration structure is commonly used for finding particles within a certain cutoff distance of other particles.\n",
    "  - [Nearest Neighbors](module_intros/Locality-NearestNeighbors.ipynb): This class builds on top of the LinkCell class to allow neighbor list calculations that require finding at least a certain number of nearest neighbors for each particle rather than having a strict distance cutoff for finding neighbors. (*Note: this notebook might take a while to load, especially if you are running on mybinder.org*)"
   ]
  },
  {
   "cell_type": "markdown",
   "metadata": {},
   "source": [
    "## Module Examples\n",
    "\n",
    "These notebooks go into greater detail, showing the full functionality of each module in `freud`.\n",
    "\n",
    "- [`freud.cluster`](https://freud.readthedocs.io/en/stable/cluster.html)\n",
    "  - [Cluster](module_intros/Cluster-Cluster.ipynb): Cluster points by distance\n",
    "- [`freud.density`](https://freud.readthedocs.io/en/stable/density.html)\n",
    "  - [ComplexCF: Long Range Orientational Order](module_intros/Density-ComplexCF.ipynb): Calculation complex-valued correlation functions.\n",
    "  - [FloatCF: Grain Size Determination](module_intros/Density-FloatCF.ipynb): Calculation real-valued correlation functions.\n",
    "  - [Gaussian Density](module_intros/Density-GaussianDensity.ipynb): Interpolate particle densities onto a regular grid.\n",
    "  - [Local Density](module_intros/Density-LocalDensity.ipynb): Estimate system density near specific points.\n",
    "  - RDF: Compute the radial distribution function $g(r)$.\n",
    "    - [RDF: Calculating $g(r)$](module_intros/Density-RDF-AccumulateFluid.ipynb)\n",
    "    - [RDF: Choosing Bin Widths](module_intros/Density-RDF-BinWidth.ipynb)\n",
    "- [`freud.environment`](https://freud.readthedocs.io/en/stable/environment.html)\n",
    "  - [AngularSeparation](module_intros/Environment-AngularSeparation.ipynb): Find relative angles of nearby particles.\n",
    "  - [BondOrder: Computing Bond Order Diagrams](module_intros/Environment-BondOrder.ipynb): Compute bond orientational order diagrams.\n",
    "  - [LocalDescriptors](module_intros/Environment-LocalDescriptors-Steinhardt.ipynb): Calculate spherical harmonics for nearest-neighbors.\n",
    "  - [MatchEnv: Clustering Local Particle Environments](module_intros/Environment-MatchEnvCluster.ipynb): Attempt to match various particle motifs.\n",
    "- [`freud.interface`](https://freud.readthedocs.io/en/stable/interface.html)\n",
    "  - [Interface](module_intros/Interface-Interface.ipynb): Find interfaces between particles.\n",
    "- [`freud.order`](https://freud.readthedocs.io/en/stable/order.html)\n",
    "  - [k-atic Order Parameter](module_intros/Order-HexOrderParameter.ipynb): Calculate the k-atic order parameter.\n",
    "  - [Nematic Order Parameter](module_intros/Order-NematicOrderParameter.ipynb): Calculate the nematic order parameter.\n",
    "  - [Steinhardt Order Parameters](module_intros/Order-Steinhardt.ipynb): Calculate the $Q_l$ and $W_l$ Steinhardt order parameters (and some variants).\n",
    "- [`freud.pmft`](https://freud.readthedocs.io/en/stable/pmft.html)\n",
    "  - [PMFT in 2D](module_intros/PMFT-PMFTXY2D.ipynb): Compute the potential of mean force for 2D systems.\n",
    "  - [PMFT in 3D](module_intros/PMFT-PMFTXYZ_Shift_Example.ipynb): Compute the potential of mean force for 3D systems.\n",
    "- [`freud.voronoi`](https://freud.readthedocs.io/en/stable/voronoi.html)\n",
    "  - [Voronoi](module_intros/Voronoi-Voronoi.ipynb): Find Voronoi cells."
   ]
  },
  {
   "cell_type": "markdown",
   "metadata": {},
   "source": [
    "## Seminars and Demonstrations\n",
    "\n",
    "The `freud` library has been demoed at a number of seminars, conferences, national labs.\n",
    "We collect these demos here to show how `freud` has been used to analyze simulation data in real systems.\n",
    "\n",
    "- [AFRL 2017 Demonstration](AFRL2017-Demo.ipynb)\n",
    "- [APS March Meeting 2017 Demonstration](APS2017-Demo.ipynb)\n",
    "- AIChE Fall Meeting 2016 Demos: *Datasets used in these examples are a system of hard hexagons,\n",
    "  simulated in the NVT thermodynamic ensemble in HOOMD-blue, for a dense fluid (phi065) and a solid (phi075).*\n",
    "  - [RDF](AIChE2016-RDF.ipynb)\n",
    "  - [PMFT](AIChE2016-PMFT.ipynb)\n",
    "  - [Hexatic](AIChE2016-Hexatic.ipynb)"
   ]
  }
 ],
 "metadata": {
  "kernelspec": {
   "display_name": "Python 3",
   "language": "python",
   "name": "python3"
  },
  "language_info": {
   "codemirror_mode": {
    "name": "ipython",
    "version": 3
   },
   "file_extension": ".py",
   "mimetype": "text/x-python",
   "name": "python",
   "nbconvert_exporter": "python",
   "pygments_lexer": "ipython3",
   "version": "3.7.3"
  }
 },
 "nbformat": 4,
 "nbformat_minor": 2
}
