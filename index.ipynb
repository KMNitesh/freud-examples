{
 "cells": [
  {
   "cell_type": "markdown",
   "metadata": {},
   "source": [
    "# Freud Example Notebooks\n",
    "\n",
    "Welcome to Freud example Jupyter notebooks. Here you will find example notebooks which demonstrate how to use Freud, including basic and advanced examples.\n",
    "\n",
    "You can launch an interactive version of these notebooks by cloning the [freud repository](https://bitbucket.org/glotzer/freud) and running on your own machine,\n",
    "or try the static [nbviewer version](http://nbviewer.jupyter.org/github/harperic/freud-examples/blob/master/index.ipynb) or the dynamic [mybinder version](http://mybinder.org/repo/harperic/freud-examples).\n",
    "\n",
    "Run locally:\n",
    "```\n",
    "git clone https://bitbucket.org/glotzer/freud-examples.git\n",
    "cd freud-examples\n",
    "jupyter notebook\n",
    "```\n",
    "\n",
    "See [Notebook Basics](http://nbviewer.jupyter.org/github/jupyter/notebook/blob/master/docs/source/examples/Notebook/Notebook%20Basics.ipynb) and [Running Code](http://nbviewer.jupyter.org/github/jupyter/notebook/blob/master/docs/source/examples/Notebook/Running%20Code.ipynb) for tutorials on using Jupyter itself.\n",
    "\n",
    "**These examples are a work in progress, many entries in this index are placeholders for planned examples.**\n",
    "\n",
    "## Tutorials\n",
    "\n",
    "- [Installation](Installation.ipynb)\n",
    "- [Introduction](Introduction.ipynb)\n",
    "- [Importing Freud](ImportingFreud.ipynb)\n",
    "- [Box](Box.ipynb)\n",
    "- [Nearest Neighbors](NearestNeighbors.ipynb)\n",
    "\n",
    "## Advanced Topics\n",
    "\n",
    "- [Creating a NumPy array from pointers](CopyVsPointers.ipynb)\n",
    "\n",
    "## AIChE Fall Meeting 2016 Demos\n",
    "\n",
    "*Datasets used in these examples are a system of hard hexagons, simulated in the NVT thermodynamic ensemble in HOOMD-Blue, for a dense fluid (phi065) and a solid (phi075)*\n",
    "\n",
    "- [RDF](AIChE RDF.ipynb)\n",
    "- [PMFT](AIChE PMFT.ipynb)\n",
    "- [Hexatic](AIChE Hexatic.ipynb)"
   ]
  },
  {
   "cell_type": "code",
   "execution_count": null,
   "metadata": {
    "collapsed": true
   },
   "outputs": [],
   "source": []
  }
 ],
 "metadata": {
  "kernelspec": {
   "display_name": "Python 3",
   "language": "python",
   "name": "python3"
  },
  "language_info": {
   "codemirror_mode": {
    "name": "ipython",
    "version": 3
   },
   "file_extension": ".py",
   "mimetype": "text/x-python",
   "name": "python",
   "nbconvert_exporter": "python",
   "pygments_lexer": "ipython3",
   "version": "3.5.1"
  }
 },
 "nbformat": 4,
 "nbformat_minor": 0
}
