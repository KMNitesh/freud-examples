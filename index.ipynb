{
 "cells": [
  {
   "cell_type": "markdown",
   "metadata": {},
   "source": [
    "# Freud example notebooks\n",
    "\n",
    "Welcome to Freud example Jupyter notebooks. Here you will find example notebooks which demonstrate how to use Freud, including basic and advanced examples.\n",
    "\n",
    "You can launch an interactive version of these notebooks by cloning the [freud repository](https://bitbucket.org/glotzer/freud) and running on your own machine. Look for a mybinder version soon.\n",
    "\n",
    "```\n",
    "git clone https://bitbucket.org/glotzer/freud.git\n",
    "cd examples\n",
    "jupyter notebook\n",
    "```\n",
    "\n",
    "See [Notebook Basics](http://nbviewer.jupyter.org/github/jupyter/notebook/blob/master/docs/source/examples/Notebook/Notebook%20Basics.ipynb) and [Running Code](http://nbviewer.jupyter.org/github/jupyter/notebook/blob/master/docs/source/examples/Notebook/Running%20Code.ipynb) for tutorials on using jupyter itself.\n",
    "\n",
    "**These examples are a work in progress, many entries in this index are placeholders for planned examples.**\n",
    "\n",
    "## Tutorials\n",
    "\n",
    "- [Installation](Installation.ipynb)\n",
    "- [Introduction](Introduction.ipynb)\n",
    "- [Importing Freud](ImportingFreud.ipynb)\n",
    "- [Box](Box.ipynb)\n",
    "\n",
    "## Advanced Topics\n",
    "\n",
    "- [Numpy array from pointers]()"
   ]
  },
  {
   "cell_type": "code",
   "execution_count": null,
   "metadata": {
    "collapsed": true
   },
   "outputs": [],
   "source": []
  }
 ],
 "metadata": {
  "kernelspec": {
   "display_name": "Python 3",
   "language": "python",
   "name": "python3"
  },
  "language_info": {
   "codemirror_mode": {
    "name": "ipython",
    "version": 3
   },
   "file_extension": ".py",
   "mimetype": "text/x-python",
   "name": "python",
   "nbconvert_exporter": "python",
   "pygments_lexer": "ipython3",
   "version": "3.5.1"
  }
 },
 "nbformat": 4,
 "nbformat_minor": 0
}
