{
 "cells": [
  {
   "cell_type": "markdown",
   "metadata": {},
   "source": [
    "# freud Example Notebooks\n",
    "\n",
    "Welcome to `freud` example Jupyter notebooks. Here you will find example notebooks which demonstrate how to use `freud`.\n",
    "\n",
    "For help installing or compiling freud, see the [freud repository webpage](https://bitbucket.org/glotzer/freud). Documentation is [available online](https://freud.readthedocs.io/).\n",
    "\n",
    "You can launch an interactive version of these notebooks by cloning the [freud repository](https://bitbucket.org/glotzer/freud) and running on your own machine, or try the static [nbviewer version](http://nbviewer.jupyter.org/github/harperic/freud-examples/blob/master/index.ipynb) or the dynamic [mybinder version](http://mybinder.org/repo/harperic/freud-examples).\n",
    "\n",
    "Run locally:\n",
    "```\n",
    "git clone https://bitbucket.org/glotzer/freud-examples.git\n",
    "cd freud-examples\n",
    "jupyter notebook\n",
    "```\n",
    "\n",
    "See [Notebook Basics](http://nbviewer.jupyter.org/github/jupyter/notebook/blob/master/docs/source/examples/Notebook/Notebook%20Basics.ipynb) and [Running Code](http://nbviewer.jupyter.org/github/jupyter/notebook/blob/master/docs/source/examples/Notebook/Running%20Code.ipynb) for tutorials on using Jupyter itself."
   ]
  },
  {
   "cell_type": "markdown",
   "metadata": {},
   "source": [
    "## Tutorials\n",
    "\n",
    "- [Introduction](Introduction.ipynb)\n",
    "- [Importing freud](ImportingFreud.ipynb)\n",
    "- [Box](Box.ipynb)\n",
    "- [Nearest Neighbors](NearestNeighbors.ipynb) (*Note: this notebook might take a while to load, especially if you are running on mybinder.org*)\n",
    "\n",
    "## Module Examples\n",
    "\n",
    "- Bond\n",
    "- [Cluster](Cluster.ipynb)\n",
    "- Density\n",
    "- Locality\n",
    "- Order\n",
    "  - [Bond Order](Order-BondOrder.ipynb)\n",
    "- PMFT\n",
    "- Voronoi\n",
    "\n",
    "## Advanced Topics\n",
    "\n",
    "- [Creating a NumPy array from pointers](CopyVsPointers.ipynb)"
   ]
  },
  {
   "cell_type": "markdown",
   "metadata": {},
   "source": [
    "# Seminars and Demonstrations\n",
    "\n",
    "- [AFRL 2017 Demonstration](AFRLDemo.ipynb)\n",
    "- [APS March Meeting 2017 Demonstration](APSDemo.ipynb)\n",
    "- AIChE Fall Meeting 2016 Demos: *Datasets used in these examples are a system of hard hexagons, simulated in the NVT thermodynamic ensemble in HOOMD-Blue, for a dense fluid (phi065) and a solid (phi075)*\n",
    "\n",
    "  - [RDF](AIChE RDF.ipynb)\n",
    "  - [PMFT](AIChE PMFT.ipynb)\n",
    "  - [Hexatic](AIChE Hexatic.ipynb)"
   ]
  }
 ],
 "metadata": {
  "kernelspec": {
   "display_name": "Python 3",
   "language": "python",
   "name": "python3"
  },
  "language_info": {
   "codemirror_mode": {
    "name": "ipython",
    "version": 3
   },
   "file_extension": ".py",
   "mimetype": "text/x-python",
   "name": "python",
   "nbconvert_exporter": "python",
   "pygments_lexer": "ipython3",
   "version": "3.6.4"
  }
 },
 "nbformat": 4,
 "nbformat_minor": 2
}
