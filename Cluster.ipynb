{
 "cells": [
  {
   "cell_type": "markdown",
   "metadata": {},
   "source": [
    "# Cluster Module\n",
    "\n",
    "The cluster module uses a set of coordinates and a cutoff distance to determine clustered points. The example below generates random points, and shows that they form clusters. This case is two-dimensional (with z=0 for all particles) for simplicity, but the cluster module works for both 2D and 3D simulations."
   ]
  },
  {
   "cell_type": "code",
   "execution_count": 2,
   "metadata": {},
   "outputs": [],
   "source": [
    "import numpy as np\n",
    "import freud\n",
    "import matplotlib.pyplot as plt"
   ]
  },
  {
   "cell_type": "markdown",
   "metadata": {},
   "source": [
    "First, we generate random points to cluster."
   ]
  },
  {
   "cell_type": "code",
   "execution_count": 3,
   "metadata": {},
   "outputs": [
    {
     "data": {
      "image/png": "[encoded data removed]",
      "text/plain": [
       "<Figure size 432x288 with 1 Axes>"
      ]
     },
     "metadata": {},
     "output_type": "display_data"
    }
   ],
   "source": [
    "points = np.empty(shape=(0, 2))\n",
    "for center_point in [(0, 0), (2, 2), (-1, 2), (2, 3)]:\n",
    "    points = np.concatenate(\n",
    "        (points, np.random.multivariate_normal(mean=center_point, cov=0.05*np.eye(2), size=(100,))))\n",
    "plt.scatter(points[:,0], points[:,1])\n",
    "plt.title('Raw points before clustering')\n",
    "plt.show()\n",
    "\n",
    "# We must add a z=0 component to this array for freud\n",
    "points = np.hstack((points, np.zeros((points.shape[0], 1))))"
   ]
  },
  {
   "cell_type": "markdown",
   "metadata": {},
   "source": [
    "Now we create a box and a cluster compute object."
   ]
  },
  {
   "cell_type": "code",
   "execution_count": 4,
   "metadata": {},
   "outputs": [
    {
     "ename": "ValueError",
     "evalue": "3D boxes must have nonzero lengths.",
     "output_type": "error",
     "traceback": [
      "\u001b[0;31m---------------------------------------------------------------------------\u001b[0m",
      "\u001b[0;31mValueError\u001b[0m                                Traceback (most recent call last)",
      "\u001b[0;32m<ipython-input-4-dcd4e8158709>\u001b[0m in \u001b[0;36m<module>\u001b[0;34m()\u001b[0m\n\u001b[0;32m----> 1\u001b[0;31m \u001b[0mbox\u001b[0m \u001b[0;34m=\u001b[0m \u001b[0mfreud\u001b[0m\u001b[0;34m.\u001b[0m\u001b[0mbox\u001b[0m\u001b[0;34m.\u001b[0m\u001b[0mBox\u001b[0m\u001b[0;34m.\u001b[0m\u001b[0msquare\u001b[0m\u001b[0;34m(\u001b[0m\u001b[0mL\u001b[0m\u001b[0;34m=\u001b[0m\u001b[0;36m10\u001b[0m\u001b[0;34m)\u001b[0m\u001b[0;34m\u001b[0m\u001b[0m\n\u001b[0m\u001b[1;32m      2\u001b[0m \u001b[0mcl\u001b[0m \u001b[0;34m=\u001b[0m \u001b[0mfreud\u001b[0m\u001b[0;34m.\u001b[0m\u001b[0mcluster\u001b[0m\u001b[0;34m.\u001b[0m\u001b[0mCluster\u001b[0m\u001b[0;34m(\u001b[0m\u001b[0mbox\u001b[0m\u001b[0;34m=\u001b[0m\u001b[0mbox\u001b[0m\u001b[0;34m,\u001b[0m \u001b[0mrcut\u001b[0m\u001b[0;34m=\u001b[0m\u001b[0;36m1.0\u001b[0m\u001b[0;34m)\u001b[0m\u001b[0;34m\u001b[0m\u001b[0m\n",
      "\u001b[0;32mfreud/box.pyx\u001b[0m in \u001b[0;36mfreud.box.Box.square\u001b[0;34m()\u001b[0m\n",
      "\u001b[0;32mfreud/box.pyx\u001b[0m in \u001b[0;36mfreud.box.Box.__cinit__\u001b[0;34m()\u001b[0m\n",
      "\u001b[0;31mValueError\u001b[0m: 3D boxes must have nonzero lengths."
     ]
    }
   ],
   "source": [
    "box = freud.box.Box.square(L=10)\n",
    "cl = freud.cluster.Cluster(box=box, rcut=1.0)"
   ]
  },
  {
   "cell_type": "markdown",
   "metadata": {},
   "source": [
    "Next, we use the `computeClusters` method to determine clusters and the `clusterIdx` property to return their identities. Note that we use `freud`'s *method chaining* here, where a compute method returns the compute object."
   ]
  },
  {
   "cell_type": "code",
   "execution_count": null,
   "metadata": {},
   "outputs": [],
   "source": [
    "cluster_idx = cl.computeClusters(points).cluster_idx\n",
    "print(cluster_idx)"
   ]
  },
  {
   "cell_type": "code",
   "execution_count": null,
   "metadata": {},
   "outputs": [],
   "source": [
    "for cluster_id in range(cl.num_clusters):\n",
    "    cluster_point_indices = np.where(cluster_idx == cluster_id)[0]\n",
    "    plt.scatter(points[cluster_point_indices, 0], points[cluster_point_indices, 1], label=\"Cluster {}\".format(cluster_id))\n",
    "    print(\"There are {} points in cluster {}.\".format(len(cluster_point_indices), cluster_id))\n",
    "plt.title('Clusters identified')\n",
    "plt.legend(loc='best')\n",
    "plt.show()"
   ]
  },
  {
   "cell_type": "markdown",
   "metadata": {},
   "source": [
    "We may also compute the clusters' centers of mass and gyration tensor using the `ClusterProperties` class."
   ]
  },
  {
   "cell_type": "code",
   "execution_count": 6,
   "metadata": {},
   "outputs": [
    {
     "data": {
      "text/plain": [
       "<freud._freud.ClusterProperties at 0x7fe41626d860>"
      ]
     },
     "execution_count": 6,
     "metadata": {},
     "output_type": "execute_result"
    }
   ],
   "source": [
    "clp = freud.cluster.ClusterProperties(box=box)\n",
    "clp.computeProperties(points, cl.cluster_idx)"
   ]
  },
  {
   "cell_type": "markdown",
   "metadata": {},
   "source": [
    "Plotting these clusters with their centers of mass, with size proportional to the number of clustered points:"
   ]
  },
  {
   "cell_type": "code",
   "execution_count": 1,
   "metadata": {},
   "outputs": [
    {
     "ename": "NameError",
     "evalue": "name 'plt' is not defined",
     "output_type": "error",
     "traceback": [
      "\u001b[0;31m---------------------------------------------------------------------------\u001b[0m",
      "\u001b[0;31mNameError\u001b[0m                                 Traceback (most recent call last)",
      "\u001b[0;32m<ipython-input-1-cb6ac963423f>\u001b[0m in \u001b[0;36m<module>\u001b[0;34m()\u001b[0m\n\u001b[0;32m----> 1\u001b[0;31m \u001b[0mplt\u001b[0m\u001b[0;34m.\u001b[0m\u001b[0mfigure\u001b[0m\u001b[0;34m(\u001b[0m\u001b[0mfigsize\u001b[0m\u001b[0;34m=\u001b[0m\u001b[0;34m(\u001b[0m\u001b[0;36m9\u001b[0m\u001b[0;34m,\u001b[0m \u001b[0;36m6\u001b[0m\u001b[0;34m)\u001b[0m\u001b[0;34m)\u001b[0m\u001b[0;34m\u001b[0m\u001b[0m\n\u001b[0m\u001b[1;32m      2\u001b[0m \u001b[0;32mfor\u001b[0m \u001b[0mcluster_id\u001b[0m \u001b[0;32min\u001b[0m \u001b[0mrange\u001b[0m\u001b[0;34m(\u001b[0m\u001b[0mcl\u001b[0m\u001b[0;34m.\u001b[0m\u001b[0mnum_clusters\u001b[0m\u001b[0;34m)\u001b[0m\u001b[0;34m:\u001b[0m\u001b[0;34m\u001b[0m\u001b[0m\n\u001b[1;32m      3\u001b[0m     \u001b[0mcluster_point_indices\u001b[0m \u001b[0;34m=\u001b[0m \u001b[0mnp\u001b[0m\u001b[0;34m.\u001b[0m\u001b[0mwhere\u001b[0m\u001b[0;34m(\u001b[0m\u001b[0mcluster_idx\u001b[0m \u001b[0;34m==\u001b[0m \u001b[0mcluster_id\u001b[0m\u001b[0;34m)\u001b[0m\u001b[0;34m[\u001b[0m\u001b[0;36m0\u001b[0m\u001b[0;34m]\u001b[0m\u001b[0;34m\u001b[0m\u001b[0m\n\u001b[1;32m      4\u001b[0m     \u001b[0mplt\u001b[0m\u001b[0;34m.\u001b[0m\u001b[0mscatter\u001b[0m\u001b[0;34m(\u001b[0m\u001b[0mpoints\u001b[0m\u001b[0;34m[\u001b[0m\u001b[0mcluster_point_indices\u001b[0m\u001b[0;34m,\u001b[0m \u001b[0;36m0\u001b[0m\u001b[0;34m]\u001b[0m\u001b[0;34m,\u001b[0m \u001b[0mpoints\u001b[0m\u001b[0;34m[\u001b[0m\u001b[0mcluster_point_indices\u001b[0m\u001b[0;34m,\u001b[0m \u001b[0;36m1\u001b[0m\u001b[0;34m]\u001b[0m\u001b[0;34m,\u001b[0m \u001b[0mlabel\u001b[0m\u001b[0;34m=\u001b[0m\u001b[0;34m\"Cluster {}\"\u001b[0m\u001b[0;34m.\u001b[0m\u001b[0mformat\u001b[0m\u001b[0;34m(\u001b[0m\u001b[0mcluster_id\u001b[0m\u001b[0;34m)\u001b[0m\u001b[0;34m)\u001b[0m\u001b[0;34m\u001b[0m\u001b[0m\n\u001b[1;32m      5\u001b[0m \u001b[0;32mfor\u001b[0m \u001b[0mcluster_id\u001b[0m \u001b[0;32min\u001b[0m \u001b[0mrange\u001b[0m\u001b[0;34m(\u001b[0m\u001b[0mcl\u001b[0m\u001b[0;34m.\u001b[0m\u001b[0mnum_clusters\u001b[0m\u001b[0;34m)\u001b[0m\u001b[0;34m:\u001b[0m\u001b[0;34m\u001b[0m\u001b[0m\n",
      "\u001b[0;31mNameError\u001b[0m: name 'plt' is not defined"
     ]
    }
   ],
   "source": [
    "plt.figure(figsize=(9, 6))\n",
    "for cluster_id in range(cl.num_clusters):\n",
    "    cluster_point_indices = np.where(cluster_idx == cluster_id)[0]\n",
    "    plt.scatter(points[cluster_point_indices, 0], points[cluster_point_indices, 1], label=\"Cluster {}\".format(cluster_id))\n",
    "for cluster_id in range(cl.num_clusters):\n",
    "    cluster_point_indices = np.where(cluster_idx == cluster_id)[0]\n",
    "    plt.scatter(clp.cluster_COM[cluster_id, 0], clp.cluster_COM[cluster_id, 1], s=len(cluster_point_indices), label=\"Cluster {} COM\".format(cluster_id))\n",
    "plt.title('Center of mass for each cluster')\n",
    "plt.legend(loc='best')\n",
    "plt.show()"
   ]
  },
  {
   "cell_type": "markdown",
   "metadata": {},
   "source": [
    "The clusters' 3x3 gyration tensor $G$ can also be computed. For this two-dimensional case, the $z$ components of the gyration tensor are zero."
   ]
  },
  {
   "cell_type": "code",
   "execution_count": 8,
   "metadata": {},
   "outputs": [
    {
     "name": "stdout",
     "output_type": "stream",
     "text": [
      "The gyration tensor of cluster 0 is:\n",
      "[[0.0480928  0.00478933 0.        ]\n",
      " [0.00478933 0.05940801 0.        ]\n",
      " [0.         0.         0.        ]]\n",
      "The gyration tensor of cluster 1 is:\n",
      "[[ 0.03997406 -0.00352212  0.        ]\n",
      " [-0.00352212  0.31749186  0.        ]\n",
      " [ 0.          0.          0.        ]]\n",
      "The gyration tensor of cluster 2 is:\n",
      "[[0.04243931 0.00176673 0.        ]\n",
      " [0.00176673 0.05135175 0.        ]\n",
      " [0.         0.         0.        ]]\n"
     ]
    }
   ],
   "source": [
    "for cluster_id in range(cl.num_clusters):\n",
    "    G = clp.cluster_G[cluster_id]\n",
    "    print(\"The gyration tensor of cluster {} is:\\n{}\".format(cluster_id, G))"
   ]
  },
  {
   "cell_type": "markdown",
   "metadata": {},
   "source": [
    "This gyration tensor can be used to determine the principal axes of the cluster and radius of gyration along each principal axis. Here, we plot the gyration tensor's eigenvectors with length corresponding to the square root of the eigenvalues (the singular values)."
   ]
  },
  {
   "cell_type": "code",
   "execution_count": 9,
   "metadata": {},
   "outputs": [
    {
     "name": "stdout",
     "output_type": "stream",
     "text": [
      "Cluster 0 has radius of gyration 0.0463 along the axis of (-0.9389, -0.3441).\n",
      "Cluster 0 has radius of gyration 0.0612 along the axis of (0.3441, -0.9389).\n",
      "Cluster 1 has radius of gyration 0.0399 along the axis of (-0.9999, 0.0127).\n",
      "Cluster 1 has radius of gyration 0.3175 along the axis of (-0.0127, -0.9999).\n",
      "Cluster 2 has radius of gyration 0.0421 along the axis of (-0.9822, -0.1876).\n",
      "Cluster 2 has radius of gyration 0.0517 along the axis of (0.1876, -0.9822).\n"
     ]
    },
    {
     "data": {
      "image/png": "[encoded data removed]",
      "text/plain": [
       "<matplotlib.figure.Figure at 0x7fe44debfc50>"
      ]
     },
     "metadata": {},
     "output_type": "display_data"
    }
   ],
   "source": [
    "for cluster_id in range(cl.num_clusters):\n",
    "    cluster_point_indices = np.where(cluster_idx == cluster_id)[0]\n",
    "    plt.scatter(points[cluster_point_indices, 0], points[cluster_point_indices, 1], label=\"Cluster {}\".format(cluster_id))\n",
    "for cluster_id in range(cl.num_clusters):\n",
    "    com = clp.cluster_COM[cluster_id]\n",
    "    G = clp.cluster_G[cluster_id]\n",
    "    evals, evecs = np.linalg.eig(G)\n",
    "    radii = np.sqrt(evals)\n",
    "    for evalue, evec in zip(evals[:2], evecs[:2, :2]):\n",
    "        print(\"Cluster {} has radius of gyration {:.4f} along the axis of ({:.4f}, {:.4f}).\".format(cluster_id, evalue, *evec))\n",
    "    arrows = (radii * evecs)[:2, :2]\n",
    "    for arrow in arrows:\n",
    "        plt.arrow(com[0], com[1], arrow[0], arrow[1], width=0.08)\n",
    "plt.title('Eigenvectors of the gyration tensor for each cluster')\n",
    "plt.legend(loc='best')\n",
    "plt.show()"
   ]
  },
  {
   "cell_type": "code",
   "execution_count": null,
   "metadata": {},
   "outputs": [],
   "source": []
  }
 ],
 "metadata": {
  "kernelspec": {
   "display_name": "Python 3",
   "language": "python",
   "name": "python3"
  },
  "language_info": {
   "codemirror_mode": {
    "name": "ipython",
    "version": 3
   },
   "file_extension": ".py",
   "mimetype": "text/x-python",
   "name": "python",
   "nbconvert_exporter": "python",
   "pygments_lexer": "ipython3",
   "version": "3.7.0"
  },
  "toc": {
   "base_numbering": 1,
   "nav_menu": {},
   "number_sections": true,
   "sideBar": true,
   "skip_h1_title": false,
   "title_cell": "Table of Contents",
   "title_sidebar": "Contents",
   "toc_cell": false,
   "toc_position": {},
   "toc_section_display": true,
   "toc_window_display": false
  }
 },
 "nbformat": 4,
 "nbformat_minor": 2
}
