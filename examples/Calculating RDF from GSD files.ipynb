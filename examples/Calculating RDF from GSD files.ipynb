{
 "cells": [
  {
   "cell_type": "code",
   "execution_count": 1,
   "metadata": {},
   "outputs": [],
   "source": [
    "import freud\n",
    "import gsd\n",
    "import gsd.pygsd\n",
    "import gsd.hoomd\n",
    "import matplotlib.pyplot as plt\n",
    "import numpy as np\n",
    "from collections import defaultdict\n",
    "from scipy.sparse import csr_matrix\n",
    "from scipy.sparse.csgraph import connected_components"
   ]
  },
  {
   "cell_type": "code",
   "execution_count": 2,
   "metadata": {},
   "outputs": [],
   "source": [
    "def snap_bond_graph(snap):\n",
    "    \"\"\"\n",
    "    Given a snapshot from a trajectory return an array\n",
    "    corresponding to the molecule index of each particle \n",
    "    \n",
    "    Parameters\n",
    "    ----------\n",
    "    snap : gsd.hoomd.Snapshot\n",
    "\n",
    "    Returns\n",
    "    -------\n",
    "    numpy array (N_particles,)\n",
    "    \n",
    "    \"\"\"\n",
    "    bond_graph = csr_matrix(\n",
    "        (np.ones(snap.bonds.N), (snap.bonds.group[:,0],snap.bonds.group[:,1])),\n",
    "        shape=(snap.particles.N,snap.particles.N)\n",
    "    )\n",
    "    n_components, labels = connected_components(csgraph=bond_graph, directed=False)\n",
    "    return labels\n",
    "\n",
    "def not_same_molecule(i, j, molecules):\n",
    "    \"\"\"\n",
    "    Returns true if particle indices i and j are not in the same molecule\n",
    "    \n",
    "    Parameters\n",
    "    ----------\n",
    "    i,j : int, particle indices\n",
    "    molecules : numpy array (N_particles,),  array corresponding to the \n",
    "                molecule index of each particle\n",
    "\n",
    "    Returns\n",
    "    -------\n",
    "    bool\n",
    "    \"\"\"\n",
    "    if molecules[i] == molecules[j]:\n",
    "        return False\n",
    "    return True\n",
    "\n",
    "def is_AB(i, j, type_A, type_B):\n",
    "    \"\"\"\n",
    "    Returns true if particle indices i and j are types A-B or B-A \n",
    "\n",
    "    Parameters\n",
    "    ----------\n",
    "    i,j : int, particle indices\n",
    "    type_A, type_B : numpy array of bools (N_particles,), array of if particle is type A or B\n",
    "\n",
    "    Returns\n",
    "    -------\n",
    "    bool\n",
    "    \"\"\"\n",
    "    return (type_A[i] and type_B[j]) or (type_A[j] and type_B[i])\n",
    "\n",
    "def gsd_rdf(\n",
    "    gsdfile, A_name, B_name, start=0, stop=None, rmax=None, rmin=0, bins=50, exclude_bonded=True\n",
    "):\n",
    "    \"\"\"\n",
    "    This function calculates the radial distribution function given\n",
    "    a gsd file and the names of the particles. By default it will calculate\n",
    "    the rdf for the entire the trajectory.\n",
    "\n",
    "    Parameters\n",
    "    ----------\n",
    "    gsdfile : str, filename of the gsd trajectory\n",
    "    A_name, B_name : str, name(s) of particles between which to calculate the rdf\n",
    "                     (found in gsd.hoomd.Snapshot.particles.types)\n",
    "    start : int, which frame to start accumulating the rdf (default 0)\n",
    "            (negative numbers index from the end)\n",
    "    stop : int, which frame to stop accumulating the rdf (default None)\n",
    "           If none is given, the function will default to the last frame.\n",
    "    rmax : float, maximum radius to consider. (default None)\n",
    "           If none is given, it'll be the minimum box length / 4\n",
    "    bins : int, number of bins to use when calculating the distribution.\n",
    "    exclude_bonded : bool, whether to remove particles in same molecule from the neighborlist\n",
    "                     (default True)\n",
    "                     \n",
    "    NOTE: It is assumed that the bonding and the number of particles does not change during the simulation\n",
    "\n",
    "    Returns\n",
    "    -------\n",
    "    freud.density.RDF\n",
    "    \"\"\"\n",
    "    with open(gsdfile, \"rb\") as file:\n",
    "        f = gsd.pygsd.GSDFile(file)\n",
    "        t = gsd.hoomd.HOOMDTrajectory(f)\n",
    "        snap = t[0]\n",
    "        if start < -len(t):\n",
    "            raise IndexError(\n",
    "                    f\"Can't index beyond first frame: {len(t)} frames in gsd file\"\n",
    "                    )\n",
    "        if rmax is None:\n",
    "            rmax = max(snap.configuration.box[:3]) * 0.45\n",
    "\n",
    "        rdf = freud.density.RDF(bins=bins, r_max=rmax, r_min=rmin)\n",
    "        \n",
    "        if exclude_bonded:\n",
    "            molecules = snap_bond_graph(snap)\n",
    "        \n",
    "        if stop is None:\n",
    "            stop = len(t) - 1\n",
    "        if start < 0:\n",
    "            start += len(t)\n",
    "            \n",
    "        for frame in range(start, stop):\n",
    "            snap = t[frame]\n",
    "\n",
    "            aq = freud.locality.AABBQuery.from_system(snap)\n",
    "            nlist = aq.query(snap.particles.position, {\"r_max\": rmax}).toNeighborList()\n",
    "            \n",
    "            type_A = snap.particles.typeid == snap.particles.types.index(A_name)\n",
    "            if A_name != B_name:\n",
    "                type_B = snap.particles.typeid == snap.particles.types.index(B_name)\n",
    "            else:\n",
    "                type_B = type_A\n",
    "            \n",
    "            nlist_zip = zip(nlist.point_indices, nlist.query_point_indices)\n",
    "            filter_types = [is_AB(i,j,type_A,type_B) for i,j in nlist_zip]\n",
    "            nlist.filter(filter_types)\n",
    "            \n",
    "            if exclude_bonded:  \n",
    "                nlist_zip = zip(nlist.point_indices, nlist.query_point_indices)\n",
    "                filter_molecules = [\n",
    "                    not_same_molecule(i, j, molecules) for i,j in nlist_zip\n",
    "                ]\n",
    "                nlist.filter(filter_molecules)\n",
    "                \n",
    "            rdf.compute(aq, neighbors=nlist, reset=False)\n",
    "            return rdf"
   ]
  },
  {
   "cell_type": "code",
   "execution_count": 3,
   "metadata": {},
   "outputs": [
    {
     "data": {
      "image/png": "[encoded data removed]",
      "text/plain": [
       "<Figure size 432x288 with 1 Axes>"
      ]
     },
     "metadata": {
      "needs_background": "light"
     },
     "output_type": "display_data"
    },
    {
     "name": "stdout",
     "output_type": "stream",
     "text": [
      "CPU times: user 2min 57s, sys: 8.41 s, total: 3min 5s\n",
      "Wall time: 1min 47s\n"
     ]
    }
   ],
   "source": [
    "%%time\n",
    "gsdfile = \"data/ptb7-5mers.gsd\"\n",
    "A_name = \"ss\"\n",
    "B_name = \"ss\"\n",
    "\n",
    "rdf = gsd_rdf(gsdfile, A_name, B_name, rmin=0.01, rmax=6)\n",
    "\n",
    "plt.plot(rdf.bin_centers, rdf.rdf)\n",
    "plt.xlabel(\"r (nm)\")\n",
    "plt.ylabel(\"g(r)\")\n",
    "plt.show()"
   ]
  },
  {
   "cell_type": "code",
   "execution_count": 4,
   "metadata": {},
   "outputs": [
    {
     "data": {
      "image/png": "[encoded data removed]",
      "text/plain": [
       "<Figure size 432x288 with 1 Axes>"
      ]
     },
     "metadata": {
      "needs_background": "light"
     },
     "output_type": "display_data"
    },
    {
     "name": "stdout",
     "output_type": "stream",
     "text": [
      "CPU times: user 3min 1s, sys: 6.92 s, total: 3min 8s\n",
      "Wall time: 1min 45s\n"
     ]
    }
   ],
   "source": [
    "%%time\n",
    "A_name = \"ss\"\n",
    "B_name = \"ss\"\n",
    "\n",
    "rdf = gsd_rdf(gsdfile, A_name, B_name, rmin=0.01, rmax=6, exclude_bonded=False)\n",
    "\n",
    "plt.plot(rdf.bin_centers, rdf.rdf)\n",
    "plt.xlabel(\"r (nm)\")\n",
    "plt.ylabel(\"g(r)\")\n",
    "plt.show()"
   ]
  },
  {
   "cell_type": "code",
   "execution_count": null,
   "metadata": {},
   "outputs": [],
   "source": []
  }
 ],
 "metadata": {
  "kernelspec": {
   "display_name": "Python 3",
   "language": "python",
   "name": "python3"
  },
  "language_info": {
   "codemirror_mode": {
    "name": "ipython",
    "version": 3
   },
   "file_extension": ".py",
   "mimetype": "text/x-python",
   "name": "python",
   "nbconvert_exporter": "python",
   "pygments_lexer": "ipython3",
   "version": "3.7.6"
  }
 },
 "nbformat": 4,
 "nbformat_minor": 4
}
