{
 "cells": [
  {
   "cell_type": "code",
   "execution_count": 1,
   "metadata": {},
   "outputs": [],
   "source": [
    "import freud\n",
    "import gsd\n",
    "import gsd.pygsd\n",
    "import gsd.hoomd\n",
    "import matplotlib.pyplot as plt\n",
    "import numpy as np\n",
    "from collections import defaultdict\n",
    "from scipy.sparse import csr_matrix\n",
    "from scipy.sparse.csgraph import connected_components"
   ]
  },
  {
   "cell_type": "code",
   "execution_count": 2,
   "metadata": {},
   "outputs": [],
   "source": [
    "def get_molecules(snapshot):\n",
    "    \"\"\"\n",
    "    Creates list of sets of connected atom indices\n",
    "\n",
    "    This code adaptedexclude_bonded=ias Thayer's:\n",
    "    https://stackoverflow.com/questions/10301000/python-connected-components\n",
    "\n",
    "    Parameters\n",
    "    ----------\n",
    "    snapshot : gsd.hoomd.Snapshot\n",
    "\n",
    "    Returns\n",
    "    -------\n",
    "    list of arrays of connected atom indices\n",
    "    \"\"\"\n",
    "\n",
    "    def _snap_bond_graph(snapshot):\n",
    "        \"\"\"\n",
    "        Given a snapshot from a trajectory create a graph of the bonds\n",
    "\n",
    "        get_molecules(gsd.hoomd.Snapshot) --> dict of sets\n",
    "        \"\"\"\n",
    "        bond_array = snapshot.bonds.group\n",
    "        bond_graph = defaultdict(set)\n",
    "        for row in bond_array:\n",
    "            bond_graph[row[0]].add(row[1])\n",
    "            bond_graph[row[1]].add(row[0])\n",
    "        return bond_graph\n",
    "\n",
    "    def _get_connected_group(node, already_seen):\n",
    "        \"\"\"\n",
    "        This code adapted from Matias Thayer's:\n",
    "        https://stackoverflow.com/questions/10301000/python-connected-components\n",
    "        \"\"\"\n",
    "\n",
    "        result = set()\n",
    "        nodes = set([node])\n",
    "        while nodes:\n",
    "            node = nodes.pop()\n",
    "            already_seen.add(node)\n",
    "            nodes.update(graph[node] - already_seen)\n",
    "            result.add(node)\n",
    "        return result, already_seen\n",
    "\n",
    "    graph = _snap_bond_graph(snapshot)\n",
    "\n",
    "    already_seen = set()\n",
    "    result = []\n",
    "    for node in graph:\n",
    "        if node not in already_seen:\n",
    "            connected_group, already_seen = _get_connected_group(node, already_seen)\n",
    "            result.append(np.array(list(connected_group)))\n",
    "    return result\n",
    "\n",
    "def in_same_molecule(i, j, molecules):\n",
    "    if molecules[i] == molecules[j]:\n",
    "        return True\n",
    "    return False\n",
    "\n",
    "def is_AB(i, j, type_A, type_B):\n",
    "    return (type_A[i] and type_B[j]) or (type_A[j] and type_B[i])\n",
    "\n",
    "def gsd_rdf(gsdfile, A_name, B_name, start=0, stop=None, rmax=None, rmin=0, bins=50, exclude_bonded=True):\n",
    "    \"\"\"\n",
    "    This function calculates the radial distribution function given\n",
    "    a gsd file and the names of the particles. By default it will calculate\n",
    "    the rdf for the entire the trajectory.\n",
    "\n",
    "    Parameters\n",
    "    ----------\n",
    "    gsdfile : str, filename of the gsd trajectory\n",
    "    A_name, B_name : str, name(s) of particles between which to calculate the rdf\n",
    "                     (found in gsd.hoomd.Snapshot.particles.types)\n",
    "    start : int, which frame to start accumulating the rdf (default 0)\n",
    "            (negative numbers index from the end)\n",
    "    stop : int, which frame to stop accumulating the rdf (default None)\n",
    "           If none is given, the function will default to the last frame.\n",
    "    rmax : float, maximum radius to consider. (default None)\n",
    "           If none is given, it'll be the minimum box length / 4\n",
    "    bins : int, number of bins to use when calculating the distribution.\n",
    "    exclude_bonded : bool, whether to remove particles in same molecule from the neighborlist\n",
    "                     (default True)\n",
    "                     \n",
    "    NOTE: It is assumed that the bonding and the number of particles does not change during the simulation\n",
    "\n",
    "    Returns\n",
    "    -------\n",
    "    freud.density.RDF\n",
    "    \"\"\"\n",
    "    with open(gsdfile, \"rb\") as file:\n",
    "        f = gsd.pygsd.GSDFile(file)\n",
    "        t = gsd.hoomd.HOOMDTrajectory(f)\n",
    "        snap = t[0]\n",
    "        if start < -len(t):\n",
    "            raise IndexError(\n",
    "                    f\"Can't index beyond first frame: {len(t)} frames in gsd file\"\n",
    "                    )\n",
    "        if rmax is None:\n",
    "            rmax = max(snap.configuration.box[:3]) * 0.45\n",
    "\n",
    "        rdf = freud.density.RDF(bins=bins, r_max=rmax, r_min=rmin)\n",
    "        \n",
    "        if exclude_bonded:\n",
    "            molecules = get_molecules(snap)\n",
    "        \n",
    "        if stop is None:\n",
    "            stop = len(t) - 1\n",
    "        if start < 0:\n",
    "            start += len(t)\n",
    "            \n",
    "        for frame in range(start, stop):\n",
    "            snap = t[frame]\n",
    "\n",
    "            aq = freud.locality.AABBQuery.from_system(snap)\n",
    "            nlist = aq.query(snap.particles.position, {\"r_max\": rmax}).toNeighborList()\n",
    "            \n",
    "            type_A = snap.particles.typeid == snap.particles.types.index(A_name)\n",
    "            if A_name != B_name:\n",
    "                type_B = snap.particles.typeid == snap.particles.types.index(B_name)\n",
    "            else:\n",
    "                type_B = type_A\n",
    "            \n",
    "            nlist_zip = zip(nlist.point_indices,nlist.query_point_indices)\n",
    "            filter_types = [is_AB(i,j,type_A,type_B) for i,j in nlist_zip]\n",
    "            nlist.filter(filter_types)\n",
    "            \n",
    "            if exclude_bonded:        \n",
    "                filter_molecules = [\n",
    "                    not in_same_molecule(i, j, molecules) for i,j in nlist_zip\n",
    "                ]\n",
    "                nlist.filter(filter_molecules)\n",
    "                \n",
    "            rdf.compute(aq, neighbors=nlist, reset=False)\n",
    "            return rdf"
   ]
  },
  {
   "cell_type": "code",
   "execution_count": 3,
   "metadata": {},
   "outputs": [
    {
     "name": "stdout",
     "output_type": "stream",
     "text": [
      "['cc', 'cd', 'ca', 'os', 'c3', 'ss', 'c', 'o', 'f']\n",
      "[31.374704 31.374704 31.374704  0.        0.        0.      ]\n"
     ]
    }
   ],
   "source": [
    "gsdfile = \"data/ptb7-5mers.gsd\"\n",
    "\n",
    "with open(gsdfile, \"rb\") as file:\n",
    "    f = gsd.pygsd.GSDFile(file)\n",
    "    t = gsd.hoomd.HOOMDTrajectory(f)\n",
    "    snap = t[0]\n",
    "print(snap.particles.types)\n",
    "print(snap.configuration.box)"
   ]
  },
  {
   "cell_type": "code",
   "execution_count": 4,
   "metadata": {},
   "outputs": [],
   "source": [
    "def snap_bond_graph(snapshot):\n",
    "    \"\"\"\n",
    "    Given a snapshot from a trajectory create a graph of the bonds\n",
    "\n",
    "    get_molecules(gsd.hoomd.Snapshot) --> dict of sets\n",
    "    \"\"\"\n",
    "    row = []\n",
    "    col = []\n",
    "    for i,j in snap.bonds.group:\n",
    "        row.append(i)\n",
    "        col.append(j)\n",
    "    N = snap.bonds.N\n",
    "    data = np.ones(N)\n",
    "    row = np.array(row)\n",
    "    col = np.array(col)\n",
    "    \n",
    "    bond_graph = csr_matrix((data,(row,col)), shape=(N,N))\n",
    "    n_components, labels = connected_components(\n",
    "        csgraph=bond_graph, directed=True\n",
    "    )\n",
    "    return labels"
   ]
  },
  {
   "cell_type": "code",
   "execution_count": 5,
   "metadata": {},
   "outputs": [
    {
     "name": "stdout",
     "output_type": "stream",
     "text": [
      "CPU times: user 38.5 s, sys: 19.8 s, total: 58.3 s\n",
      "Wall time: 1min 2s\n"
     ]
    }
   ],
   "source": [
    "%%time\n",
    "bond_array = np.zeros((snap.bonds.N,snap.bonds.N))\n",
    "for i,j in snap.bonds.group:\n",
    "    bond_array[i,j] = 1\n",
    "\n",
    "bond_graph = csr_matrix(bond_array)\n",
    "n_components_a, labels_a = connected_components(csgraph=bond_graph, directed=False)"
   ]
  },
  {
   "cell_type": "code",
   "execution_count": 6,
   "metadata": {},
   "outputs": [
    {
     "name": "stdout",
     "output_type": "stream",
     "text": [
      "CPU times: user 93.9 ms, sys: 11.7 ms, total: 106 ms\n",
      "Wall time: 111 ms\n"
     ]
    }
   ],
   "source": [
    "%%time\n",
    "row = []\n",
    "col = []\n",
    "for i,j in snap.bonds.group:\n",
    "    row.append(i)\n",
    "    col.append(j)\n",
    "    \n",
    "N = snap.bonds.N\n",
    "data = np.ones(N)\n",
    "row = np.array(row)\n",
    "col = np.array(col)\n",
    "\n",
    "bond_graph = csr_matrix((data,(row,col)), shape=(N,N))\n",
    "n_components, labels = connected_components(csgraph=bond_graph, directed=False)"
   ]
  },
  {
   "cell_type": "code",
   "execution_count": 7,
   "metadata": {},
   "outputs": [
    {
     "name": "stdout",
     "output_type": "stream",
     "text": [
      "CPU times: user 156 ms, sys: 21.2 ms, total: 177 ms\n",
      "Wall time: 248 ms\n"
     ]
    }
   ],
   "source": [
    "%%time\n",
    "mols = get_molecules(snap)"
   ]
  },
  {
   "cell_type": "code",
   "execution_count": 8,
   "metadata": {},
   "outputs": [
    {
     "name": "stdout",
     "output_type": "stream",
     "text": [
      "200\n",
      "5000\n",
      "5000\n"
     ]
    }
   ],
   "source": [
    "print(len(mols))\n",
    "print(n_components_a)\n",
    "print(n_components)"
   ]
  },
  {
   "cell_type": "code",
   "execution_count": 133,
   "metadata": {},
   "outputs": [
    {
     "data": {
      "image/png": "[encoded data removed]",
      "text/plain": [
       "<Figure size 432x288 with 1 Axes>"
      ]
     },
     "metadata": {
      "needs_background": "light"
     },
     "output_type": "display_data"
    }
   ],
   "source": [
    "A_name = \"ss\"\n",
    "B_name = \"ss\"\n",
    "\n",
    "rdf = gsd_rdf(gsdfile, A_name, B_name, rmax=6)\n",
    "\n",
    "plt.plot(rdf.bin_centers, rdf.rdf)\n",
    "plt.xlabel(\"r (nm)\")\n",
    "plt.ylabel(\"g(r)\")\n",
    "plt.show()"
   ]
  },
  {
   "cell_type": "code",
   "execution_count": 151,
   "metadata": {},
   "outputs": [
    {
     "data": {
      "image/png": "[encoded data removed]",
      "text/plain": [
       "<Figure size 432x288 with 1 Axes>"
      ]
     },
     "metadata": {
      "needs_background": "light"
     },
     "output_type": "display_data"
    }
   ],
   "source": [
    "A_name = \"ss\"\n",
    "B_name = \"ss\"\n",
    "\n",
    "rdf = gsd_rdf(gsdfile, A_name, B_name, rmin=0.1, rmax=6, exclude_bonded=False)\n",
    "\n",
    "plt.plot(rdf.bin_centers, rdf.rdf)\n",
    "plt.xlabel(\"r (nm)\")\n",
    "plt.ylabel(\"g(r)\")\n",
    "plt.show()"
   ]
  },
  {
   "cell_type": "code",
   "execution_count": null,
   "metadata": {},
   "outputs": [],
   "source": []
  }
 ],
 "metadata": {
  "kernelspec": {
   "display_name": "Python 3",
   "language": "python",
   "name": "python3"
  },
  "language_info": {
   "codemirror_mode": {
    "name": "ipython",
    "version": 3
   },
   "file_extension": ".py",
   "mimetype": "text/x-python",
   "name": "python",
   "nbconvert_exporter": "python",
   "pygments_lexer": "ipython3",
   "version": "3.7.6"
  }
 },
 "nbformat": 4,
 "nbformat_minor": 4
}
