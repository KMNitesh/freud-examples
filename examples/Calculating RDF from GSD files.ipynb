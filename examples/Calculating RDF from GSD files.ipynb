{
 "cells": [
  {
   "cell_type": "markdown",
   "metadata": {},
   "source": [
    "# Calculating the Radial Distribution Function (RDF) from Simulation Data\n",
    "\n",
    "This tutorial will show how to calculate the RDF between specific atom types excluding intramolcular correlations. The file type used in the example is a [gsd](https://gsd.readthedocs.io/en/stable/index.html) file, but the methods for filtering the neighborlist can be applied to other simulation data types."
   ]
  },
  {
   "cell_type": "code",
   "execution_count": 11,
   "metadata": {},
   "outputs": [],
   "source": [
    "import freud\n",
    "import gsd\n",
    "import gsd.hoomd\n",
    "import matplotlib.pyplot as plt\n",
    "import numpy as np\n",
    "from scipy.sparse import csr_matrix\n",
    "from scipy.sparse.csgraph import connected_components"
   ]
  },
  {
   "cell_type": "markdown",
   "metadata": {},
   "source": [
    "For convenience, we'll define two functions: `snap_bond_graph` which will help us determine which particle indices are in which molecule and `gsd_rdf` which will compute the RDF from our gsd file."
   ]
  },
  {
   "cell_type": "code",
   "execution_count": 15,
   "metadata": {},
   "outputs": [],
   "source": [
    "def snap_bond_graph(snap):\n",
    "    \"\"\"\n",
    "    Given a snapshot from a trajectory return an array\n",
    "    corresponding to the molecule index of each particle \n",
    "    \n",
    "    Parameters\n",
    "    ----------\n",
    "    snap : gsd.hoomd.Snapshot\n",
    "\n",
    "    Returns\n",
    "    -------\n",
    "    numpy array (N_particles,)\n",
    "    \n",
    "    \"\"\"\n",
    "    bond_graph = csr_matrix(\n",
    "        (np.ones(snap.bonds.N), (snap.bonds.group[:, 0], snap.bonds.group[:, 1])),\n",
    "        shape=(snap.particles.N, snap.particles.N),\n",
    "    )\n",
    "    n_components, labels = connected_components(csgraph=bond_graph, directed=False)\n",
    "    return labels\n",
    "\n",
    "\n",
    "def gsd_rdf(\n",
    "    gsdfile,\n",
    "    A_name,\n",
    "    B_name,\n",
    "    start=0,\n",
    "    stop=None,\n",
    "    rmax=None,\n",
    "    rmin=0,\n",
    "    bins=50,\n",
    "    exclude_bonded=True,\n",
    "):\n",
    "    \"\"\"\n",
    "    This function calculates the radial distribution function given\n",
    "    a gsd file and the names of the particles. By default it will calculate\n",
    "    the rdf for the entire the trajectory.\n",
    "\n",
    "    Parameters\n",
    "    ----------\n",
    "    gsdfile : str, filename of the gsd trajectory\n",
    "    A_name, B_name : str, name(s) of particles between which to calculate the rdf\n",
    "                     (found in gsd.hoomd.Snapshot.particles.types)\n",
    "    start : int, which frame to start accumulating the rdf (default 0)\n",
    "            (negative numbers index from the end)\n",
    "    stop : int, which frame to stop accumulating the rdf (default None)\n",
    "           If none is given, the function will default to the last frame.\n",
    "    rmax : float, maximum radius to consider. (default None)\n",
    "           If none is given, it'll be the minimum box length / 4\n",
    "    bins : int, number of bins to use when calculating the distribution.\n",
    "    exclude_bonded : bool, whether to remove particles in same molecule from the \n",
    "                     neighborlist (default True)\n",
    "                     \n",
    "    NOTE: It is assumed that the bonding and the number of particles does not change \n",
    "    during the simulation\n",
    "\n",
    "    Returns\n",
    "    -------\n",
    "    freud.density.RDF\n",
    "    \"\"\"\n",
    "    with gsd.hoomd.open(gsdfile) as t:\n",
    "        snap = t[0]\n",
    "\n",
    "        if rmax is None:\n",
    "            rmax = max(snap.configuration.box[:3]) * 0.45\n",
    "\n",
    "        rdf = freud.density.RDF(bins=bins, r_max=rmax, r_min=rmin)\n",
    "            \n",
    "        type_A = snap.particles.typeid == snap.particles.types.index(A_name)\n",
    "        type_B = snap.particles.typeid == snap.particles.types.index(B_name)\n",
    "\n",
    "        if exclude_bonded:\n",
    "            molecules = snap_bond_graph(snap)\n",
    "            molecules_A = molecules[type_A]\n",
    "            molecules_B = molecules[type_B]\n",
    "\n",
    "        for snap in t[start:stop]:\n",
    "\n",
    "            A_pos = snap.particles.position[type_A]\n",
    "            if A_name != B_name:\n",
    "                B_pos = snap.particles.position[type_B]\n",
    "            else:\n",
    "                B_pos = A_pos\n",
    "\n",
    "            box = snap.configuration.box\n",
    "            system = (box, A_pos)\n",
    "            aq = freud.locality.AABBQuery.from_system(system)\n",
    "            nlist = aq.query(B_pos, {\"r_max\": rmax}).toNeighborList()\n",
    "\n",
    "            if exclude_bonded:\n",
    "                nlist.filter(\n",
    "                    molecules_A[nlist.point_indices]\n",
    "                    != molecules_B[nlist.query_point_indices]\n",
    "                )\n",
    "\n",
    "            rdf.compute(aq, neighbors=nlist, reset=False)\n",
    "        return rdf"
   ]
  },
  {
   "cell_type": "markdown",
   "metadata": {},
   "source": [
    "In the following example, we'll look at a simulation of ptb7 polymer. Here is the chemical structure of the ptb7 monomer:\n",
    "\n",
    "![data/ptb7.png](data/ptb7.png)\n",
    "\n",
    "We're going to look at the correlation between the sulfur atoms (atomtype \"ss\"), but notice that ptb7 has multiple sulfur atoms in it which are held in place by bonds. We wouldn't expect the distances between these intramolecular sulfur atoms to change much based on the thermodynamic state of the simulation.\n",
    "\n",
    "Let's see what our sulfur-sulfur RDF looks like if we _do not_ exclude intramolecular interactions."
   ]
  },
  {
   "cell_type": "code",
   "execution_count": 16,
   "metadata": {},
   "outputs": [
    {
     "data": {
      "image/png": "[encoded data removed]",
      "text/plain": [
       "<Figure size 432x288 with 1 Axes>"
      ]
     },
     "metadata": {
      "needs_background": "light"
     },
     "output_type": "display_data"
    },
    {
     "name": "stdout",
     "output_type": "stream",
     "text": [
      "CPU times: user 16.5 s, sys: 282 ms, total: 16.8 s\n",
      "Wall time: 5.04 s\n"
     ]
    }
   ],
   "source": [
    "%%time\n",
    "gsdfile = \"data/ptb7-5mers.gsd\"\n",
    "A_name = \"ss\"\n",
    "B_name = \"ss\"\n",
    "\n",
    "rdf = gsd_rdf(gsdfile, A_name, B_name, rmin=0.01, rmax=6, exclude_bonded=False)\n",
    "\n",
    "plt.plot(rdf.bin_centers, rdf.rdf)\n",
    "plt.xlabel(\"r (A.U.)\")\n",
    "plt.ylabel(\"g(r)\")\n",
    "plt.show()"
   ]
  },
  {
   "cell_type": "markdown",
   "metadata": {},
   "source": [
    "We can see that the RDF is dominated by a couple of sharp distinct peaks. By excluding intramolecular correlations from the RDF, we may be able to probe deeper into the phase behavior of the system."
   ]
  },
  {
   "cell_type": "code",
   "execution_count": 17,
   "metadata": {},
   "outputs": [
    {
     "data": {
      "image/png": "[encoded data removed]",
      "text/plain": [
       "<Figure size 432x288 with 1 Axes>"
      ]
     },
     "metadata": {
      "needs_background": "light"
     },
     "output_type": "display_data"
    },
    {
     "name": "stdout",
     "output_type": "stream",
     "text": [
      "CPU times: user 26 s, sys: 333 ms, total: 26.4 s\n",
      "Wall time: 15.4 s\n"
     ]
    }
   ],
   "source": [
    "%%time\n",
    "gsdfile = \"data/ptb7-5mers.gsd\"\n",
    "A_name = \"ss\"\n",
    "B_name = \"ss\"\n",
    "\n",
    "rdf = gsd_rdf(gsdfile, A_name, B_name, rmin=0.01, rmax=6)\n",
    "\n",
    "plt.plot(rdf.bin_centers, rdf.rdf)\n",
    "plt.xlabel(\"r (A.U.)\")\n",
    "plt.ylabel(\"g(r)\")\n",
    "plt.show()"
   ]
  },
  {
   "cell_type": "markdown",
   "metadata": {},
   "source": [
    "In this plot we can see smoother, broader peaks. Without the intramolecular sulfur correlation peaks dominating the RDF, we can more easily observe longer distance correlations in the system."
   ]
  },
  {
   "cell_type": "code",
   "execution_count": null,
   "metadata": {},
   "outputs": [],
   "source": []
  }
 ],
 "metadata": {
  "kernelspec": {
   "display_name": "Python 3",
   "language": "python",
   "name": "python3"
  },
  "language_info": {
   "codemirror_mode": {
    "name": "ipython",
    "version": 3
   },
   "file_extension": ".py",
   "mimetype": "text/x-python",
   "name": "python",
   "nbconvert_exporter": "python",
   "pygments_lexer": "ipython3",
   "version": "3.7.6"
  }
 },
 "nbformat": 4,
 "nbformat_minor": 4
}
