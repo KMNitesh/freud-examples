{
 "cells": [
  {
   "cell_type": "markdown",
   "metadata": {},
   "source": [
    "# Benchmarking RDF against MDAnalysis\n",
    "The algorithms in freud are highly efficient and rely on parallelized C++ code. Below, we show a benchmark of `freud.density.RDF` against `MDAnalysis.analysis.rdf`. This benchmark was run on an Intel(R) Core(TM) i3-8100B CPU @ 3.60GHz."
   ]
  },
  {
   "cell_type": "code",
   "execution_count": 1,
   "metadata": {},
   "outputs": [],
   "source": [
    "import freud\n",
    "import gsd\n",
    "import MDAnalysis\n",
    "import MDAnalysis.analysis.rdf\n",
    "import multiprocessing as mp\n",
    "import numpy as np\n",
    "import matplotlib.pyplot as plt\n",
    "import timeit\n",
    "from tqdm import tqdm"
   ]
  },
  {
   "cell_type": "code",
   "execution_count": 2,
   "metadata": {},
   "outputs": [],
   "source": [
    "trajectory_filename = 'data/rdf_benchmark.gsd'\n",
    "r_max = 5\n",
    "r_min = 0.1\n",
    "nbins = 75"
   ]
  },
  {
   "cell_type": "code",
   "execution_count": 3,
   "metadata": {},
   "outputs": [],
   "source": [
    "trajectory = MDAnalysis.coordinates.GSD.GSDReader(trajectory_filename)\n",
    "frame = trajectory[0]\n",
    "topology = MDAnalysis.core.topology.Topology(n_atoms=frame.n_atoms)\n",
    "u = MDAnalysis.as_Universe(topology, trajectory_filename)\n",
    "\n",
    "rdf = MDAnalysis.analysis.rdf.InterRDF(g1=u.atoms, g2=u.atoms,\n",
    "                                       nbins=nbins,\n",
    "                                       range=(r_min, r_max)).run()"
   ]
  },
  {
   "cell_type": "code",
   "execution_count": 4,
   "metadata": {},
   "outputs": [
    {
     "data": {
      "image/png": "[encoded data removed]",
      "text/plain": [
       "<Figure size 432x288 with 1 Axes>"
      ]
     },
     "metadata": {
      "needs_background": "light"
     },
     "output_type": "display_data"
    }
   ],
   "source": [
    "plt.plot(rdf.bins, rdf.rdf)\n",
    "plt.show()"
   ]
  },
  {
   "cell_type": "code",
   "execution_count": 5,
   "metadata": {},
   "outputs": [],
   "source": [
    "with gsd.hoomd.open(trajectory_filename, 'rb') as traj:\n",
    "    freud_rdf = freud.density.RDF(nbins, r_max=r_max, r_min=r_min)\n",
    "    for frame in traj:\n",
    "        freud_rdf.compute((frame.configuration.box, frame.particles.position), reset=False)"
   ]
  },
  {
   "cell_type": "code",
   "execution_count": 6,
   "metadata": {},
   "outputs": [
    {
     "data": {
      "image/png": "[encoded data removed]",
      "text/plain": [
       "freud.density.RDF(bins=75, r_max=5.0, r_min=0.10000000149011612)"
      ]
     },
     "execution_count": 6,
     "metadata": {},
     "output_type": "execute_result"
    }
   ],
   "source": [
    "freud_rdf"
   ]
  },
  {
   "cell_type": "markdown",
   "metadata": {},
   "source": [
    "## Timing Functions"
   ]
  },
  {
   "cell_type": "code",
   "execution_count": 7,
   "metadata": {},
   "outputs": [],
   "source": [
    "def time_statement(stmt, repeat=3, number=1, **kwargs):\n",
    "    timer = timeit.Timer(stmt=stmt, globals=kwargs)\n",
    "    times = timer.repeat(repeat, number)\n",
    "    return np.mean(times), np.std(times)"
   ]
  },
  {
   "cell_type": "code",
   "execution_count": 8,
   "metadata": {},
   "outputs": [],
   "source": [
    "def time_freud_rdf(trajectory_filename, r_max, r_min, nbins):\n",
    "    code = \"\"\"\n",
    "rdf = freud.density.RDF(nbins, r_max=r_max, r_min=r_min)\n",
    "for frame in trajectory:\n",
    "    rdf.compute((frame.configuration.box, frame.particles.position), reset=False)\"\"\"\n",
    "    with gsd.hoomd.open(trajectory_filename, 'rb') as trajectory:\n",
    "        return time_statement(code, freud=freud, trajectory=trajectory, r_max=r_max, r_min=r_min, nbins=nbins)"
   ]
  },
  {
   "cell_type": "code",
   "execution_count": 9,
   "metadata": {},
   "outputs": [],
   "source": [
    "def time_mdanalysis_rdf(trajectory_filename, r_max, r_min, nbins):\n",
    "    trajectory = MDAnalysis.coordinates.GSD.GSDReader(trajectory_filename)\n",
    "    frame = trajectory[0]\n",
    "    topology = MDAnalysis.core.topology.Topology(n_atoms=frame.n_atoms)\n",
    "    u = MDAnalysis.as_Universe(topology, trajectory_filename)\n",
    "    code = \"\"\"rdf = MDAnalysis.analysis.rdf.InterRDF(g1=u.atoms, g2=u.atoms, nbins=nbins, range=(r_min, r_max)).run()\"\"\"\n",
    "    return time_statement(code, MDAnalysis=MDAnalysis, u=u, r_max=r_max, r_min=r_min, nbins=nbins)"
   ]
  },
  {
   "cell_type": "code",
   "execution_count": 10,
   "metadata": {},
   "outputs": [
    {
     "name": "stdout",
     "output_type": "stream",
     "text": [
      "{'frames': 5, 'particles': 15625}\n",
      "freud: (3.1081008333324767, 0.03720088547062011)\n",
      "MDAnalysis: (48.86486093333224, 0.8739105898404397)\n"
     ]
    }
   ],
   "source": [
    "# Test timing functions\n",
    "params = dict(\n",
    "    trajectory_filename=trajectory_filename,\n",
    "    r_max=r_max,\n",
    "    r_min=r_min,\n",
    "    nbins=nbins)\n",
    "\n",
    "def system_size(trajectory_filename, **kwargs):\n",
    "    with gsd.hoomd.open(params['trajectory_filename'], 'rb') as trajectory:\n",
    "        return {'frames': len(trajectory),\n",
    "                'particles': len(trajectory[0].particles.position)}\n",
    "\n",
    "print(system_size(**params))\n",
    "freud_rdf_runtime = time_freud_rdf(**params)\n",
    "print('freud:', freud_rdf_runtime)\n",
    "mdanalysis_rdf_runtime = time_mdanalysis_rdf(**params)\n",
    "print('MDAnalysis:', mdanalysis_rdf_runtime)"
   ]
  },
  {
   "cell_type": "markdown",
   "metadata": {},
   "source": [
    "## Perform Measurements"
   ]
  },
  {
   "cell_type": "code",
   "execution_count": 11,
   "metadata": {},
   "outputs": [],
   "source": [
    "def measure_runtime_scaling_r_max(r_maxes, **params):\n",
    "    result_times = []\n",
    "    for r_max in tqdm(r_maxes):\n",
    "        params.update(dict(r_max=r_max))\n",
    "        freud.parallel.set_num_threads(1)\n",
    "        freud_single = time_freud_rdf(**params)\n",
    "        freud.parallel.set_num_threads(0)\n",
    "        result_times.append((freud_single, time_freud_rdf(**params), time_mdanalysis_rdf(**params)))\n",
    "    return np.asarray(result_times)"
   ]
  },
  {
   "cell_type": "code",
   "execution_count": 12,
   "metadata": {},
   "outputs": [],
   "source": [
    "def plot_result_times(result_times, r_maxs, frames, particles):\n",
    "    plt.figure(figsize=(6, 4), dpi=200)\n",
    "    plt.errorbar(r_maxs, result_times[:, 0, 0], result_times[:, 0, 1],\n",
    "                 label=\"freud v{} density.RDF P=1\".format(freud.__version__))\n",
    "    plt.errorbar(r_maxs, result_times[:, 1, 0], result_times[:, 1, 1],\n",
    "                 label=\"freud v{} density.RDF P={}\".format(freud.__version__, mp.cpu_count()))\n",
    "    plt.errorbar(r_maxs, result_times[:, 2, 0], result_times[:, 2, 1],\n",
    "                 label=\"MDAnalysis v{} analysis.rdf.InterRDF\".format(MDAnalysis.__version__))\n",
    "    plt.title(r'RDF for {} frames, {} particles'.format(frames, particles))\n",
    "    plt.xlabel(r'RDF $r_{{max}}$')\n",
    "    plt.ylabel(r'Average Runtime (s)')\n",
    "    plt.yscale('log')\n",
    "    plt.legend()\n",
    "    plt.show()"
   ]
  },
  {
   "cell_type": "code",
   "execution_count": 13,
   "metadata": {},
   "outputs": [],
   "source": [
    "r_maxes = [0.2, 0.3, 0.5, 1, 2, 3]"
   ]
  },
  {
   "cell_type": "code",
   "execution_count": 14,
   "metadata": {},
   "outputs": [
    {
     "name": "stderr",
     "output_type": "stream",
     "text": [
      "  0%|          | 0/6 [00:00<?, ?it/s]\n"
     ]
    },
    {
     "ename": "AttributeError",
     "evalue": "module 'freud.parallel' has no attribute 'setNumThreads'",
     "output_type": "error",
     "traceback": [
      "\u001b[0;31m---------------------------------------------------------------------------\u001b[0m",
      "\u001b[0;31mAttributeError\u001b[0m                            Traceback (most recent call last)",
      "\u001b[0;32m<ipython-input-14-75a732cc324e>\u001b[0m in \u001b[0;36m<module>\u001b[0;34m\u001b[0m\n\u001b[0;32m----> 1\u001b[0;31m \u001b[0mresult_times\u001b[0m \u001b[0;34m=\u001b[0m \u001b[0mmeasure_runtime_scaling_r_max\u001b[0m\u001b[0;34m(\u001b[0m\u001b[0mr_maxes\u001b[0m\u001b[0;34m,\u001b[0m \u001b[0;34m**\u001b[0m\u001b[0mparams\u001b[0m\u001b[0;34m)\u001b[0m\u001b[0;34m\u001b[0m\u001b[0;34m\u001b[0m\u001b[0m\n\u001b[0m\u001b[1;32m      2\u001b[0m \u001b[0mplot_result_times\u001b[0m\u001b[0;34m(\u001b[0m\u001b[0mresult_times\u001b[0m\u001b[0;34m,\u001b[0m \u001b[0mr_maxes\u001b[0m\u001b[0;34m,\u001b[0m \u001b[0;34m**\u001b[0m\u001b[0msystem_size\u001b[0m\u001b[0;34m(\u001b[0m\u001b[0mparams\u001b[0m\u001b[0;34m[\u001b[0m\u001b[0;34m'trajectory_filename'\u001b[0m\u001b[0;34m]\u001b[0m\u001b[0;34m)\u001b[0m\u001b[0;34m)\u001b[0m\u001b[0;34m\u001b[0m\u001b[0;34m\u001b[0m\u001b[0m\n",
      "\u001b[0;32m<ipython-input-11-37803030368f>\u001b[0m in \u001b[0;36mmeasure_runtime_scaling_r_max\u001b[0;34m(r_maxes, **params)\u001b[0m\n\u001b[1;32m      3\u001b[0m     \u001b[0;32mfor\u001b[0m \u001b[0mr_max\u001b[0m \u001b[0;32min\u001b[0m \u001b[0mtqdm\u001b[0m\u001b[0;34m(\u001b[0m\u001b[0mr_maxes\u001b[0m\u001b[0;34m)\u001b[0m\u001b[0;34m:\u001b[0m\u001b[0;34m\u001b[0m\u001b[0;34m\u001b[0m\u001b[0m\n\u001b[1;32m      4\u001b[0m         \u001b[0mparams\u001b[0m\u001b[0;34m.\u001b[0m\u001b[0mupdate\u001b[0m\u001b[0;34m(\u001b[0m\u001b[0mdict\u001b[0m\u001b[0;34m(\u001b[0m\u001b[0mr_max\u001b[0m\u001b[0;34m=\u001b[0m\u001b[0mr_max\u001b[0m\u001b[0;34m)\u001b[0m\u001b[0;34m)\u001b[0m\u001b[0;34m\u001b[0m\u001b[0;34m\u001b[0m\u001b[0m\n\u001b[0;32m----> 5\u001b[0;31m         \u001b[0mfreud\u001b[0m\u001b[0;34m.\u001b[0m\u001b[0mparallel\u001b[0m\u001b[0;34m.\u001b[0m\u001b[0msetNumThreads\u001b[0m\u001b[0;34m(\u001b[0m\u001b[0;36m1\u001b[0m\u001b[0;34m)\u001b[0m\u001b[0;34m\u001b[0m\u001b[0;34m\u001b[0m\u001b[0m\n\u001b[0m\u001b[1;32m      6\u001b[0m         \u001b[0mfreud_single\u001b[0m \u001b[0;34m=\u001b[0m \u001b[0mtime_freud_rdf\u001b[0m\u001b[0;34m(\u001b[0m\u001b[0;34m**\u001b[0m\u001b[0mparams\u001b[0m\u001b[0;34m)\u001b[0m\u001b[0;34m\u001b[0m\u001b[0;34m\u001b[0m\u001b[0m\n\u001b[1;32m      7\u001b[0m         \u001b[0mfreud\u001b[0m\u001b[0;34m.\u001b[0m\u001b[0mparallel\u001b[0m\u001b[0;34m.\u001b[0m\u001b[0msetNumThreads\u001b[0m\u001b[0;34m(\u001b[0m\u001b[0;36m0\u001b[0m\u001b[0;34m)\u001b[0m\u001b[0;34m\u001b[0m\u001b[0;34m\u001b[0m\u001b[0m\n",
      "\u001b[0;31mAttributeError\u001b[0m: module 'freud.parallel' has no attribute 'setNumThreads'"
     ]
    }
   ],
   "source": [
    "result_times = measure_runtime_scaling_r_max(r_maxes, **params)\n",
    "plot_result_times(result_times, r_maxes, **system_size(params['trajectory_filename']))"
   ]
  },
  {
   "cell_type": "code",
   "execution_count": null,
   "metadata": {},
   "outputs": [],
   "source": [
    "print('Speedup, parallel freud / serial freud: {:.3f}x'.format(np.average(result_times[:, 0, 0] / result_times[:, 1, 0])))\n",
    "print('Speedup, parallel freud / MDAnalysis: {:.3f}x'.format(np.average(result_times[:, 2, 0] / result_times[:, 1, 0])))\n",
    "print('Speedup, serial freud / MDAnalysis: {:.3f}x'.format(np.average(result_times[:, 2, 0] / result_times[:, 0, 0])))"
   ]
  }
 ],
 "metadata": {
  "kernelspec": {
   "display_name": "Python 3",
   "language": "python",
   "name": "python3"
  },
  "language_info": {
   "codemirror_mode": {
    "name": "ipython",
    "version": 3
   },
   "file_extension": ".py",
   "mimetype": "text/x-python",
   "name": "python",
   "nbconvert_exporter": "python",
   "pygments_lexer": "ipython3",
   "version": "3.7.3"
  }
 },
 "nbformat": 4,
 "nbformat_minor": 2
}
