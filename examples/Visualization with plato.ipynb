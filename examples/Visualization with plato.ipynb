{
 "cells": [
  {
   "cell_type": "markdown",
   "metadata": {},
   "source": [
    "# Visualization with plato\n",
    "In this notebook, we run a Lennard-Jones simulation, color particles according to their local density, and display the results with [plato](https://github.com/glotzerlab/plato). Note that plato has multiple backends -- see the [plato documentation](http://plato-draw.readthedocs.io/) for information about each backend and the features it supports."
   ]
  },
  {
   "cell_type": "code",
   "execution_count": 1,
   "metadata": {},
   "outputs": [
    {
     "name": "stdout",
     "output_type": "stream",
     "text": [
      "HOOMD-blue v2.5.2-193-g82065a4dc DOUBLE HPMC_MIXED MPI TBB SSE SSE2 SSE3 SSE4_1 SSE4_2 AVX AVX2 \n",
      "Compiled: 05/11/2019\n",
      "Copyright (c) 2009-2019 The Regents of the University of Michigan.\n",
      "-----\n",
      "You are using HOOMD-blue. Please cite the following:\n",
      "* J A Anderson, C D Lorenz, and A Travesset. \"General purpose molecular dynamics\n",
      "  simulations fully implemented on graphics processing units\", Journal of\n",
      "  Computational Physics 227 (2008) 5342--5359\n",
      "* J Glaser, T D Nguyen, J A Anderson, P Liu, F Spiga, J A Millan, D C Morse, and\n",
      "  S C Glotzer. \"Strong scaling of general-purpose molecular dynamics simulations\n",
      "  on GPUs\", Computer Physics Communications 192 (2015) 97--107\n",
      "-----\n",
      "HOOMD-blue is running on the CPU\n",
      "notice(2): Group \"all\" created containing 1000 particles\n",
      "notice(2): -- Neighborlist exclusion statistics -- :\n",
      "notice(2): Particles with 0 exclusions             : 1000\n",
      "notice(2): Neighbors included by diameter          : no\n",
      "notice(2): Neighbors excluded when in the same body: no\n",
      "** starting run **\n",
      "Time 00:00:08 | Step 10000 / 10000 | TPS 1217.58 | ETA 00:00:00\n",
      "Average TPS: 1217.48\n",
      "---------\n",
      "-- Neighborlist stats:\n",
      "130 normal updates / 100 forced updates / 0 dangerous updates\n",
      "n_neigh_min: 0 / n_neigh_max: 120 / n_neigh_avg: 41.632\n",
      "shortest rebuild period: 29\n",
      "-- Cell list stats:\n",
      "Dimension: 4, 4, 4\n",
      "n_min    : 0 / n_max: 50 / n_avg: 15.625\n",
      "** run complete **\n"
     ]
    }
   ],
   "source": [
    "import hoomd\n",
    "import hoomd.md\n",
    "hoomd.context.initialize('')\n",
    "\n",
    "# Create a 10x10x10 simple cubic lattice of particles with type name A\n",
    "system = hoomd.init.create_lattice(unitcell=hoomd.lattice.sc(a=1.5, type_name='A'), n=10)\n",
    "\n",
    "# Specify Lennard-Jones interactions between particle pairs\n",
    "nl = hoomd.md.nlist.cell()\n",
    "lj = hoomd.md.pair.lj(r_cut=3.0, nlist=nl)\n",
    "lj.pair_coeff.set('A', 'A', epsilon=1.0, sigma=1.0)\n",
    "\n",
    "# Integrate at constant temperature\n",
    "hoomd.md.integrate.mode_standard(dt=0.005)\n",
    "integrator = hoomd.md.integrate.nvt(group=hoomd.group.all(), kT=0.01, tau=0.5)\n",
    "integrator.randomize_velocities(seed=42)\n",
    "\n",
    "# Run for 10,000 time steps\n",
    "hoomd.run(10e3)\n",
    "snap = system.take_snapshot()"
   ]
  },
  {
   "cell_type": "markdown",
   "metadata": {},
   "source": [
    "Now we import the modules needed for visualization."
   ]
  },
  {
   "cell_type": "code",
   "execution_count": 2,
   "metadata": {},
   "outputs": [],
   "source": [
    "import freud\n",
    "import matplotlib.cm\n",
    "import numpy as np\n",
    "import plato\n",
    "import plato.draw.pythreejs as draw\n",
    "from sklearn.preprocessing import minmax_scale"
   ]
  },
  {
   "cell_type": "code",
   "execution_count": 3,
   "metadata": {},
   "outputs": [
    {
     "data": {
      "application/vnd.jupyter.widget-view+json": {
       "model_id": "89e742217065453f98eca7dfe8b777ba",
       "version_major": 2,
       "version_minor": 0
      },
      "text/plain": [
       "Renderer(camera=OrthographicCamera(bottom=-15.0, children=(DirectionalLight(intensity=0.692820323027551, posit…"
      ]
     },
     "metadata": {},
     "output_type": "display_data"
    }
   ],
   "source": [
    "positions = snap.particles.position\n",
    "box = freud.box.Box.from_box(snap.box)\n",
    "ld = freud.density.LocalDensity(3.0, 1.0, 1.0)\n",
    "ld.compute(box, positions)\n",
    "colors = matplotlib.cm.viridis(minmax_scale(ld.density))\n",
    "radii = np.ones(len(positions)) * 0.5\n",
    "box_prim = draw.Lines(\n",
    "    start_points=[box.makeCoordinates([0, 0, 0]),\n",
    "                  box.makeCoordinates([0, 0, 0]),\n",
    "                  box.makeCoordinates([0, 0, 0]),\n",
    "                  box.makeCoordinates([1, 1, 0]),\n",
    "                  box.makeCoordinates([1, 1, 0]),\n",
    "                  box.makeCoordinates([1, 1, 0]),\n",
    "                  box.makeCoordinates([0, 1, 1]),\n",
    "                  box.makeCoordinates([0, 1, 1]),\n",
    "                  box.makeCoordinates([0, 1, 1]),\n",
    "                  box.makeCoordinates([1, 0, 1]),\n",
    "                  box.makeCoordinates([1, 0, 1]),\n",
    "                  box.makeCoordinates([1, 0, 1]),\n",
    "                 ],\n",
    "    end_points=[box.makeCoordinates([1, 0, 0]),\n",
    "                box.makeCoordinates([0, 1, 0]),\n",
    "                box.makeCoordinates([0, 0, 1]),\n",
    "                box.makeCoordinates([1, 0, 0]),\n",
    "                box.makeCoordinates([0, 1, 0]),\n",
    "                box.makeCoordinates([1, 1, 1]),\n",
    "                box.makeCoordinates([1, 1, 1]),\n",
    "                box.makeCoordinates([0, 1, 0]),\n",
    "                box.makeCoordinates([0, 0, 1]),\n",
    "                box.makeCoordinates([0, 0, 1]),\n",
    "                box.makeCoordinates([1, 1, 1]),\n",
    "                box.makeCoordinates([1, 0, 0]),\n",
    "               ],\n",
    "    widths=0.2,\n",
    "    colors=[[0, 0, 0, 1]]*12,\n",
    ")\n",
    "sphere_prim = draw.Spheres(\n",
    "    positions=snap.particles.position,\n",
    "    radii=radii,\n",
    "    colors=colors,\n",
    "    vertex_count=256)\n",
    "scene = draw.Scene((sphere_prim, box_prim), zoom=1.5)\n",
    "scene.show()"
   ]
  }
 ],
 "metadata": {
  "kernelspec": {
   "display_name": "Python 3",
   "language": "python",
   "name": "python3"
  },
  "language_info": {
   "codemirror_mode": {
    "name": "ipython",
    "version": 3
   },
   "file_extension": ".py",
   "mimetype": "text/x-python",
   "name": "python",
   "nbconvert_exporter": "python",
   "pygments_lexer": "ipython3",
   "version": "3.7.3"
  }
 },
 "nbformat": 4,
 "nbformat_minor": 2
}
