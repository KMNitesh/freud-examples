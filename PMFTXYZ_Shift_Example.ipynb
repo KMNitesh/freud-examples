{
 "cells": [
  {
   "cell_type": "markdown",
   "metadata": {},
   "source": [
    "# PMFT Shifting Example\n",
    "\n",
    "This notebook shows how to use the shifting option on PMFTXYZ to get high resolution views of PMFT features that are not centered"
   ]
  },
  {
   "cell_type": "code",
   "execution_count": 1,
   "metadata": {
    "collapsed": true
   },
   "outputs": [],
   "source": [
    "import numpy as np\n",
    "from freud import box, pmft\n",
    "\n",
    "from ipywidgets import IntProgress\n",
    "from IPython.display import display\n",
    "from scipy.interpolate import griddata\n",
    "from scipy.interpolate import RegularGridInterpolator\n",
    "\n",
    "import matplotlib.pyplot as plt\n",
    "# % matplotlib notebook"
   ]
  },
  {
   "cell_type": "markdown",
   "metadata": {},
   "source": [
    "First we load in our data. The particles used here are implemented with a simple Weeks-Chandler-Andersen isotropic pair potential, so particle orientation is not meaningful"
   ]
  },
  {
   "cell_type": "code",
   "execution_count": 43,
   "metadata": {
    "collapsed": true
   },
   "outputs": [],
   "source": [
    "pos_data = np.load('./ex_data/XYZ/positions.npy').astype(np.float32)\n",
    "box_data = np.load('./ex_data/XYZ/boxes.npy').astype(np.float32)"
   ]
  },
  {
   "cell_type": "markdown",
   "metadata": {},
   "source": [
    "We calculate the PMFT the same way as shown in other examples first"
   ]
  },
  {
   "cell_type": "code",
   "execution_count": 44,
   "metadata": {
    "collapsed": false
   },
   "outputs": [
    {
     "name": "stderr",
     "output_type": "stream",
     "text": [
      "/Users/bvansade/anaconda3/lib/python3.6/site-packages/ipykernel/__main__.py:31: RuntimeWarning: divide by zero encountered in log\n"
     ]
    }
   ],
   "source": [
    "window = 2**(1/6) # The size of the pmft calculation\n",
    "\n",
    "ProgressBar = IntProgress(min=0, max=pos_data.shape[0])\n",
    "display(ProgressBar)\n",
    "\n",
    "res = (100,100,100)\n",
    "pmft_arr = np.zeros(res)\n",
    "\n",
    "mypmft = pmft.PMFTXYZ(x_max=window, y_max=window, z_max=window, \n",
    "                  n_x=res[0], n_y=res[1], n_z=res[2])\n",
    "\n",
    "# This data is for isotropic particles, so we will just make some unit quaternions\n",
    "# to use as the orientations\n",
    "quats = np.zeros((pos_data.shape[1],4)).astype(np.float32)\n",
    "quats[:,0] = 1\n",
    "\n",
    "for i in range(10,pos_data.shape[0]):\n",
    "    ProgressBar.value = i\n",
    "    l_box = box_data[i]\n",
    "    fbox = box.Box(Lx=l_box[0], \n",
    "                   Ly=l_box[1], \n",
    "                   Lz=l_box[2],\n",
    "                   xy=l_box[3],\n",
    "                   xz=l_box[4],\n",
    "                   yz=l_box[5])\n",
    "\n",
    "    l_pos = pos_data[i]\n",
    "\n",
    "    mypmft.accumulate(fbox, l_pos, quats, l_pos, quats)\n",
    "\n",
    "unshifted = np.copy(mypmft.getPMFT()) \n",
    "\n",
    "x = mypmft.getX()\n",
    "y = mypmft.getY()\n",
    "z = mypmft.getZ()"
   ]
  },
  {
   "cell_type": "markdown",
   "metadata": {},
   "source": [
    "When we plot a centered slice of the XYZ pmft, we see that a number of wells are present at some distance from the origin"
   ]
  },
  {
   "cell_type": "code",
   "execution_count": 45,
   "metadata": {
    "collapsed": false
   },
   "outputs": [
    {
     "data": {
      "image/png": "[encoded data removed]",
      "text/plain": [
       "<matplotlib.figure.Figure at 0x10c822a58>"
      ]
     },
     "metadata": {},
     "output_type": "display_data"
    }
   ],
   "source": [
    "% matplotlib inline\n",
    "\n",
    "plt.figure(figsize=(10,10))\n",
    "plt.imshow(unshifted[int(res[0]/2),:,:])\n",
    "plt.colorbar()\n",
    "plt.show()"
   ]
  },
  {
   "cell_type": "markdown",
   "metadata": {},
   "source": [
    "If we want a closer look at the details of those wells, then we could increase the PMFT resolution. But this will increase the computational cost by a lot, and we are wasting a big percentage of the pixels.\n",
    "\n",
    "This use case is why the shiftvec argument was implemented. Now we will do the same calculation, but we will use a much smaller window centered on on of the wells.\n",
    "\n",
    "To do this we need to pass a vector into the PMFTXYZ construction. The window will be centered on this vector."
   ]
  },
  {
   "cell_type": "code",
   "execution_count": 46,
   "metadata": {
    "collapsed": false
   },
   "outputs": [
    {
     "name": "stderr",
     "output_type": "stream",
     "text": [
      "/Users/bvansade/anaconda3/lib/python3.6/site-packages/ipykernel/__main__.py:33: RuntimeWarning: divide by zero encountered in log\n"
     ]
    }
   ],
   "source": [
    "shiftvec = [0.82, 0.82, 0]\n",
    "\n",
    "window = 2**(1/6)/6 # Smaller window for the shifted case\n",
    "\n",
    "ProgressBar = IntProgress(min=0, max=pos_data.shape[0])\n",
    "display(ProgressBar)\n",
    "\n",
    "res = (50,50,50)\n",
    "pmft_arr = np.zeros(res)\n",
    "\n",
    "mypmft = pmft.PMFTXYZ(x_max=window, y_max=window, z_max=window, \n",
    "                  n_x=res[0], n_y=res[1], n_z=res[2], shiftvec=shiftvec)\n",
    "\n",
    "# This data is for isotropic particles, so we will just make some unit quaternions\n",
    "# to use as the orientations\n",
    "quats = np.zeros((pos_data.shape[1],4)).astype(np.float32)\n",
    "quats[:,0] = 1\n",
    "\n",
    "for i in range(10,pos_data.shape[0]):\n",
    "    ProgressBar.value = i\n",
    "    l_box = box_data[i]\n",
    "    fbox = box.Box(Lx=l_box[0], \n",
    "                   Ly=l_box[1], \n",
    "                   Lz=l_box[2],\n",
    "                   xy=l_box[3],\n",
    "                   xz=l_box[4],\n",
    "                   yz=l_box[5])\n",
    "\n",
    "    l_pos = pos_data[i]\n",
    "\n",
    "    mypmft.accumulate(fbox, l_pos, quats, l_pos, quats)\n",
    "\n",
    "shifted = np.copy(mypmft.getPMFT()) \n",
    "\n",
    "x = mypmft.getX()\n",
    "y = mypmft.getY()\n",
    "z = mypmft.getZ()"
   ]
  },
  {
   "cell_type": "markdown",
   "metadata": {},
   "source": [
    "Now the PMFT is a high resolution close up of one of the bonding wells. Note that as you increase the sampling resolution, you need to increase your number of samples because there is less averaging in each bin"
   ]
  },
  {
   "cell_type": "code",
   "execution_count": 47,
   "metadata": {
    "collapsed": false
   },
   "outputs": [
    {
     "data": {
      "image/png": "[encoded data removed]",
      "text/plain": [
       "<matplotlib.figure.Figure at 0x10c27fdd8>"
      ]
     },
     "metadata": {},
     "output_type": "display_data"
    }
   ],
   "source": [
    "% matplotlib inline\n",
    "\n",
    "plt.figure(figsize=(10,10))\n",
    "plt.imshow(shifted[int(res[2]/2),:,:])\n",
    "plt.colorbar()\n",
    "plt.show()"
   ]
  },
  {
   "cell_type": "code",
   "execution_count": null,
   "metadata": {
    "collapsed": true
   },
   "outputs": [],
   "source": []
  }
 ],
 "metadata": {
  "kernelspec": {
   "display_name": "Python 3",
   "language": "python",
   "name": "python3"
  },
  "language_info": {
   "codemirror_mode": {
    "name": "ipython",
    "version": 3
   },
   "file_extension": ".py",
   "mimetype": "text/x-python",
   "name": "python",
   "nbconvert_exporter": "python",
   "pygments_lexer": "ipython3",
   "version": "3.6.0"
  },
  "widgets": {
   "state": {
    "b89f27c0251542db85126dfbeca7d158": {
     "views": [
      {
       "cell_index": 5
      }
     ]
    },
    "cb9686d02a3d4a96b3a4c08e28dcb9ef": {
     "views": [
      {
       "cell_index": 9
      }
     ]
    }
   },
   "version": "1.2.0"
  }
 },
 "nbformat": 4,
 "nbformat_minor": 2
}
