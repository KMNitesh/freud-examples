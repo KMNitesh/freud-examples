{
 "cells": [
  {
   "cell_type": "markdown",
   "metadata": {},
   "source": [
    "# Density Module (Correlation Functions, Grain Detection)\n",
    "The density module is intended to compute a variety of quantities associated with particle distributions with respect to other particles. This example shows how the Correlation functions can be used to approximate the grain size within a system."
   ]
  },
  {
   "cell_type": "code",
   "execution_count": 1,
   "metadata": {
    "collapsed": true
   },
   "outputs": [],
   "source": [
    "import numpy as np\n",
    "import freud\n",
    "import matplotlib.pyplot as plt\n",
    "import matplotlib.cm as cm\n",
    "from matplotlib.collections import PatchCollection\n",
    "from matplotlib.patches import Rectangle\n",
    "from scipy.optimize import root"
   ]
  },
  {
   "cell_type": "markdown",
   "metadata": {},
   "source": [
    "First, let's start with a clearly phase separated ising lattice and assign type values (either -1 or 1)\n",
    "\n",
    "Based upon this set-up, we know that our grain radius will be $\\frac{2 s(\\ln{1+\\sqrt{2}})}{\\pi}$, where s is the sidelength of the square grain."
   ]
  },
  {
   "cell_type": "code",
   "execution_count": 2,
   "metadata": {},
   "outputs": [
    {
     "data": {
      "image/png": "[encoded data removed]",
      "text/plain": [
       "<matplotlib.figure.Figure at 0x10ebab7b8>"
      ]
     },
     "metadata": {},
     "output_type": "display_data"
    }
   ],
   "source": [
    "#Setup the system\n",
    "\n",
    "size=4\n",
    "dx=0.05\n",
    "num_grains=2\n",
    "dg=size/(num_grains)\n",
    "points=np.array([[i,j,0] for j in np.arange(0,size,dx) for i in np.arange(0,size,dx)])\n",
    "values=np.array([-1 for p in points])\n",
    "centroids=[[i*dg +0.5*dg, j*dg +0.5*dg,0] for i in range(num_grains) for j in range(num_grains)]\n",
    "rad=dg/3.5\n",
    "for p in centroids:\n",
    "    for k,pp in enumerate(points):\n",
    "        if(sum([(p[i]-pp[i])**2.0 for i in range(2)])<=rad**2.0):\n",
    "            values[k]=1\n",
    "\n",
    "plt.figure(figsize=(6,6))\n",
    "plt.scatter(points[values>0,:][:,0], points[values>0,:][:,1], marker='o', color='r', s=1000*dx/size)\n",
    "plt.scatter(points[values<0,:][:,0], points[values<0,:][:,1], marker='o', color='b', s=1000*dx/size)\n",
    "\n",
    "plt.plot([dx,1+dx],[-(size/10)*dx,-(size/10)*dx],c='k', marker=\"|\",linewidth=size/10, markersize=20, zorder=1)\n",
    "plt.text(x=0.5+dx, y=-1.1*(size/10)*dx, s='{}'.format(1), horizontalalignment='center', verticalalignment='top', fontsize=20, zorder=0)\n",
    "plt.gca().set_aspect('equal')\n",
    "plt.gca().set_xlim([-(size/10)*dx,size+dx])\n",
    "plt.gca().set_ylim([-(size/10)*dx,size+dx])\n",
    "plt.axis('off')\n",
    "plt.show()"
   ]
  },
  {
   "cell_type": "markdown",
   "metadata": {},
   "source": [
    "Let's first find the clusters."
   ]
  },
  {
   "cell_type": "code",
   "execution_count": 3,
   "metadata": {},
   "outputs": [],
   "source": [
    "box = freud.box.Box.square(L=size)\n",
    "cl = freud.cluster.Cluster(box=box, rcut=size/5.)\n",
    "cluster_idx = cl.computeClusters(points[values>0,:]).cluster_idx"
   ]
  },
  {
   "cell_type": "markdown",
   "metadata": {},
   "source": [
    "Now we'll find each cluster centroid"
   ]
  },
  {
   "cell_type": "code",
   "execution_count": 4,
   "metadata": {},
   "outputs": [
    {
     "data": {
      "text/plain": [
       "<freud._freud.ClusterProperties at 0x10eb5eeb8>"
      ]
     },
     "execution_count": 4,
     "metadata": {},
     "output_type": "execute_result"
    }
   ],
   "source": [
    "clp = freud.cluster.ClusterProperties(box=box)\n",
    "clp.computeProperties(points[values>0,:], cl.cluster_idx)"
   ]
  },
  {
   "cell_type": "markdown",
   "metadata": {},
   "source": [
    "Now we create a box and a density compute object."
   ]
  },
  {
   "cell_type": "code",
   "execution_count": 5,
   "metadata": {
    "collapsed": true
   },
   "outputs": [],
   "source": [
    "fcf = freud.density.FloatCF(rmax=size/4., dr=dx/2.)\n",
    "fcf.resetCorrelationFunction()"
   ]
  },
  {
   "cell_type": "markdown",
   "metadata": {},
   "source": [
    "Now we compute the product of type values. Knowing that two sites with the same type will have a product of 1, we can estimate the radius of a grain as $r_{PCF}=0$. We will only calculate the radii of the red type."
   ]
  },
  {
   "cell_type": "code",
   "execution_count": 6,
   "metadata": {
    "scrolled": true
   },
   "outputs": [
    {
     "name": "stdout",
     "output_type": "stream",
     "text": [
      "The expected grain size is of Cluster 0 is 0.571. Real radius is 0.5750906765460968\n",
      "The expected grain size is of Cluster 1 is 0.571. Real radius is 0.5750906765460968\n",
      "The expected grain size is of Cluster 2 is 0.571. Real radius is 0.5750906765460968\n",
      "The expected grain size is of Cluster 3 is 0.571. Real radius is 0.5750906765460968\n",
      "Overall average is 0.5751\n"
     ]
    },
    {
     "data": {
      "image/png": "[encoded data removed]",
      "text/plain": [
       "<matplotlib.figure.Figure at 0x10ec65518>"
      ]
     },
     "metadata": {},
     "output_type": "display_data"
    }
   ],
   "source": [
    "plt.figure(figsize=(8, 5))\n",
    "weights=[]\n",
    "sizes=[]\n",
    "for cluster_id in range(cl.num_clusters):\n",
    "    fcf.compute(box=box,             \n",
    "                ref_points=points, #all points in the system\n",
    "                refValues=values, #all types in the system\n",
    "                points=[clp.cluster_COM[cluster_id]],\n",
    "                values=[1])\n",
    "    # get the center of the histogram bins\n",
    "    r = fcf.getR()\n",
    "    # get the value of the histogram bins\n",
    "    y = fcf.getRDF()\n",
    "    grainsize=y[y>0][-1]*(r[y<0][0]-r[y>0][-1])/(-y[y<0][0]+y[y>0][-1])+r[y>0][-1]\n",
    "    print('The expected grain size is of Cluster {} is {}. Real radius is {}'.format(cluster_id, round(rad,3), grainsize))\n",
    "\n",
    "    plt.plot(r,y)\n",
    "    plt.scatter(x=grainsize, y=0,c='r', label='Cluster {}, Radius = {}'.format(cluster_id, round(grainsize,4)))\n",
    "\n",
    "    weights.append(len(np.where(cluster_idx == cluster_id)[0]))\n",
    "    sizes.append(grainsize)\n",
    "    \n",
    "print('Overall average is {}'.format(round(sum([a*w for a,w in zip(sizes, weights)])/sum(weights),4)))\n",
    "plt.title(\"RDF - Single Frame\")\n",
    "plt.xlabel(r\"$r$\")\n",
    "plt.legend()\n",
    "plt.tight_layout()\n",
    "plt.show()"
   ]
  },
  {
   "cell_type": "markdown",
   "metadata": {},
   "source": [
    "Now, let's setup a more complex system"
   ]
  },
  {
   "cell_type": "code",
   "execution_count": 103,
   "metadata": {
    "scrolled": true
   },
   "outputs": [
    {
     "data": {
      "image/png": "[encoded data removed]",
      "text/plain": [
       "<matplotlib.figure.Figure at 0x10fa2e978>"
      ]
     },
     "metadata": {},
     "output_type": "display_data"
    }
   ],
   "source": [
    "#Setup the system\n",
    "\n",
    "size=10\n",
    "dx=0.25\n",
    "points=np.array([[i,j,0] for j in np.arange(0,size,dx) for i in np.arange(0,size,dx)])\n",
    "values=np.array([-1 for p in points])\n",
    "nclusters=0\n",
    "while(nclusters<3):\n",
    "    r=np.random.uniform(0,size/4.)\n",
    "    \n",
    "    p=np.random.choice([i for i,v in enumerate(values) if v<0])# and all([vv<0 for p,vv in zip(points, values) if sum([(points[i][x]-p[x])**2.0 for x in range(3)])<=(1.2*r)**2.0])])\n",
    "    for k,pp in enumerate(points):\n",
    "        if(sum([(points[p][i]-pp[i])**2.0 for i in range(3)])<=r**2.0):\n",
    "            values[k]=1\n",
    "    nclusters+=1\n",
    "markers=['_' if v<0 else \"+\" for v in values]\n",
    "plt.figure(figsize=(6,6))\n",
    "plt.plot([0,1],[-(size/5)*dx,-(size/5)*dx],c='k', marker=\"|\",linewidth=size/10, markersize=20, zorder=1)\n",
    "plt.text(x=0.5, y=-1.1*(size/5)*dx, s='{}'.format(1), horizontalalignment='center', verticalalignment='top', fontsize=20, zorder=0)\n",
    "plt.scatter(points[values>0,:][:,0], points[values>0,:][:,1], marker='o', color='r', s=1000/(size/dx), zorder=0)\n",
    "plt.scatter(points[values<0,:][:,0], points[values<0,:][:,1], marker='o', color='b', s=1000/(size/dx), zorder=0)\n",
    "plt.gca().set_aspect('equal')\n",
    "plt.gca().set_xlim([-(size/5)*dx,size])\n",
    "plt.gca().set_ylim([-(size/5)*dx,size])\n",
    "plt.axis('off')\n",
    "plt.show()"
   ]
  },
  {
   "cell_type": "markdown",
   "metadata": {},
   "source": [
    "Now we create a box and a density compute object."
   ]
  },
  {
   "cell_type": "code",
   "execution_count": 108,
   "metadata": {},
   "outputs": [
    {
     "name": "stdout",
     "output_type": "stream",
     "text": [
      "Rerunning...\n",
      "Resetting...\n",
      "\n",
      "1\n"
     ]
    }
   ],
   "source": [
    "rcut=size/4.01\n",
    "box = freud.box.Box.square(L=size)\n",
    "cl = freud.cluster.Cluster(box=box, rcut=rcut)\n",
    "cluster_idx = cl.computeClusters(points[values>0,:]).cluster_idx\n",
    "while(len(set(cluster_idx))<=nclusters and rcut>dx):\n",
    "    rcut-=0.01*dx\n",
    "    cl = freud.cluster.Cluster(box=box, rcut=rcut)\n",
    "    cluster_idx = cl.computeClusters(points[values>0,:]).cluster_idx\n",
    "    if(rcut<0):\n",
    "        break\n",
    "if(len(set(cluster_idx))>100):\n",
    "    print('Rerunning...')\n",
    "    while(len(set(cluster_idx))<=1 and rcut>dx):\n",
    "        rcut-=0.1*dx\n",
    "        cl = freud.cluster.Cluster(box=box, rcut=rcut)\n",
    "        cluster_idx = cl.computeClusters(points[values>0,:]).cluster_idx\n",
    "        if(rcut<0):\n",
    "            break    \n",
    "if(len(set(cluster_idx))>100):\n",
    "    print('Resetting...')\n",
    "    rcut=size/4.01\n",
    "    box = freud.box.Box.square(L=size)\n",
    "    cl = freud.cluster.Cluster(box=box, rcut=rcut)\n",
    "    cluster_idx = cl.computeClusters(points[values>0,:]).cluster_idx\n",
    "print()\n",
    "print(len(set(cluster_idx)))"
   ]
  },
  {
   "cell_type": "markdown",
   "metadata": {},
   "source": [
    "Now we'll find each cluster centroid"
   ]
  },
  {
   "cell_type": "code",
   "execution_count": 93,
   "metadata": {},
   "outputs": [
    {
     "data": {
      "text/plain": [
       "<freud._freud.ClusterProperties at 0x10fb38828>"
      ]
     },
     "execution_count": 93,
     "metadata": {},
     "output_type": "execute_result"
    }
   ],
   "source": [
    "clp = freud.cluster.ClusterProperties(box=box)\n",
    "clp.computeProperties(points[values>0,:], cl.cluster_idx)"
   ]
  },
  {
   "cell_type": "markdown",
   "metadata": {},
   "source": [
    "Now we create a box and a density compute object."
   ]
  },
  {
   "cell_type": "code",
   "execution_count": 94,
   "metadata": {
    "collapsed": true
   },
   "outputs": [],
   "source": [
    "fcf = freud.density.FloatCF(rmax=size/2., dr=dx/2.)\n",
    "fcf.resetCorrelationFunction()"
   ]
  },
  {
   "cell_type": "markdown",
   "metadata": {},
   "source": [
    "Now we compute the product of type values. Knowing that two sites with the same type will have a product of 1, we can estimate the radius of a grain as $r_{PCF}=0$. We will only calculate the radii of the red type."
   ]
  },
  {
   "cell_type": "code",
   "execution_count": 95,
   "metadata": {
    "scrolled": false
   },
   "outputs": [
    {
     "name": "stdout",
     "output_type": "stream",
     "text": [
      "Cluster 0 radius is 0.6554909358764517\n",
      "Overall average is 0.6555\n"
     ]
    },
    {
     "data": {
      "image/png": "[encoded data removed]",
      "text/plain": [
       "<matplotlib.figure.Figure at 0x10ad1b9e8>"
      ]
     },
     "metadata": {},
     "output_type": "display_data"
    }
   ],
   "source": [
    "plt.figure(figsize=(8, 5))\n",
    "weights=[]\n",
    "sizes=[]\n",
    "for cluster_id in range(cl.num_clusters):\n",
    "    fcf.compute(box=box,             \n",
    "                ref_points=points, #all points in the system\n",
    "                refValues=values, #all types in the system\n",
    "                points=[clp.cluster_COM[cluster_id]],\n",
    "                values=[1])\n",
    "    # get the center of the histogram bins\n",
    "    r = fcf.getR()\n",
    "    # get the value of the histogram bins\n",
    "    y = fcf.getRDF()\n",
    "    grainsize=y[y>0][-1]*(r[y<0][0]-r[y>0][-1])/(-y[y<0][0]+y[y>0][-1])+r[y>0][-1]\n",
    "    print('Cluster {} radius is {}'.format(cluster_id, grainsize))\n",
    "\n",
    "    plt.plot(r,y)\n",
    "    plt.scatter(x=grainsize, y=0,label='Cluster {}, Radius = {}'.format(cluster_id, round(grainsize,4)))\n",
    "\n",
    "    weights.append(len(np.where(cluster_idx == cluster_id)[0]))\n",
    "    sizes.append(grainsize)\n",
    "    \n",
    "print('Overall average is {}'.format(round(sum([a*w for a,w in zip(sizes, weights)])/sum(weights),4)))\n",
    "plt.title(\"RDF - Single Frame\")\n",
    "plt.xlabel(r\"$r$\")\n",
    "plt.legend()\n",
    "plt.tight_layout()\n",
    "plt.show()"
   ]
  },
  {
   "cell_type": "code",
   "execution_count": null,
   "metadata": {
    "collapsed": true
   },
   "outputs": [],
   "source": []
  },
  {
   "cell_type": "code",
   "execution_count": null,
   "metadata": {
    "collapsed": true
   },
   "outputs": [],
   "source": []
  }
 ],
 "metadata": {
  "kernelspec": {
   "display_name": "Python 3",
   "language": "python",
   "name": "python3"
  },
  "language_info": {
   "codemirror_mode": {
    "name": "ipython",
    "version": 3
   },
   "file_extension": ".py",
   "mimetype": "text/x-python",
   "name": "python",
   "nbconvert_exporter": "python",
   "pygments_lexer": "ipython3",
   "version": "3.6.5"
  }
 },
 "nbformat": 4,
 "nbformat_minor": 2
}
